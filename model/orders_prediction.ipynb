{
 "cells": [
  {
   "cell_type": "markdown",
   "source": [
    "# Orders prediction model"
   ],
   "metadata": {
    "collapsed": false
   }
  },
  {
   "cell_type": "code",
   "execution_count": 1,
   "outputs": [
    {
     "name": "stdout",
     "output_type": "stream",
     "text": [
      "514739\n"
     ]
    }
   ],
   "source": [
    "import polars as pl\n",
    "\n",
    "df_schema = {\"session\": pl.UInt32, \"events\": pl.List(pl.Struct({\"aid\": pl.UInt32, \"ts\": pl.UInt32, \"type\": pl.Utf8}))}\n",
    "test_sessions_df = (\n",
    "    pl.read_ndjson(\"../data/test/test_sessions.jsonl\", schema=df_schema, low_memory=True)\n",
    "    .explode(\"events\")\n",
    "    .unnest(\"events\")\n",
    "    .sort([\"session\", \"ts\"], descending=[False, True])\n",
    ")\n",
    "\n",
    "print(test_sessions_df.select(\"session\").n_unique())"
   ],
   "metadata": {
    "collapsed": false
   }
  },
  {
   "cell_type": "code",
   "execution_count": 3,
   "outputs": [
    {
     "name": "stdout",
     "output_type": "stream",
     "text": [
      "shape: (514_739, 2)\n",
      "┌───────────────┬─────────────────────────────────┐\n",
      "│ session_type  ┆ labels                          │\n",
      "│ ---           ┆ ---                             │\n",
      "│ str           ┆ str                             │\n",
      "╞═══════════════╪═════════════════════════════════╡\n",
      "│ 434547_orders ┆ 368671 1840418 742592 298320 1… │\n",
      "│ 335466_orders ┆ 1601965 1028090 1313390 721205… │\n",
      "│ 458550_orders ┆ 1822672 1643318 1665617 104099… │\n",
      "│ 323250_orders ┆ 19907 421691 669254 1429191 92… │\n",
      "│ 310415_orders ┆ 1036076 1022319 1205469 960792… │\n",
      "│ …             ┆ …                               │\n",
      "│ 117838_orders ┆ 506852 1439896 1196308 1085166… │\n",
      "│ 328064_orders ┆ 975052 506144 370131 1548418 8… │\n",
      "│ 337386_orders ┆ 942367 1323899 9268 1570571 82… │\n",
      "│ 435690_orders ┆ 1637932 312854 334903 181952 7… │\n",
      "│ 20701_orders  ┆ 1617987 1600051 1634903 669402… │\n",
      "└───────────────┴─────────────────────────────────┘\n"
     ]
    }
   ],
   "source": [
    "# Try out carts predictions as orders predictions\n",
    "# Recall@20: 0.6179312304631998\n",
    "# MRR@20: 0.614267014584525\n",
    "\n",
    "asdf = (\n",
    "    pl.read_csv(\"out/carts_predictions.csv\")\n",
    "    .with_columns(session_type=pl.col(\"session_type\").str.replace(\"carts\", \"orders\"))\n",
    ")\n",
    "print(asdf)\n",
    "\n",
    "asdf.write_csv(\"out/orders_predictions.csv\")"
   ],
   "metadata": {
    "collapsed": false
   }
  },
  {
   "cell_type": "code",
   "execution_count": 52,
   "outputs": [],
   "source": [
    "df_schema = {\"click_aid\": pl.UInt32, \"cart_aid\": pl.UInt32, \"probability\": pl.Float32}\n",
    "click_to_cart_matrix_df = (\n",
    "    pl.read_csv(\"../matrices/click_to_cart_matrix_time-decay.csv\", schema=df_schema)\n",
    "    .sort([\"click_aid\", \"probability\"], descending=[False, True])\n",
    "    .group_by(\"click_aid\")\n",
    "    # Take top 300 probabilities\n",
    "    .agg(pl.all().top_k_by(\"probability\", 300))\n",
    "    .explode([\"cart_aid\", \"probability\"])\n",
    "    .lazy()\n",
    ")\n",
    "\n",
    "df_schema = {\"cart_aid\": pl.UInt32, \"order_aid\": pl.UInt32, \"probability\": pl.Float32}\n",
    "cart_to_order_matrix_df = (\n",
    "    pl.read_csv(\"../matrices/cart_to_order_matrix.csv\", schema=df_schema)\n",
    "    .sort([\"cart_aid\", \"probability\"], descending=[False, True])\n",
    "    .group_by(\"cart_aid\")\n",
    "    # Take top 300 probabilities\n",
    "    .agg(pl.all().top_k_by(\"probability\", 300))\n",
    "    .explode([\"order_aid\", \"probability\"])\n",
    "    .lazy()\n",
    ")\n",
    "\n",
    "df_schema = {\"aid\": pl.UInt32, \"incompatible_aid\": pl.UInt32}\n",
    "incompatible_matrix_df = pl.read_csv(\"../matrices/incompatible_matrix.csv\", schema=df_schema)"
   ],
   "metadata": {
    "collapsed": false
   }
  },
  {
   "cell_type": "code",
   "execution_count": 3,
   "outputs": [
    {
     "name": "stdout",
     "output_type": "stream",
     "text": [
      "shape: (967_224, 2)\n",
      "┌─────────┬─────────┐\n",
      "│ session ┆ aid     │\n",
      "│ ---     ┆ ---     │\n",
      "│ u32     ┆ u32     │\n",
      "╞═════════╪═════════╡\n",
      "│ 432719  ┆ 1556154 │\n",
      "│ 67781   ┆ 324049  │\n",
      "│ 67781   ┆ 737665  │\n",
      "│ 67781   ┆ 420612  │\n",
      "│ 67781   ┆ 1511010 │\n",
      "│ …       ┆ …       │\n",
      "│ 225428  ┆ 977737  │\n",
      "│ 186262  ┆ 330729  │\n",
      "│ 98676   ┆ 1133102 │\n",
      "│ 48863   ┆ 586206  │\n",
      "│ 72738   ┆ 1145385 │\n",
      "└─────────┴─────────┘\n",
      "514739\n"
     ]
    }
   ],
   "source": [
    "last_unique_aids_of_session = (\n",
    "    test_sessions_df\n",
    "    .drop(\"type\")\n",
    "    # Only last unique clicks\n",
    "    .with_columns(ts=pl.col(\"ts\").max().over([\"session\", \"aid\"]))\n",
    "    .unique()\n",
    "    .group_by(\"session\")\n",
    "    .agg(pl.all().top_k_by(\"ts\", 5))\n",
    "    .explode([\"aid\", \"ts\"])\n",
    "    .drop(\"ts\")\n",
    "    .lazy()\n",
    ")\n",
    "\n",
    "print(last_unique_aids_of_session.collect(streaming=True))\n",
    "print(last_unique_aids_of_session.select(\"session\").collect(streaming=True).n_unique())"
   ],
   "metadata": {
    "collapsed": false
   }
  },
  {
   "cell_type": "code",
   "execution_count": 4,
   "outputs": [
    {
     "name": "stdout",
     "output_type": "stream",
     "text": [
      "shape: (113_401, 2)\n",
      "┌─────────┬─────────┐\n",
      "│ session ┆ aid     │\n",
      "│ ---     ┆ ---     │\n",
      "│ u32     ┆ u32     │\n",
      "╞═════════╪═════════╡\n",
      "│ 264343  ┆ 460141  │\n",
      "│ 266688  ┆ 777207  │\n",
      "│ 345270  ┆ 510418  │\n",
      "│ 368142  ┆ 656983  │\n",
      "│ 382166  ┆ 1059174 │\n",
      "│ …       ┆ …       │\n",
      "│ 355671  ┆ 773854  │\n",
      "│ 39509   ┆ 378028  │\n",
      "│ 292770  ┆ 109143  │\n",
      "│ 400142  ┆ 167050  │\n",
      "│ 113850  ┆ 731049  │\n",
      "└─────────┴─────────┘\n",
      "67602\n"
     ]
    }
   ],
   "source": [
    "unique_carts_or_orders = (\n",
    "    test_sessions_df\n",
    "    .filter(pl.col(\"type\") != \"clicks\")\n",
    "    .drop(\"type\")\n",
    "    # Only last unique carts and orders\n",
    "    .with_columns(ts=pl.col(\"ts\").max().over(\"session\", \"aid\"))\n",
    "    .unique()\n",
    "    .drop(\"ts\")\n",
    "    .lazy()\n",
    ")\n",
    "\n",
    "print(unique_carts_or_orders.collect(streaming=True))\n",
    "print(unique_carts_or_orders.select(\"session\").collect(streaming=True).n_unique())"
   ],
   "metadata": {
    "collapsed": false
   }
  },
  {
   "cell_type": "code",
   "execution_count": 53,
   "outputs": [
    {
     "name": "stdout",
     "output_type": "stream",
     "text": [
      "shape: (514_739, 2)\n",
      "┌───────────────┬─────────────────────────────────┐\n",
      "│ session_type  ┆ labels                          │\n",
      "│ ---           ┆ ---                             │\n",
      "│ str           ┆ str                             │\n",
      "╞═══════════════╪═════════════════════════════════╡\n",
      "│ 139751_orders ┆ 610440 713521 1025795 1347813 … │\n",
      "│ 391287_orders ┆ 710190 1654143 1034271 1795367… │\n",
      "│ 19942_orders  ┆ 1231721 910034 1618565 385496 … │\n",
      "│ 469146_orders ┆ 626372 970776 950799 1285918 9… │\n",
      "│ 17188_orders  ┆ 75524 1483040 1168818 1351094 … │\n",
      "│ …             ┆ …                               │\n",
      "│ 212334_orders ┆ 1771439 466890 140070 1693598 … │\n",
      "│ 487849_orders ┆ 951559 1462420 1236505 1264794… │\n",
      "│ 38779_orders  ┆ 497637 607191 172121 1114091 2… │\n",
      "│ 242598_orders ┆ 1577006 1046513 1574266 102231… │\n",
      "│ 344972_orders ┆ 1247867 942953 1656987 766107 … │\n",
      "└───────────────┴─────────────────────────────────┘\n"
     ]
    }
   ],
   "source": [
    "w_click_to_order = 1\n",
    "w_cart_to_order = 1\n",
    "\n",
    "click_to_order_predictions_df = (\n",
    "    last_unique_aids_of_session\n",
    "    .join(click_to_cart_matrix_df, left_on=\"aid\", right_on=\"click_aid\", how=\"left\")\n",
    "    # Fill missing values\n",
    "    .with_columns(\n",
    "        order_aid=pl.when(pl.col(\"cart_aid\").is_null()).then(pl.col(\"aid\")).otherwise(pl.col(\"cart_aid\")),\n",
    "        probability=pl.when(pl.col(\"probability\").is_null()).then(pl.lit(0.0)).otherwise(pl.col(\"probability\"))\n",
    "    )\n",
    "    .drop(\"cart_aid\")\n",
    "    # bias to the recently clicked aids\n",
    "    .with_columns(bias=pl.when(pl.col(\"aid\") == pl.col(\"order_aid\")).then(1).otherwise(0).cast(pl.Float32))\n",
    "    .with_columns(probability=(pl.col(\"probability\") + pl.col(\"bias\")))\n",
    "    .group_by([\"session\", \"order_aid\"])\n",
    "    .agg(pl.col(\"probability\").sum())\n",
    "    .with_columns(probability=pl.col(\"probability\") * w_click_to_order)\n",
    ")\n",
    "\n",
    "cart_to_order_predictions_df = (\n",
    "    unique_carts_or_orders\n",
    "    .join(cart_to_order_matrix_df, left_on=\"aid\", right_on=\"cart_aid\", how=\"left\")\n",
    "    # Fill missing values\n",
    "    .with_columns(\n",
    "        order_aid=pl.when(pl.col(\"order_aid\").is_null()).then(pl.col(\"aid\")).otherwise(pl.col(\"order_aid\")),\n",
    "        probability=pl.when(pl.col(\"probability\").is_null()).then(pl.lit(0.0)).otherwise(pl.col(\"probability\"))\n",
    "    )\n",
    "    # bias to the recently carted or ordered aids\n",
    "    .with_columns(bias=pl.when(pl.col(\"aid\") == pl.col(\"order_aid\")).then(1).otherwise(0).cast(pl.Float32))\n",
    "    .with_columns(probability=(pl.col(\"probability\") + pl.col(\"bias\")))\n",
    "    .group_by([\"session\", \"order_aid\"])\n",
    "    .agg(pl.col(\"probability\").sum())\n",
    "    .with_columns(probability=pl.col(\"probability\") * w_cart_to_order)\n",
    ")\n",
    "\n",
    "incompatible_aids_for_sessions = (\n",
    "    test_sessions_df\n",
    "    .filter(pl.col(\"type\") != \"clicks\")\n",
    "    .drop([\"type\", \"ts\"])\n",
    "    .join(incompatible_matrix_df, on=\"aid\", how=\"inner\")\n",
    "    .select([\"session\", \"incompatible_aid\"])\n",
    "    .with_columns(bias=pl.lit(-1).cast(pl.Float32))\n",
    "    .unique()\n",
    "    .lazy()\n",
    ")\n",
    "\n",
    "orders_prediction_df = (\n",
    "    pl.concat([\n",
    "        click_to_order_predictions_df,\n",
    "        cart_to_order_predictions_df\n",
    "    ])\n",
    "    .group_by([\"session\", \"order_aid\"])\n",
    "    .agg(pl.col(\"probability\").sum())\n",
    "    # Filter out incompatible aids\n",
    "    .join(incompatible_aids_for_sessions, left_on=[\"session\", \"order_aid\"], right_on=[\"session\", \"incompatible_aid\"], how=\"left\")\n",
    "    .with_columns(probability=pl.when(pl.col(\"bias\").is_not_null()).then(pl.col(\"probability\") - pl.col(\"bias\")).otherwise(pl.col(\"probability\")))\n",
    "    .drop(\"bias\")\n",
    "    .group_by(\"session\")\n",
    "    .agg(pl.col(\"order_aid\").top_k_by(\"probability\", 20).cast(str))\n",
    "    .with_columns(\n",
    "        (pl.col(\"session\").cast(str) + \"_orders\"),\n",
    "        pl.col(\"order_aid\").list.join(separator=' ')\n",
    "    )\n",
    "    .rename({\"session\": \"session_type\", \"order_aid\": \"labels\"})\n",
    "    .collect(streaming=True)\n",
    ")\n",
    "\n",
    "print(orders_prediction_df)\n",
    "\n",
    "# write to csv\n",
    "orders_prediction_df.write_csv(\"out/orders_predictions_1.csv\")\n",
    "\n",
    "# Click to order matrix\n",
    "# Recall@20: 0.5534242682580278\n",
    "# MRR@20: 0.599049896606218\n",
    "\n",
    "# Click to cart matrix\n",
    "# Recall@20: 0.5997087240693378\n",
    "# MRR@20: 0.6260726606889974\n",
    "\n",
    "# Last 5 unique aid clicks, last 5 unique carts or orders of session.\n",
    "# click_to_cart_matrix_time-decay, cart_to_order_matrix at 1/1 weights. Top 300 probabilities\n",
    "# Recall@20 score: 0.6542696788860471\n",
    "# Recall@10 score: 0.6437286305560554\n",
    "# Recall@5 score: 0.624019312009656\n",
    "# MRR@20 score: 0.6905953832353601\n",
    "# MRR@10 score: 0.6895777934357278\n",
    "# MRR@5 score: 0.6858750496059938\n",
    "\n",
    "# Last 5 unique aid clicks, last 5 unique carts or orders of session.\n",
    "# click_to_cart_matrix_time-decay, cart_to_order_matrix at 0.7/0.3 weights. Top 300 probabilities\n",
    "# Recall@20 score: 0.6550156294401819\n",
    "# MRR@20 score: 0.6835478620037696\n",
    "\n",
    "# Last 5 unique aid events, all unique carts or orders of session.\n",
    "# click_to_cart_matrix_time-decay, cart_to_order_matrix at 1/1 weights. Top 300 probabilities\n",
    "# Recall@20 score: 0.677536231884058, Best without incompatibility\n",
    "# Recall@10 score: 0.659744466438726\n",
    "# Recall@5 score: 0.6256412190706095\n",
    "# MRR@20 score: 0.6910628091208602, Best without incompatibility\n",
    "# MRR@10 score: 0.6900476892384084\n",
    "# MRR@5 score: 0.6860281195079151\n",
    "\n",
    "# Incompatible matrix makes the Recall slightly better. MRR is a bit more better.\n",
    "\n",
    "# Incompatible matrix top 2 % of most ordered aids and Jaccard similarity of over 0.5. Incompatible aids removed\n",
    "# Recall@20 score: 0.67718101733447\n",
    "# MRR@20 score: 0.6911231521015865\n",
    "\n",
    "# Incompatible matrix top 2 % of most ordered aids and Jaccard similarity of over 0.5. Negative bias -0.5\n",
    "# Recall@20 score: 0.6773231031543052\n",
    "# MRR@20 score: 0.6913478922666909\n",
    "\n",
    "# Incompatible matrix top 2 % of most ordered aids and Jaccard similarity of over 0.5. Negative bias -1.0\n",
    "# Recall@20 score: 0.6773231031543052\n",
    "# MRR@20 score: 0.6913698595275813\n",
    "\n",
    "# Incompatible matrix top 2 % of most ordered aids and Jaccard similarity of over 0.8. Negative bias -1.0\n",
    "# Recall@20 score: 0.677536231884058\n",
    "# MRR@20 score: 0.6913294719369799\n",
    "\n",
    "# Incompatible matrix top 2 % of most ordered aids and Jaccard similarity of over 0.8. Bought together <= 2 times.  Negative bias -1.0\n",
    "# Recall@20 score: 0.6775717533390168\n",
    "# MRR@20 score: 0.6914304417337004\n",
    "\n",
    "# Incompatible matrix top 2 % of most ordered aids and Jaccard similarity of over 0.8. Bought together <= 3 times.  Negative bias -1.0\n",
    "# Recall@20 score: 0.677536231884058\n",
    "# MRR@20 score: 0.6913237549779616\n",
    "\n",
    "# Incompatible matrix top 5 % of most ordered aids and Jaccard similarity of over 0.8. Bought together <= 2 times.  Negative bias -1.0\n",
    "# Recall@20 score: 0.677536231884058\n",
    "# MRR@20 score: 0.6913697696701736\n",
    "\n",
    "# Incompatible matrix top 8 % of most ordered aids and Jaccard similarity of over 0.8. Bought together <= 2 times.  Negative bias -1.0\n",
    "# Recall@20 score: 0.6775007104290992\n",
    "# MRR@20 score: 0.6913392712477666\n",
    "\n",
    "# Incompatible matrix top 5 % of most ordered aids. Context top 10 % of click cart pairs by count. Jaccard similarity of over 0.8. Bought together <= 2 times. Negative bias -1.0\n",
    "# Recall@20 score: 0.6774296675191815\n",
    "# MRR@20 score: 0.6911825649529987\n",
    "\n",
    "# Incompatible matrix top 5 % of most ordered aids. Context top 5 % of click cart pairs by count. Jaccard similarity of over 0.8. Bought together <= 0 times. Negative bias -1.0\n",
    "# Recall@20 score: 0.6774651889741404\n",
    "# MRR@20 score: 0.6913228951552656\n",
    "\n",
    "# Incompatible matrix top 10 % of most ordered aids. Context top 5 % of click cart pairs by count. Jaccard similarity of over 0.8. Bought together <= 0 times. Negative bias -1.0\n",
    "# Recall@20 score: 0.677536231884058\n",
    "# MRR@20 score: 0.6913481897418945\n",
    "\n",
    "# Incompatible matrix top 10 % of most ordered aids. Context top 5 % of click cart pairs by count. Jaccard similarity of over 0.9. Bought together <= 0 times. Negative bias -1.0\n",
    "# Recall@20 score: 0.6774651889741404\n",
    "# MRR@20 score: 0.6913180511867457\n",
    "\n",
    "# Incompatible matrix top 10 % of most ordered aids. Context top 5 % of click cart pairs by count. Jaccard similarity of over 0.8. Bought together <= 2 times. Negative bias -1.0\n",
    "# Recall@20 score: 0.677358624609264\n",
    "# MRR@20 score: 0.6915029395222976, Best\n",
    "\n",
    "# Incompatible matrix top 10 % of most ordered aids. Context top 10 % of click cart pairs by count. Jaccard similarity of over 0.8. Bought together <= 0 times. Negative bias -1.0\n",
    "# Recall@20 score: 0.6775007104290992\n",
    "# MRR@20 score: 0.691334254805628\n",
    "\n",
    "# Incompatible matrix top 5 % of most carted aids. Context top 20 % of click cart pairs by count. Jaccard similarity of over 0.8. Allowed order together count 0. Negative bias -1.0\n",
    "# Recall@20 score: 0.6775717533390168\n",
    "# MRR@20 score: 0.6914690785250134\n",
    "\n",
    "# Incompatible matrix top 5 % of most carted aids. Context top 20 % of click cart pairs by count. Jaccard similarity of over 0.8. Allowed order together count 1. Negative bias -1.0\n",
    "# Recall@20 score: 0.677536231884058\n",
    "# MRR@20 score: 0.6913606473515124\n",
    "\n",
    "# Incompatible matrix top 10 % of most carted aids. Context top 20 % of click cart pairs by count. Jaccard similarity of over 0.8. Allowed order together count 0. Negative bias -1.0\n",
    "# Recall@20 score: 0.677536231884058\n",
    "# MRR@20 score: 0.6913460936298248\n",
    "\n",
    "# Incompatible matrix top 5 % of most carted aids. Context top 25 % of click cart pairs by count. Jaccard similarity of over 0.8. Allowed order together count 0. Negative bias -1.0\n",
    "# Recall@20 score: 0.6776072747939755, Best\n",
    "# MRR@20 score: 0.6913910516108567\n",
    "\n",
    "# Incompatible matrix top 5 % of most carted aids. Context top 30 % of click cart pairs by count. Jaccard similarity of over 0.8. Allowed order together count 0. Negative bias -1.0\n",
    "# Recall@20 score: 0.677536231884058\n",
    "# MRR@20 score: 0.6913509233365934\n",
    "\n",
    "# Incompatible matrix top 5 % of most carted aids. Context top 50 % of click cart pairs by count. Jaccard similarity of over 0.5. Allowed order together count 0. Negative bias -1.0\n",
    "# Recall@20 score: 0.6774651889741404\n",
    "# MRR@20 score: 0.6914263028950532\n",
    "\n",
    "# Incompatible matrix top 10 % of most carted aids. Context top 25 % of click cart pairs by count. Jaccard similarity of over 0.8. Allowed order together count 0. Negative bias -1.0\n",
    "# Recall@20 score: 0.6775717533390168\n",
    "# MRR@20 score: 0.6912665899084738"
   ],
   "metadata": {
    "collapsed": false
   }
  },
  {
   "cell_type": "markdown",
   "source": [
    "### Predicting recent clicks as orders"
   ],
   "metadata": {
    "collapsed": false
   }
  },
  {
   "cell_type": "code",
   "execution_count": 24,
   "outputs": [
    {
     "name": "stdout",
     "output_type": "stream",
     "text": [
      "shape: (512_800, 2)\n",
      "┌───────────────┬─────────────────────────────────┐\n",
      "│ session_type  ┆ labels                          │\n",
      "│ ---           ┆ ---                             │\n",
      "│ str           ┆ str                             │\n",
      "╞═══════════════╪═════════════════════════════════╡\n",
      "│ 52058_orders  ┆ 125197                          │\n",
      "│ 121149_orders ┆ 1798580 1278671                 │\n",
      "│ 276712_orders ┆ 1371576                         │\n",
      "│ 494721_orders ┆ 589670                          │\n",
      "│ 336898_orders ┆ 698518 1754984                  │\n",
      "│ …             ┆ …                               │\n",
      "│ 374337_orders ┆ 1657938                         │\n",
      "│ 205769_orders ┆ 1401487                         │\n",
      "│ 166838_orders ┆ 1152354 198344                  │\n",
      "│ 193851_orders ┆ 389999                          │\n",
      "│ 11790_orders  ┆ 408250 169841 811084 950718 13… │\n",
      "└───────────────┴─────────────────────────────────┘\n"
     ]
    }
   ],
   "source": [
    "asdf = (\n",
    "    test_sessions_df\n",
    "    # .filter(pl.col(\"type\") == \"clicks\")\n",
    "    .drop(\"type\")\n",
    "    # Only last unique clicks\n",
    "    .with_columns(ts=pl.col(\"ts\").max().over([\"session\", \"aid\"]))\n",
    "    .unique()\n",
    "    .group_by(\"session\")\n",
    "    .agg(pl.all().top_k_by(\"ts\", 5).cast(str))\n",
    "    .drop(\"ts\")\n",
    "    .with_columns(\n",
    "        (pl.col(\"session\").cast(str) + \"_orders\"),\n",
    "        pl.col(\"aid\").list.join(separator=' ')\n",
    "    )\n",
    "    .rename({\"session\": \"session_type\", \"aid\": \"labels\"})\n",
    ")\n",
    "\n",
    "print(asdf)\n",
    "\n",
    "asdf.write_csv(\"out/orders_predictions_2.csv\")\n",
    "\n",
    "# Last 5 clicks: 0.4877095765842569\n",
    "# Last 10 clicks: 0.5257530548451265\n",
    "# Last 20 clicks: 0.5434427394146064"
   ],
   "metadata": {
    "collapsed": false
   }
  },
  {
   "cell_type": "markdown",
   "source": [
    "### Predicting recent carts as orders"
   ],
   "metadata": {
    "collapsed": false
   }
  },
  {
   "cell_type": "code",
   "execution_count": 21,
   "outputs": [
    {
     "name": "stdout",
     "output_type": "stream",
     "text": [
      "shape: (66_549, 2)\n",
      "┌───────────────┬─────────────────┐\n",
      "│ session_type  ┆ labels          │\n",
      "│ ---           ┆ ---             │\n",
      "│ str           ┆ str             │\n",
      "╞═══════════════╪═════════════════╡\n",
      "│ 299128_orders ┆ 512176          │\n",
      "│ 450288_orders ┆ 1183627         │\n",
      "│ 472951_orders ┆ 537304          │\n",
      "│ 227167_orders ┆ 1744908 1043508 │\n",
      "│ 274613_orders ┆ 853430          │\n",
      "│ …             ┆ …               │\n",
      "│ 35111_orders  ┆ 98647           │\n",
      "│ 185187_orders ┆ 1755112         │\n",
      "│ 503_orders    ┆ 630151          │\n",
      "│ 113512_orders ┆ 1769518 15906   │\n",
      "│ 435964_orders ┆ 1278149         │\n",
      "└───────────────┴─────────────────┘\n"
     ]
    }
   ],
   "source": [
    "asdf = (\n",
    "    test_sessions_df\n",
    "    .filter(pl.col(\"type\") == \"carts\")\n",
    "    .drop(\"type\")\n",
    "    # Only last unique clicks\n",
    "    .with_columns(ts=pl.col(\"ts\").max().over([\"session\", \"aid\"]))\n",
    "    .unique()\n",
    "    .group_by(\"session\")\n",
    "    .agg(pl.all().top_k_by(\"ts\", 20).cast(str))\n",
    "    .drop(\"ts\")\n",
    "    .with_columns(\n",
    "        (pl.col(\"session\").cast(str) + \"_orders\"),\n",
    "        pl.col(\"aid\").list.join(separator=' ')\n",
    "    )\n",
    "    .rename({\"session\": \"session_type\", \"aid\": \"labels\"})\n",
    ")\n",
    "\n",
    "print(asdf)\n",
    "\n",
    "asdf.write_csv(\"out/orders_predictions_2.csv\")\n",
    "\n",
    "# Last 5 carts: 0.39567348678601877\n",
    "# Last 10 carts: 0.4154234157431088\n",
    "# Last 20 carts: 0.42043194089229896"
   ],
   "metadata": {
    "collapsed": false
   }
  },
  {
   "cell_type": "markdown",
   "source": [
    "### Predicting recent orders as orders"
   ],
   "metadata": {
    "collapsed": false
   }
  },
  {
   "cell_type": "code",
   "execution_count": 29,
   "outputs": [
    {
     "name": "stdout",
     "output_type": "stream",
     "text": [
      "shape: (3_948, 2)\n",
      "┌───────────────┬────────────────────────────────┐\n",
      "│ session_type  ┆ labels                         │\n",
      "│ ---           ┆ ---                            │\n",
      "│ str           ┆ str                            │\n",
      "╞═══════════════╪════════════════════════════════╡\n",
      "│ 280657_orders ┆ 426015                         │\n",
      "│ 491946_orders ┆ 1021110 648355 1438538 1169176 │\n",
      "│ 91102_orders  ┆ 19474                          │\n",
      "│ 349224_orders ┆ 524871 1001247                 │\n",
      "│ 77877_orders  ┆ 273918                         │\n",
      "│ …             ┆ …                              │\n",
      "│ 83093_orders  ┆ 1158875                        │\n",
      "│ 348911_orders ┆ 404498                         │\n",
      "│ 53856_orders  ┆ 333343                         │\n",
      "│ 23708_orders  ┆ 267450 655799                  │\n",
      "│ 428363_orders ┆ 1495817                        │\n",
      "└───────────────┴────────────────────────────────┘\n"
     ]
    }
   ],
   "source": [
    "asdf = (\n",
    "    test_sessions_df\n",
    "    .filter(pl.col(\"type\") == \"orders\")\n",
    "    .drop(\"type\")\n",
    "    # Only last unique clicks\n",
    "    .with_columns(ts=pl.col(\"ts\").max().over([\"session\", \"aid\"]))\n",
    "    .unique()\n",
    "    .group_by(\"session\")\n",
    "    .agg(pl.all().top_k_by(\"ts\", 20).cast(str))\n",
    "    .drop(\"ts\")\n",
    "    .with_columns(\n",
    "        (pl.col(\"session\").cast(str) + \"_orders\"),\n",
    "        pl.col(\"aid\").list.join(separator=' ')\n",
    "    )\n",
    "    .rename({\"session\": \"session_type\", \"aid\": \"labels\"})\n",
    ")\n",
    "\n",
    "print(asdf)\n",
    "\n",
    "asdf.write_csv(\"out/orders_predictions_2.csv\")\n",
    "\n",
    "# Last 5 orders: 0.01424410343847684\n",
    "# Last 10 clicks: 0.014812446717817562\n",
    "# Last 20 clicks: 0.014812446717817562"
   ],
   "metadata": {
    "collapsed": false
   }
  }
 ],
 "metadata": {
  "kernelspec": {
   "display_name": "Python 3",
   "language": "python",
   "name": "python3"
  },
  "language_info": {
   "codemirror_mode": {
    "name": "ipython",
    "version": 2
   },
   "file_extension": ".py",
   "mimetype": "text/x-python",
   "name": "python",
   "nbconvert_exporter": "python",
   "pygments_lexer": "ipython2",
   "version": "2.7.6"
  }
 },
 "nbformat": 4,
 "nbformat_minor": 0
}
