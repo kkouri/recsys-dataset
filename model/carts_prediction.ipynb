{
 "cells": [
  {
   "cell_type": "markdown",
   "source": [
    "# Carts prediction model"
   ],
   "metadata": {
    "collapsed": false
   }
  },
  {
   "cell_type": "code",
   "execution_count": 1,
   "outputs": [
    {
     "name": "stdout",
     "output_type": "stream",
     "text": [
      "514739\n"
     ]
    }
   ],
   "source": [
    "import polars as pl\n",
    "\n",
    "df_schema = {\"session\": pl.UInt32, \"events\": pl.List(pl.Struct({\"aid\": pl.UInt32, \"ts\": pl.UInt32, \"type\": pl.Utf8}))}\n",
    "test_sessions_df = (\n",
    "    pl.read_ndjson(\"../data/test/test_sessions.jsonl\", schema=df_schema, low_memory=True)\n",
    "    .explode(\"events\")\n",
    "    .unnest(\"events\")\n",
    "    .sort([\"session\", \"ts\"], descending=[False, True])\n",
    ")\n",
    "\n",
    "print(test_sessions_df.select(\"session\").n_unique())"
   ],
   "metadata": {
    "collapsed": false
   }
  },
  {
   "cell_type": "code",
   "execution_count": 6,
   "outputs": [],
   "source": [
    "df_schema = {\"click_aid\": pl.UInt32, \"cart_aid\": pl.UInt32, \"probability\": pl.Float32}\n",
    "click_to_cart_matrix_df = (\n",
    "    pl.read_csv(\"../matrices/click_to_cart_matrix_time-decay_1.csv\", schema=df_schema)\n",
    "    .sort([\"click_aid\", \"probability\"], descending=[False, True])\n",
    "    .group_by(\"click_aid\")\n",
    "    # Take top 300 probabilities\n",
    "    .agg(pl.all().top_k_by(\"probability\", 300))\n",
    "    .explode([\"cart_aid\", \"probability\"])\n",
    "    .lazy()\n",
    ")\n",
    "\n",
    "df_schema = {\"cart_aid\": pl.UInt32, \"next_cart_aid\": pl.UInt32, \"probability\": pl.Float32}\n",
    "cart_to_cart_matrix_df = (\n",
    "    pl.scan_csv(\"../matrices/cart_to_cart_matrix_time-decay.csv\", schema=df_schema)\n",
    "    .sort([\"cart_aid\", \"probability\"], descending=[False, True])\n",
    "    .group_by(\"cart_aid\")\n",
    "    # Take top 300 probabilities\n",
    "    .agg(pl.all().top_k_by(\"probability\", 300))\n",
    "    .explode([\"next_cart_aid\", \"probability\"])\n",
    "    .lazy()\n",
    ")"
   ],
   "metadata": {
    "collapsed": false
   }
  },
  {
   "cell_type": "code",
   "execution_count": 20,
   "outputs": [
    {
     "name": "stdout",
     "output_type": "stream",
     "text": [
      "shape: (53_510, 2)\n",
      "┌─────────┬──────────────────┐\n",
      "│ aid     ┆ incompatible_aid │\n",
      "│ ---     ┆ ---              │\n",
      "│ u32     ┆ u32              │\n",
      "╞═════════╪══════════════════╡\n",
      "│ 3       ┆ 776187           │\n",
      "│ 3       ┆ 1180285          │\n",
      "│ 3       ┆ 1771163          │\n",
      "│ 3       ┆ 1852756          │\n",
      "│ 137     ┆ 392403           │\n",
      "│ …       ┆ …                │\n",
      "│ 1855485 ┆ 962190           │\n",
      "│ 1855485 ┆ 1057622          │\n",
      "│ 1855506 ┆ 138484           │\n",
      "│ 1855594 ┆ 658891           │\n",
      "│ 1855594 ┆ 727265           │\n",
      "└─────────┴──────────────────┘\n",
      "shape: (117_737, 2)\n",
      "┌─────────┬──────────────────┐\n",
      "│ session ┆ incompatible_aid │\n",
      "│ ---     ┆ ---              │\n",
      "│ u32     ┆ u32              │\n",
      "╞═════════╪══════════════════╡\n",
      "│ 100236  ┆ 1037331          │\n",
      "│ 130747  ┆ 849217           │\n",
      "│ 278079  ┆ 792934           │\n",
      "│ 294552  ┆ 654738           │\n",
      "│ 413005  ┆ 930620           │\n",
      "│ …       ┆ …                │\n",
      "│ 412140  ┆ 112862           │\n",
      "│ 389144  ┆ 1180883          │\n",
      "│ 286734  ┆ 316716           │\n",
      "│ 280289  ┆ 1367011          │\n",
      "│ 362431  ┆ 386079           │\n",
      "└─────────┴──────────────────┘\n"
     ]
    }
   ],
   "source": [
    "# Count incompatible aids for session based on carted aids in the session\n",
    "df_schema = {\"aid\": pl.UInt32, \"incompatible_aid\": pl.UInt32}\n",
    "incompatible_matrix_df = (\n",
    "    pl.read_csv(\"../matrices/incompatible_matrix.csv\", schema=df_schema)\n",
    ")\n",
    "\n",
    "print(incompatible_matrix_df)\n",
    "\n",
    "incompatible_aids_for_sessions = (\n",
    "    test_sessions_df\n",
    "    .filter(pl.col(\"type\") != \"clicks\")\n",
    "    .drop([\"type\", \"ts\"])\n",
    "    .join(incompatible_matrix_df, on=\"aid\", how=\"inner\")\n",
    "    .select([\"session\", \"incompatible_aid\"])\n",
    "    .unique()\n",
    "    .lazy()\n",
    ")\n",
    "\n",
    "print(incompatible_aids_for_sessions.collect(streaming=True))"
   ],
   "metadata": {
    "collapsed": false
   }
  },
  {
   "cell_type": "code",
   "execution_count": 3,
   "outputs": [
    {
     "name": "stdout",
     "output_type": "stream",
     "text": [
      "shape: (954_599, 2)\n",
      "┌─────────┬─────────┐\n",
      "│ session ┆ aid     │\n",
      "│ ---     ┆ ---     │\n",
      "│ u32     ┆ u32     │\n",
      "╞═════════╪═════════╡\n",
      "│ 180370  ┆ 768718  │\n",
      "│ 180370  ┆ 114966  │\n",
      "│ 180370  ┆ 226432  │\n",
      "│ 180370  ┆ 1383179 │\n",
      "│ 180370  ┆ 82906   │\n",
      "│ …       ┆ …       │\n",
      "│ 161729  ┆ 1396869 │\n",
      "│ 262671  ┆ 841757  │\n",
      "│ 262671  ┆ 484944  │\n",
      "│ 118877  ┆ 1543556 │\n",
      "│ 146518  ┆ 1704099 │\n",
      "└─────────┴─────────┘\n",
      "512800\n"
     ]
    }
   ],
   "source": [
    "last_unique_clicks_of_session = (\n",
    "    test_sessions_df\n",
    "    .filter(pl.col(\"type\") == \"clicks\")\n",
    "    .drop(\"type\")\n",
    "    # Only last unique clicks\n",
    "    .with_columns(ts=pl.col(\"ts\").max().over([\"session\", \"aid\"]))\n",
    "    .unique()\n",
    "    .group_by(\"session\")\n",
    "    .agg(pl.all().top_k_by(\"ts\", 5))\n",
    "    .explode([\"aid\", \"ts\"])\n",
    "    .drop(\"ts\")\n",
    "    .lazy()\n",
    ")\n",
    "\n",
    "print(last_unique_clicks_of_session.collect(streaming=True))\n",
    "print(last_unique_clicks_of_session.select(\"session\").collect(streaming=True).n_unique())"
   ],
   "metadata": {
    "collapsed": false
   }
  },
  {
   "cell_type": "code",
   "execution_count": 4,
   "outputs": [
    {
     "name": "stdout",
     "output_type": "stream",
     "text": [
      "shape: (106_690, 2)\n",
      "┌─────────┬─────────┐\n",
      "│ session ┆ aid     │\n",
      "│ ---     ┆ ---     │\n",
      "│ u32     ┆ u32     │\n",
      "╞═════════╪═════════╡\n",
      "│ 311731  ┆ 453736  │\n",
      "│ 225464  ┆ 605053  │\n",
      "│ 448719  ┆ 920295  │\n",
      "│ 289818  ┆ 1234414 │\n",
      "│ 289818  ┆ 672140  │\n",
      "│ …       ┆ …       │\n",
      "│ 22907   ┆ 199662  │\n",
      "│ 95541   ┆ 410310  │\n",
      "│ 193979  ┆ 1215540 │\n",
      "│ 469500  ┆ 1517147 │\n",
      "│ 355881  ┆ 1216403 │\n",
      "└─────────┴─────────┘\n",
      "67602\n"
     ]
    }
   ],
   "source": [
    "last_unique_carts_or_orders = (\n",
    "    test_sessions_df\n",
    "    .filter(pl.col(\"type\") != \"clicks\")\n",
    "    .drop(\"type\")\n",
    "    # Only last unique carts and orders\n",
    "    .with_columns(ts=pl.col(\"ts\").max().over(\"session\", \"aid\"))\n",
    "    .unique()\n",
    "    .group_by(\"session\")\n",
    "    .agg(pl.all().top_k_by(\"ts\", 5))\n",
    "    .explode([\"aid\", \"ts\"])\n",
    "    .drop(\"ts\")\n",
    "    .lazy()\n",
    ")\n",
    "\n",
    "print(last_unique_carts_or_orders.collect(streaming=True))\n",
    "print(last_unique_carts_or_orders.select(\"session\").collect(streaming=True).n_unique())"
   ],
   "metadata": {
    "collapsed": false
   }
  },
  {
   "cell_type": "code",
   "execution_count": 7,
   "outputs": [
    {
     "name": "stdout",
     "output_type": "stream",
     "text": [
      "shape: (514_739, 2)\n",
      "┌──────────────┬─────────────────────────────────┐\n",
      "│ session_type ┆ labels                          │\n",
      "│ ---          ┆ ---                             │\n",
      "│ str          ┆ str                             │\n",
      "╞══════════════╪═════════════════════════════════╡\n",
      "│ 203203_carts ┆ 1033795 448682 457537 1751964 … │\n",
      "│ 82581_carts  ┆ 95710 414103 932046 211453 108… │\n",
      "│ 289702_carts ┆ 1626577 1297763 1223830 122806… │\n",
      "│ 336877_carts ┆ 925621 699087 1651437 524269 3… │\n",
      "│ 373200_carts ┆ 891286 78881 1251548 933379 53… │\n",
      "│ …            ┆ …                               │\n",
      "│ 87803_carts  ┆ 704704 64600 1775057 689660 12… │\n",
      "│ 317849_carts ┆ 1174319 386532 1416142 369161 … │\n",
      "│ 332661_carts ┆ 782947 1198914 1635743 189083 … │\n",
      "│ 450636_carts ┆ 1311747 1178814 1287397 817418… │\n",
      "│ 448671_carts ┆ 1006991 749503 898986 1184000 … │\n",
      "└──────────────┴─────────────────────────────────┘\n"
     ]
    }
   ],
   "source": [
    "w_click_to_cart = 0.7\n",
    "w_cart_to_cart = 1 - w_click_to_cart\n",
    "\n",
    "click_to_cart_predictions_df = (\n",
    "    last_unique_clicks_of_session\n",
    "    .join(click_to_cart_matrix_df, left_on=\"aid\", right_on=\"click_aid\", how=\"left\")\n",
    "    # Fill missing values\n",
    "    .with_columns(\n",
    "        cart_aid=pl.when(pl.col(\"cart_aid\").is_null()).then(pl.col(\"aid\")).otherwise(pl.col(\"cart_aid\")),\n",
    "        probability=pl.when(pl.col(\"probability\").is_null()).then(pl.lit(0.0)).otherwise(pl.col(\"probability\"))\n",
    "    )\n",
    "    # bias to the recently clicked aids\n",
    "    .with_columns(bias=pl.when(pl.col(\"aid\") == pl.col(\"cart_aid\")).then(1).otherwise(0).cast(pl.Float32))\n",
    "    .with_columns(probability=(pl.col(\"probability\") + pl.col(\"bias\")))\n",
    "    .group_by([\"session\", \"cart_aid\"])\n",
    "    .agg(pl.col(\"probability\").sum())\n",
    "    .with_columns(probability=(w_click_to_cart * pl.col(\"probability\")))\n",
    ")\n",
    "\n",
    "cart_or_order_to_cart_predictions_df = (\n",
    "    last_unique_carts_or_orders\n",
    "    .join(cart_to_cart_matrix_df, left_on=\"aid\", right_on=\"cart_aid\", how=\"left\")\n",
    "    # Fill missing values\n",
    "    .with_columns(\n",
    "        next_cart_aid=pl.when(pl.col(\"next_cart_aid\").is_null()).then(pl.col(\"aid\")).otherwise(pl.col(\"next_cart_aid\")),\n",
    "        probability=pl.when(pl.col(\"probability\").is_null()).then(pl.lit(0.0)).otherwise(pl.col(\"probability\"))\n",
    "    )\n",
    "    # bias to the recently carted aids\n",
    "    .with_columns(bias=pl.when(pl.col(\"cart_aid\") == pl.col(\"next_cart_aid\")).then(1).otherwise(0).cast(pl.Float32))\n",
    "    .group_by([\"session\", \"next_cart_aid\"])\n",
    "    .agg(pl.col(\"probability\").sum())\n",
    "    .with_columns(probability=(w_cart_to_cart * pl.col(\"probability\")))\n",
    "    .rename({\"next_cart_aid\": \"cart_aid\"})\n",
    ")\n",
    "\n",
    "carts_prediction_df = (\n",
    "    pl.concat([\n",
    "        click_to_cart_predictions_df,\n",
    "        cart_or_order_to_cart_predictions_df\n",
    "    ])\n",
    "    # equal weight for all predictions\n",
    "    .group_by([\"session\", \"cart_aid\"])\n",
    "    .agg(pl.col(\"probability\").sum())\n",
    "    # Filter out incompatible aids\n",
    "    # .join(incompatible_aids_for_sessions, left_on=[\"session\", \"cart_aid\"], right_on=[\"session\", \"incompatible_aid\"], how=\"anti\")\n",
    "    # Form the prediction csv\n",
    "    .group_by(\"session\")\n",
    "    .agg(pl.col(\"cart_aid\").top_k_by(\"probability\", 20).cast(str))\n",
    "    .with_columns(\n",
    "        (pl.col(\"session\").cast(str) + \"_carts\"),\n",
    "        pl.col(\"cart_aid\").list.join(separator=' ')\n",
    "    )\n",
    "    .rename({\"session\": \"session_type\", \"cart_aid\": \"labels\"})\n",
    "    .collect(streaming=True)\n",
    ")\n",
    "\n",
    "print(carts_prediction_df)\n",
    "\n",
    "carts_prediction_df.write_csv(\"out/carts_predictions.csv\")\n",
    "\n",
    "# Last 5 unique aid clicks, all unique carts and orders of session.\n",
    "# click_to_cart_matrix_time-decay.csv, cart_to_cart_matrix_time-decay at 1/1 weights. Top 300 probabilities\n",
    "# Recall@20 score: 0.5138459054334078\n",
    "# Recall@10 score: 0.48429432888407076\n",
    "# Recall@5 score: 0.4630885135559729\n",
    "# MRR@20 score: 0.5141451405842936\n",
    "# MRR@10 score: 0.5119015720964412\n",
    "# MRR@5 score: 0.5069403685782773\n",
    "\n",
    "# Using incompatible matrix with orders did nothing. Using with carts Recall@20 score: 0.5097553755483194, slightly worse.\n",
    "\n",
    "# Last 5 unique aid clicks, all unique carts and orders of session.\n",
    "# click_to_cart_matrix_time-decay.csv, cart_to_cart_matrix_time-decay at 0.7/0.3 weights. Top 300 probabilities\n",
    "# Recall@20 score:  0.5153394870690815\n",
    "# Recall@10 score: 0.48495833051019716\n",
    "# Recall@5 score: 0.4632700511796454\n",
    "# MRR@20 score: 0.5154712250630091\n",
    "# MRR@10 score: 0.5131787729044937\n",
    "# MRR@5 score: 0.5081498784601399\n",
    "\n",
    "# Last 5 unique aid clicks, all unique carts and orders of session.\n",
    "# click_to_cart_matrix_time-decay.csv, cart_to_cart_matrix_time-decay at 0.9/0.1 weights. Top 300 probabilities\n",
    "# Recall@20 score: 0.5134489625662693\n",
    "# MRR@20 score: 0.5159078249834574\n",
    "\n",
    "# Last 5 unique aid clicks, all unique carts and orders of session.\n",
    "# click_to_cart_matrix_time-decay.csv, cart_to_cart_matrix_time-decay at 0.3/0.7 weights. Top 300 probabilities\n",
    "# Recall@20 score: 0.5115180709922226\n",
    "# MRR@20 score: 0.5103072615668478\n",
    "\n",
    "# Last 5 unique aid clicks, last 5 unique carts or orders of session.\n",
    "# click_to_cart_matrix_time-decay.csv, cart_to_cart_matrix_time-decay at 0.7/0.3 weights. Top 300 probabilities\n",
    "# Recall@20 score: 0.5160391829704782\n",
    "# Recall@10 score: 0.48556135239514875\n",
    "# Recall@5 score: 0.46365407307587575\n",
    "# MRR@20 score: 0.5156306427297778\n",
    "# MRR@10 score: 0.5133202642590753\n",
    "# MRR@5 score: 0.5082480682513211\n",
    "\n",
    "# New better click-to-cart matrix\n",
    "# Last 5 unique aid clicks, last 5 unique carts or orders of session.\n",
    "# click_to_cart_matrix_time-decay.csv, cart_to_cart_matrix_time-decay at 0.7/0.3 weights. Top 300 probabilities\n",
    "# Recall@20 score: 0.5228477623186846, Best\n",
    "# Recall@10 score: 0.4931838200420083\n",
    "# Recall@5 score: 0.47083877364352994\n",
    "# MRR@20 score: 0.5192958010328336\n",
    "# MRR@10 score: 0.5170727259024377\n",
    "# MRR@5 score: 0.5119944998708487\n"
   ],
   "metadata": {
    "collapsed": false
   }
  }
 ],
 "metadata": {
  "kernelspec": {
   "display_name": "Python 3",
   "language": "python",
   "name": "python3"
  },
  "language_info": {
   "codemirror_mode": {
    "name": "ipython",
    "version": 2
   },
   "file_extension": ".py",
   "mimetype": "text/x-python",
   "name": "python",
   "nbconvert_exporter": "python",
   "pygments_lexer": "ipython2",
   "version": "2.7.6"
  }
 },
 "nbformat": 4,
 "nbformat_minor": 0
}
