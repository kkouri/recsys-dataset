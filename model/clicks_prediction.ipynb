{
 "cells": [
  {
   "cell_type": "markdown",
   "source": [
    "# Clicks prediction model"
   ],
   "metadata": {
    "collapsed": false
   }
  },
  {
   "cell_type": "code",
   "execution_count": 1,
   "outputs": [],
   "source": [
    "import polars as pl\n",
    "\n",
    "df_schema = {\"session\": pl.Int32, \"events\": pl.List(pl.Struct({\"aid\": pl.UInt32, \"ts\": pl.UInt32, \"type\": pl.Utf8}))}\n",
    "test_sessions_df = pl.read_ndjson(\"../data/test/test_sessions.jsonl\", schema=df_schema, low_memory=True)"
   ],
   "metadata": {
    "collapsed": false
   }
  },
  {
   "cell_type": "markdown",
   "source": [
    "### Current best model"
   ],
   "metadata": {
    "collapsed": false
   }
  },
  {
   "cell_type": "code",
   "execution_count": 21,
   "outputs": [
    {
     "name": "stdout",
     "output_type": "stream",
     "text": [
      "shape: (83_185_024, 3)\n",
      "┌─────────┬──────────┬─────────────┐\n",
      "│ aid     ┆ next_aid ┆ probability │\n",
      "│ ---     ┆ ---      ┆ ---         │\n",
      "│ u32     ┆ u32      ┆ f32         │\n",
      "╞═════════╪══════════╪═════════════╡\n",
      "│ 1686624 ┆ 1686624  ┆ 0.21457     │\n",
      "│ 1686624 ┆ 37698    ┆ 0.141719    │\n",
      "│ 1686624 ┆ 610511   ┆ 0.086511    │\n",
      "│ 1686624 ┆ 329243   ┆ 0.075128    │\n",
      "│ 1686624 ┆ 751653   ┆ 0.051224    │\n",
      "│ …       ┆ …        ┆ …           │\n",
      "│ 1601765 ┆ 307175   ┆ 0.015015    │\n",
      "│ 1601765 ┆ 1026595  ┆ 0.015015    │\n",
      "│ 1601765 ┆ 1247582  ┆ 0.015015    │\n",
      "│ 1601765 ┆ 710810   ┆ 0.012012    │\n",
      "│ 1601765 ┆ 1192970  ┆ 0.012012    │\n",
      "└─────────┴──────────┴─────────────┘\n"
     ]
    }
   ],
   "source": [
    "df_schema = {\"aid\": pl.UInt32, \"next_aid\": pl.UInt32, \"probability\": pl.Float32}\n",
    "click_to_click_matrix_df = (\n",
    "    pl.read_csv(\"../matrices/click-to-click-matrix_only-clicks_5-subsequent-clicks-time-decay.csv\", schema=df_schema)\n",
    "    # Take top 300 probabilities\n",
    "    .group_by(\"aid\")\n",
    "    .agg(pl.all().top_k_by(\"probability\", 300))\n",
    "    .explode([\"next_aid\", \"probability\"])\n",
    "    .lazy()\n",
    ")\n",
    "\n",
    "print(click_to_click_matrix_df.collect(streaming=True))"
   ],
   "metadata": {
    "collapsed": false
   }
  },
  {
   "cell_type": "code",
   "execution_count": 22,
   "outputs": [
    {
     "name": "stdout",
     "output_type": "stream",
     "text": [
      "shape: (514_739, 2)\n",
      "┌───────────────┬─────────────────────────────────┐\n",
      "│ session_type  ┆ labels                          │\n",
      "│ ---           ┆ ---                             │\n",
      "│ str           ┆ str                             │\n",
      "╞═══════════════╪═════════════════════════════════╡\n",
      "│ 212230_clicks ┆ 391802 1429965 665403 265913 2… │\n",
      "│ 173183_clicks ┆ 1526607 1163166 11977 1743151 … │\n",
      "│ 39610_clicks  ┆ 1722264 1008582 395095 1531348… │\n",
      "│ 131367_clicks ┆ 83856 585186 493740 252993 165… │\n",
      "│ 52963_clicks  ┆ 1749592 1115704 8602 1351387 7… │\n",
      "│ …             ┆ …                               │\n",
      "│ 149549_clicks ┆ 105393 1452081 1073464 1488751… │\n",
      "│ 478676_clicks ┆ 662924 751283 1776861 1563129 … │\n",
      "│ 167374_clicks ┆ 1835122 1674064 802541 751174 … │\n",
      "│ 459169_clicks ┆ 286897 71364 967898 1310373 37… │\n",
      "│ 63294_clicks  ┆ 1060697 32249 824487 803544 48… │\n",
      "└───────────────┴─────────────────────────────────┘\n"
     ]
    }
   ],
   "source": [
    "last_unique_aids = (\n",
    "    test_sessions_df\n",
    "    .explode(\"events\")\n",
    "    .unnest(\"events\")\n",
    "    .sort([\"session\", \"ts\"], descending=[False, True])\n",
    "    .unique(subset=[\"session\", \"aid\"], maintain_order=True)\n",
    "    .group_by(\"session\", maintain_order=True)\n",
    "    .agg(pl.col(\"aid\").top_k_by(\"ts\", 5))\n",
    "    .explode(\"aid\")\n",
    "    .with_row_index()\n",
    "    .with_columns(first_index=pl.col(\"index\").min().over(\"session\"))\n",
    "    .with_columns(weight=(1 / (pl.col(\"index\") - pl.col(\"first_index\") + 1)).cast(pl.Float32))\n",
    "    .drop([\"index\", \"first_index\"])\n",
    "    .lazy()\n",
    ")\n",
    "\n",
    "clicks_predictions_df = (\n",
    "    last_unique_aids\n",
    "    .join(click_to_click_matrix_df, on=\"aid\", how=\"left\")\n",
    "    # Fill missing values\n",
    "    .with_columns(\n",
    "        next_aid=pl.when(pl.col(\"next_aid\").is_null()).then(pl.col(\"aid\")).otherwise(pl.col(\"next_aid\")),\n",
    "        probability=pl.when(pl.col(\"probability\").is_null()).then(pl.lit(0.0)).otherwise(pl.col(\"probability\"))\n",
    "    )\n",
    "    .with_columns(bias=pl.when(pl.col(\"aid\") == pl.col(\"next_aid\")).then(1).otherwise(0).cast(pl.Float32))\n",
    "    .with_columns(probability=(pl.col(\"probability\") * pl.col(\"weight\") + pl.col(\"bias\")))\n",
    "    .collect(streaming=True)\n",
    "    .group_by([\"session\", \"next_aid\"])\n",
    "    .agg(pl.col(\"probability\").sum())\n",
    "    # csv format\n",
    "    .group_by(pl.col(\"session\"))\n",
    "    .agg(pl.col(\"next_aid\").top_k_by(\"probability\", 20).cast(str))\n",
    "    .with_columns(\n",
    "        (pl.col(\"session\").cast(str) + \"_clicks\"),\n",
    "        pl.col(\"next_aid\").list.join(separator=' ')\n",
    "    )\n",
    "    .rename({\"session\": \"session_type\", \"next_aid\": \"labels\"})\n",
    ")\n",
    "\n",
    "print(clicks_predictions_df)\n",
    "\n",
    "clicks_predictions_df.write_csv(\"out/clicks_predictions.csv\")\n",
    "\n",
    "# Last 3 unique aids of any event. click-to-click-matrix_only-clicks_5-subsequent-clicks-time-decay.csv Top 300 probabilities from matrix\n",
    "# Recall@20 score: 0.5063681710362438\n",
    "\n",
    "# Last 5 unique aids of any event. click-to-click-matrix_only-clicks_5-subsequent-clicks-time-decay.csv Top 300 probabilities from matrix\n",
    "# Recall@20 score: 0.5080663499792422, Best value\n",
    "# Recall@10 score: 0.4349925000573709\n",
    "# MRR@20 score: 0.2589197593876678\n",
    "# MRR@10 score: 0.2538283202746814\n",
    "\n",
    "# Last 5 unique aids of any event. Exponential time decay. click-to-click-matrix_only-clicks_5-subsequent-clicks-time-decay.csv Top 300 probabilities from matrix\n",
    "# Recall@20 score: 0.5082582817516695\n",
    "\n",
    "# Last 5 unique aids of any event for the past 45 minutes of session. click-to-click-matrix_only-clicks_5-subsequent-clicks-time-decay.csv Top 300 probabilities from matrix\n",
    "# Recall@20 score: 0.5080225394659708\n",
    "\n",
    "# Last 10 unique aids of any event. click-to-click-matrix_only-clicks_5-subsequent-clicks-time-decay.csv Top 300 probabilities from matrix\n",
    "# Recall@20 score: 0.5085002826821213 Best but not too much when considering the extra computation\n",
    "\n",
    "# Last 5 unique aids of any event. click-to-click-matrix_only-clicks_5-subsequent-clicks-time-decay.csv Top 500 probabilities from matrix\n",
    "# Recall@20 score: 0.5080308843256415, Not better\n",
    "\n",
    "# Last 5 unique aids of clicks. click-to-click-matrix_only-clicks_5-subsequent-clicks-time-decay.csv Top 300 probabilities from matrix\n",
    "# Recall@20 score: 0.5044363360224644\n",
    "\n",
    "#####\n",
    "\n",
    "# Last 5 unique aids of any event. click-to-click-matrix_only-clicks_5-subsequent-clicks-time-decay_over-2-event-sessions.csv Top 300 probabilities from matrix\n",
    "# Recall@20 score: 0.5056880649730774, Filtering out short sessions is not helping\n",
    "\n",
    "# Last 5 unique aids of any event. click-to-click-matrix_only-clicks_5-subsequent-clicks-time-decay_over-3-event-sessions.csv Top 300 probabilities from matrix\n",
    "# Recall@20 score: 0.5022583276483977\n",
    "\n",
    "#####\n",
    "\n",
    "# Last 5 unique aids of any event. click-to-click-matrix_only-clicks_5-subsequent-clicks-time-decay_under-50-event-sessions.csv Top 300 probabilities from matrix\n",
    "# Recall@20 score: 0.5068772074761598 Not better"
   ],
   "metadata": {
    "collapsed": false
   }
  },
  {
   "cell_type": "markdown",
   "source": [
    "### Predict next click to be some of the last n unique aids"
   ],
   "metadata": {
    "collapsed": false
   }
  },
  {
   "cell_type": "code",
   "execution_count": 28,
   "outputs": [
    {
     "name": "stdout",
     "output_type": "stream",
     "text": [
      "shape: (1_023_837, 2)\n",
      "┌────────────────┬─────────────────┐\n",
      "│ session_type   ┆ labels          │\n",
      "│ ---            ┆ ---             │\n",
      "│ str            ┆ str             │\n",
      "╞════════════════╪═════════════════╡\n",
      "│ 1_clicks       ┆ 582732 1142000  │\n",
      "│ 2_clicks       ┆ 199008 141736   │\n",
      "│ 3_clicks       ┆ 199008          │\n",
      "│ 4_clicks       ┆ 199008          │\n",
      "│ 5_clicks       ┆ 1494780 1669402 │\n",
      "│ …              ┆ …               │\n",
      "│ 1023833_clicks ┆ 229094          │\n",
      "│ 1023834_clicks ┆ 272221          │\n",
      "│ 1023835_clicks ┆ 317311          │\n",
      "│ 1023836_clicks ┆ 1546409         │\n",
      "│ 1023837_clicks ┆ 1453906         │\n",
      "└────────────────┴─────────────────┘\n"
     ]
    }
   ],
   "source": [
    "clicks_predictions_df = (\n",
    "    test_sessions_df\n",
    "    .explode(\"events\")\n",
    "    .unnest(\"events\")\n",
    "    .sort([\"session\", \"ts\"], descending=[False, True])\n",
    "    .group_by(\"session\")\n",
    "    .agg(pl.col(\"aid\").unique(maintain_order=True).limit(10).cast(str))\n",
    "    # csv format\n",
    "    .with_columns(\n",
    "        (pl.col(\"session\").cast(str) + \"_clicks\"),\n",
    "        pl.col(\"aid\").list.join(separator=' ')\n",
    "    )\n",
    "    .rename({\"session\": \"session_type\", \"aid\": \"labels\"})\n",
    ")\n",
    "\n",
    "print(clicks_predictions_df)\n",
    "\n",
    "clicks_predictions_df.write_csv(\"out/clicks_predictions.csv\")\n",
    "\n",
    "# Recall@20 scores\n",
    "# last 5 aids: 0.23950409389957777\n",
    "# last 10 aids: 0.24226818123888777"
   ],
   "metadata": {
    "collapsed": false
   }
  },
  {
   "cell_type": "markdown",
   "source": [
    "### Predict next click to be some of the last n clicks"
   ],
   "metadata": {
    "collapsed": false
   }
  },
  {
   "cell_type": "code",
   "execution_count": 6,
   "outputs": [
    {
     "name": "stdout",
     "output_type": "stream",
     "text": [
      "shape: (1_020_317, 2)\n",
      "┌───────────────┬───────────────────────┐\n",
      "│ session_type  ┆ labels                │\n",
      "│ ---           ┆ ---                   │\n",
      "│ str           ┆ str                   │\n",
      "╞═══════════════╪═══════════════════════╡\n",
      "│ 152860_clicks ┆ 621423 545611 621423  │\n",
      "│ 181174_clicks ┆ 1714583               │\n",
      "│ 203060_clicks ┆ 1017032               │\n",
      "│ 26090_clicks  ┆ 877497 1803001 605599 │\n",
      "│ 585412_clicks ┆ 102345 199409         │\n",
      "│ …             ┆ …                     │\n",
      "│ 52531_clicks  ┆ 1502780 1571138       │\n",
      "│ 492062_clicks ┆ 495732                │\n",
      "│ 541488_clicks ┆ 1358020 1570243       │\n",
      "│ 58581_clicks  ┆ 1816625               │\n",
      "│ 737715_clicks ┆ 1343846 1684991       │\n",
      "└───────────────┴───────────────────────┘\n"
     ]
    }
   ],
   "source": [
    "# Sessions\n",
    "clicks_predictions_df = (\n",
    "    test_sessions_df\n",
    "    .explode(\"events\")\n",
    "    .unnest(\"events\")\n",
    "    .filter(pl.col(\"type\") == \"clicks\")\n",
    "    .group_by(\"session\")\n",
    "    .agg(pl.col(\"aid\").top_k_by(\"ts\", 3).cast(str))\n",
    "    # csv format\n",
    "    .with_columns(\n",
    "        (pl.col(\"session\").cast(str) + \"_clicks\"),\n",
    "        pl.col(\"aid\").list.join(separator=' ')\n",
    "    )\n",
    "    .rename({\"session\": \"session_type\", \"aid\": \"labels\"})\n",
    ")\n",
    "print(clicks_predictions_df)\n",
    "\n",
    "clicks_predictions_df.write_csv(\"out/clicks_predictions.csv\")\n",
    "\n",
    "# Recall@20 scores\n",
    "# last 3 clicks: 0.22587691349848216\n",
    "# last 5 clicks: 0.2327766855605164\n",
    "# last 10 clicks: 0.2367765685621105"
   ],
   "metadata": {
    "collapsed": false
   }
  },
  {
   "cell_type": "markdown",
   "source": [
    "### Predict next click to be some of the last n carts"
   ],
   "metadata": {
    "collapsed": false
   }
  },
  {
   "cell_type": "code",
   "execution_count": 7,
   "outputs": [
    {
     "name": "stdout",
     "output_type": "stream",
     "text": [
      "shape: (131_365, 2)\n",
      "┌───────────────┬─────────────────────────────────┐\n",
      "│ session_type  ┆ labels                          │\n",
      "│ ---           ┆ ---                             │\n",
      "│ str           ┆ str                             │\n",
      "╞═══════════════╪═════════════════════════════════╡\n",
      "│ 287746_clicks ┆ 404609                          │\n",
      "│ 941156_clicks ┆ 879978                          │\n",
      "│ 508854_clicks ┆ 1389106 1389106                 │\n",
      "│ 400856_clicks ┆ 643964 1660750                  │\n",
      "│ 575447_clicks ┆ 543682 202774                   │\n",
      "│ …             ┆ …                               │\n",
      "│ 532824_clicks ┆ 110700 1281615                  │\n",
      "│ 950302_clicks ┆ 664792                          │\n",
      "│ 328728_clicks ┆ 262225                          │\n",
      "│ 579880_clicks ┆ 682082 682082 1496286           │\n",
      "│ 306437_clicks ┆ 817116 436574 52502 320264 862… │\n",
      "└───────────────┴─────────────────────────────────┘\n"
     ]
    }
   ],
   "source": [
    "# Sessions\n",
    "clicks_predictions_df = (\n",
    "    test_sessions_df\n",
    "    .explode(\"events\")\n",
    "    .unnest(\"events\")\n",
    "    .filter(pl.col(\"type\") == \"carts\")\n",
    "    .group_by(\"session\")\n",
    "    .agg(pl.col(\"aid\").top_k_by(\"ts\", 5).cast(str))\n",
    "    # csv format\n",
    "    .with_columns(\n",
    "        (pl.col(\"session\").cast(str) + \"_clicks\"),\n",
    "        pl.col(\"aid\").list.join(separator=' ')\n",
    "    )\n",
    "    .rename({\"session\": \"session_type\", \"aid\": \"labels\"})\n",
    ")\n",
    "print(clicks_predictions_df)\n",
    "\n",
    "clicks_predictions_df.write_csv(\"out/clicks_predictions.csv\")\n",
    "\n",
    "# Recall@20 scores\n",
    "# last 5 carts: 0.029992332425899267"
   ],
   "metadata": {
    "collapsed": false
   }
  },
  {
   "cell_type": "markdown",
   "source": [
    "### Predict next click to be some of the last n orders"
   ],
   "metadata": {
    "collapsed": false
   }
  },
  {
   "cell_type": "code",
   "execution_count": 9,
   "outputs": [
    {
     "name": "stdout",
     "output_type": "stream",
     "text": [
      "shape: (6_966, 2)\n",
      "┌───────────────┬────────────────────────┐\n",
      "│ session_type  ┆ labels                 │\n",
      "│ ---           ┆ ---                    │\n",
      "│ str           ┆ str                    │\n",
      "╞═══════════════╪════════════════════════╡\n",
      "│ 255487_clicks ┆ 278062                 │\n",
      "│ 372292_clicks ┆ 692964                 │\n",
      "│ 223493_clicks ┆ 1773065 318230         │\n",
      "│ 95574_clicks  ┆ 1175896 801774 1183286 │\n",
      "│ 976955_clicks ┆ 1658592                │\n",
      "│ …             ┆ …                      │\n",
      "│ 875203_clicks ┆ 1502087 273740         │\n",
      "│ 704024_clicks ┆ 1748119                │\n",
      "│ 884108_clicks ┆ 267029                 │\n",
      "│ 35236_clicks  ┆ 1476166                │\n",
      "│ 812927_clicks ┆ 605890                 │\n",
      "└───────────────┴────────────────────────┘\n"
     ]
    }
   ],
   "source": [
    "# Sessions\n",
    "clicks_predictions_df = (\n",
    "    test_sessions_df\n",
    "    .explode(\"events\")\n",
    "    .unnest(\"events\")\n",
    "    .filter(pl.col(\"type\") == \"orders\")\n",
    "    .group_by(\"session\")\n",
    "    .agg(pl.col(\"aid\").top_k_by(\"ts\", 5).cast(str))\n",
    "    # csv format\n",
    "    .with_columns(\n",
    "        (pl.col(\"session\").cast(str) + \"_clicks\"),\n",
    "        pl.col(\"aid\").list.join(separator=' ')\n",
    "    )\n",
    "    .rename({\"session\": \"session_type\", \"aid\": \"labels\"})\n",
    ")\n",
    "print(clicks_predictions_df)\n",
    "\n",
    "clicks_predictions_df.write_csv(\"out/clicks_predictions.csv\")\n",
    "\n",
    "# Recall@20 scores\n",
    "# last 5 orders: 0.0021320870217429"
   ],
   "metadata": {
    "collapsed": false
   }
  }
 ],
 "metadata": {
  "kernelspec": {
   "display_name": "Python 3",
   "language": "python",
   "name": "python3"
  },
  "language_info": {
   "codemirror_mode": {
    "name": "ipython",
    "version": 2
   },
   "file_extension": ".py",
   "mimetype": "text/x-python",
   "name": "python",
   "nbconvert_exporter": "python",
   "pygments_lexer": "ipython2",
   "version": "2.7.6"
  }
 },
 "nbformat": 4,
 "nbformat_minor": 0
}
