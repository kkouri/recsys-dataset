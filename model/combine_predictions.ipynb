{
 "cells": [
  {
   "cell_type": "code",
   "execution_count": 2,
   "metadata": {
    "collapsed": true
   },
   "outputs": [
    {
     "name": "stdout",
     "output_type": "stream",
     "text": [
      "shape: (1_544_217, 2)\n",
      "┌───────────────┬─────────────────────────────────┐\n",
      "│ session_type  ┆ labels                          │\n",
      "│ ---           ┆ ---                             │\n",
      "│ str           ┆ str                             │\n",
      "╞═══════════════╪═════════════════════════════════╡\n",
      "│ 212230_clicks ┆ 391802 1429965 665403 265913 2… │\n",
      "│ 173183_clicks ┆ 1526607 1163166 11977 1743151 … │\n",
      "│ 39610_clicks  ┆ 1722264 1008582 395095 1531348… │\n",
      "│ 131367_clicks ┆ 83856 585186 493740 252993 165… │\n",
      "│ 52963_clicks  ┆ 1749592 1115704 8602 1351387 7… │\n",
      "│ …             ┆ …                               │\n",
      "│ 212334_orders ┆ 1771439 466890 140070 1693598 … │\n",
      "│ 487849_orders ┆ 951559 1462420 1236505 1264794… │\n",
      "│ 38779_orders  ┆ 497637 607191 172121 1114091 2… │\n",
      "│ 242598_orders ┆ 1577006 1046513 1574266 102231… │\n",
      "│ 344972_orders ┆ 1247867 942953 1656987 766107 … │\n",
      "└───────────────┴─────────────────────────────────┘\n"
     ]
    }
   ],
   "source": [
    "import polars as pl\n",
    "\n",
    "clicks_predictions = (\n",
    "    pl.read_csv('out/clicks_predictions.csv')\n",
    ")\n",
    "\n",
    "carts_predictions = (\n",
    "    pl.read_csv('out/carts_predictions.csv')\n",
    ")\n",
    "\n",
    "orders_predictions = (\n",
    "    pl.read_csv('out/orders_predictions.csv')\n",
    ")\n",
    "\n",
    "predictions = (\n",
    "    pl.concat([\n",
    "        clicks_predictions,\n",
    "        carts_predictions,\n",
    "        orders_predictions\n",
    "    ])\n",
    ")\n",
    "print(predictions)\n",
    "\n",
    "# save to csv\n",
    "predictions.write_csv('out/predictions.csv')\n",
    "\n",
    "# Evaluations scores\n",
    "\n",
    "# Recall@20 scores: {'clicks': 0.5080663499792422, 'carts': 0.5228477623186846, 'orders': 0.6776072747939755, 'total': 0.6142253285699149}\n",
    "# MRR@20 scores: {'clicks': 0.2589197593876678, 'carts': 0.5192958010328335, 'orders': 0.6913567383717544, 'total': 0.5964947592716694}\n",
    "\n",
    "# Recall@10 scores: {'clicks': 0.4349925000573709, 'carts': 0.4931838200420083, 'orders': 0.659636494511427, 'total': 0.5872362927251957}\n",
    "# MRR@10 scores: {'clicks': 0.2538283202746814, 'carts': 0.5170727259024377, 'orders': 0.6903352239850964, 'total': 0.5947057841892572}\n",
    "\n",
    "# Recall@5 scores: {'clicks': 0.3586349478550581, 'carts': 0.47083877364352994, 'orders': 0.6259052504526252, 'total': 0.5526582771501399}\n",
    "# MRR@5 scores: {'clicks': 0.24358534114122338, 'carts': 0.511994499870849, 'orders': 0.6863597709620796, 'total': 0.5897727466526248}"
   ]
  }
 ],
 "metadata": {
  "kernelspec": {
   "display_name": "Python 3",
   "language": "python",
   "name": "python3"
  },
  "language_info": {
   "codemirror_mode": {
    "name": "ipython",
    "version": 2
   },
   "file_extension": ".py",
   "mimetype": "text/x-python",
   "name": "python",
   "nbconvert_exporter": "python",
   "pygments_lexer": "ipython2",
   "version": "2.7.6"
  }
 },
 "nbformat": 4,
 "nbformat_minor": 0
}
