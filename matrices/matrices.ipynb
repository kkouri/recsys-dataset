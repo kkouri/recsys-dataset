{
 "cells": [
  {
   "cell_type": "markdown",
   "source": [
    "# Item relation matrices"
   ],
   "metadata": {
    "collapsed": false
   }
  },
  {
   "cell_type": "markdown",
   "source": [
    "### Get the data"
   ],
   "metadata": {
    "collapsed": false
   },
   "execution_count": 2
  },
  {
   "cell_type": "code",
   "execution_count": 3,
   "outputs": [
    {
     "name": "stdout",
     "output_type": "stream",
     "text": [
      "shape: (12_899_779, 2)\n",
      "┌──────────┬─────────────────────────────────┐\n",
      "│ session  ┆ events                          │\n",
      "│ ---      ┆ ---                             │\n",
      "│ u32      ┆ list[struct[3]]                 │\n",
      "╞══════════╪═════════════════════════════════╡\n",
      "│ 0        ┆ [{1517085,1659304800025,\"click… │\n",
      "│ 1        ┆ [{424964,1659304800025,\"carts\"… │\n",
      "│ 2        ┆ [{763743,1659304800038,\"clicks… │\n",
      "│ 3        ┆ [{1425967,1659304800095,\"carts… │\n",
      "│ 4        ┆ [{613619,1659304800119,\"clicks… │\n",
      "│ …        ┆ …                               │\n",
      "│ 12899774 ┆ [{33035,1661723968869,\"clicks\"… │\n",
      "│ 12899775 ┆ [{1743151,1661723970935,\"click… │\n",
      "│ 12899776 ┆ [{548599,1661723972537,\"clicks… │\n",
      "│ 12899777 ┆ [{384045,1661723976974,\"clicks… │\n",
      "│ 12899778 ┆ [{561560,1661723983611,\"clicks… │\n",
      "└──────────┴─────────────────────────────────┘\n"
     ]
    }
   ],
   "source": [
    "import polars as pl\n",
    "\n",
    "# define the schema of the dataframe\n",
    "event_schema = pl.Struct({\"aid\": pl.UInt32, \"ts\": pl.UInt64, \"type\": str})\n",
    "df_schema = {\"session\": pl.UInt32, \"events\": pl.List(event_schema)}\n",
    "\n",
    "df = pl.read_ndjson('../data/train.jsonl', schema=df_schema, low_memory=True)\n",
    "\n",
    "print(df)"
   ],
   "metadata": {
    "collapsed": false
   }
  },
  {
   "cell_type": "code",
   "execution_count": 4,
   "outputs": [
    {
     "name": "stdout",
     "output_type": "stream",
     "text": [
      "shape: (216_716_096, 4)\n",
      "┌──────────┬─────────┬───────────────┬────────┐\n",
      "│ session  ┆ aid     ┆ ts            ┆ type   │\n",
      "│ ---      ┆ ---     ┆ ---           ┆ ---    │\n",
      "│ u32      ┆ u32     ┆ u64           ┆ str    │\n",
      "╞══════════╪═════════╪═══════════════╪════════╡\n",
      "│ 0        ┆ 1517085 ┆ 1659304800025 ┆ clicks │\n",
      "│ 0        ┆ 1563459 ┆ 1659304904511 ┆ clicks │\n",
      "│ 0        ┆ 1309446 ┆ 1659367439426 ┆ clicks │\n",
      "│ 0        ┆ 16246   ┆ 1659367719997 ┆ clicks │\n",
      "│ 0        ┆ 1781822 ┆ 1659367871344 ┆ clicks │\n",
      "│ …        ┆ …       ┆ …             ┆ …      │\n",
      "│ 12899776 ┆ 1737908 ┆ 1661723987073 ┆ clicks │\n",
      "│ 12899777 ┆ 384045  ┆ 1661723976974 ┆ clicks │\n",
      "│ 12899777 ┆ 384045  ┆ 1661723986800 ┆ clicks │\n",
      "│ 12899778 ┆ 561560  ┆ 1661723983611 ┆ clicks │\n",
      "│ 12899778 ┆ 32070   ┆ 1661723994936 ┆ clicks │\n",
      "└──────────┴─────────┴───────────────┴────────┘\n"
     ]
    }
   ],
   "source": [
    "# Sessions\n",
    "exploded_df = (\n",
    "    df\n",
    "    .explode(\"events\")\n",
    "    .unnest(\"events\")\n",
    ")\n",
    "\n",
    "print(exploded_df)"
   ],
   "metadata": {
    "collapsed": false
   }
  },
  {
   "cell_type": "code",
   "execution_count": 5,
   "outputs": [],
   "source": [
    "def get_sub_sessions(only_clicks=False, with_row_index=False, limit=None):\n",
    "    \"\"\"\n",
    "    Splits sessions into sub sessions based on time between events or session boundaries.\n",
    "\n",
    "    Args:\n",
    "        only_clicks: only clicks are considered in the sub sessions\n",
    "        with_row_index: add row index to the sub sessions in order to calculate delta time between events\n",
    "        limit: limit the amount of rows to be processed.\n",
    "\n",
    "    Returns: DataFrame of sub sessions\n",
    "    \"\"\"\n",
    "\n",
    "    sub_sessions = exploded_df\n",
    "\n",
    "    if limit is not None:\n",
    "        sub_sessions = exploded_df.limit(limit)\n",
    "    if only_clicks:\n",
    "        sub_sessions = sub_sessions.filter(pl.col(\"type\") == \"clicks\")\n",
    "\n",
    "    sub_sessions = (\n",
    "        sub_sessions\n",
    "        # Convert ts to seconds and cast to UInt32 to save memory\n",
    "        .with_columns((pl.col(\"ts\")//1000).cast(pl.UInt32))\n",
    "        .sort([\"session\", \"ts\"])\n",
    "        .with_columns(\n",
    "            next_session = pl.col(\"session\").shift(-1),\n",
    "            next_aid = pl.col(\"aid\").shift(-1),\n",
    "            next_ts = pl.col(\"ts\").shift(-1),\n",
    "            next_type = pl.col(\"type\").shift(-1),\n",
    "        )\n",
    "        # Row is a sub session boundary if there is existing session boundary or if time between events is more than 30 minutes\n",
    "        .with_columns(\n",
    "            is_session_boundary = ((pl.col(\"session\") != pl.col(\"next_session\")) | (pl.col(\"next_ts\") - pl.col(\"ts\") > 1800)),\n",
    "        )\n",
    "        .with_columns(\n",
    "            sub_session = pl.col(\"is_session_boundary\").cum_sum().cast(pl.UInt32),\n",
    "        )\n",
    "        # Filter out session boundaries. This also removes sub sessions with only 1 event which are not interesting\n",
    "        .filter(pl.col(\"is_session_boundary\").not_())\n",
    "        .drop(\"is_session_boundary\")\n",
    "    )\n",
    "\n",
    "    if with_row_index:\n",
    "        sub_sessions = sub_sessions.with_row_index()\n",
    "\n",
    "    return sub_sessions\n",
    "\n",
    "# sub_sessions = get_sub_sessions()\n",
    "# print(sub_sessions)\n",
    "# print(\"Amount of sub sessions:\", sub_sessions.select(\"sub_session\").n_unique())"
   ],
   "metadata": {
    "collapsed": false
   }
  },
  {
   "cell_type": "code",
   "execution_count": 6,
   "outputs": [],
   "source": [
    "# Helper functions\n",
    "\n",
    "def get_clicks_of_sub_session(sub_sessions):\n",
    "    return (\n",
    "        sub_sessions\n",
    "        .filter(pl.col(\"type\") == \"clicks\")\n",
    "        .select([\"sub_session\", \"ts\", \"aid\"])\n",
    "        .rename({\"ts\": \"click_ts\", \"aid\": \"click_aid\"})\n",
    "    )\n",
    "\n",
    "def get_carts_of_sub_session(sub_sessions):\n",
    "    return (\n",
    "        sub_sessions\n",
    "        .filter(pl.col(\"type\") == \"carts\")\n",
    "        .select([\"sub_session\", \"ts\", \"aid\"])\n",
    "        .rename({\"ts\": \"cart_ts\", \"aid\": \"cart_aid\"})\n",
    "    )\n",
    "\n",
    "def get_orders_of_sub_session(sub_sessions):\n",
    "    return (\n",
    "        sub_sessions\n",
    "        .filter(pl.col(\"type\") == \"orders\")\n",
    "        .select([\"sub_session\", \"ts\", \"aid\"])\n",
    "        .rename({\"ts\": \"order_ts\", \"aid\": \"order_aid\"})\n",
    "    )"
   ],
   "metadata": {
    "collapsed": false
   }
  },
  {
   "cell_type": "markdown",
   "source": [
    "### Click to click matrix\n",
    "Click to click matrix is defined as the probabilities of other aids being clicked after the previous aid is clicked.\n",
    "Click to click matrix is formed from the sub sessions since there is no point in counting subsequent clicks that are from a user coming back to site after a long time\n",
    "\n",
    "We do multiple variations of the click to click matrix:"
   ],
   "metadata": {
    "collapsed": false
   }
  },
  {
   "cell_type": "markdown",
   "source": [
    "Next click only"
   ],
   "metadata": {
    "collapsed": false
   }
  },
  {
   "cell_type": "code",
   "execution_count": null,
   "outputs": [],
   "source": [
    "sub_sessions = get_sub_sessions()\n",
    "\n",
    "# Count how many same click to click events there are\n",
    "subsequent_clicks_count = (\n",
    "    sub_sessions\n",
    "    .filter((pl.col(\"type\") == \"clicks\") & (pl.col(\"next_type\") == \"clicks\"))\n",
    "    .group_by([\"aid\", \"next_aid\"])\n",
    "    .agg(pl.len().alias(\"count\"))\n",
    ")\n",
    "\n",
    "# Sum all the clicks for each aid\n",
    "aid_clicks_sum = (\n",
    "    subsequent_clicks_count\n",
    "    .group_by(\"aid\")\n",
    "    .agg(pl.sum(\"count\").alias(\"sum\"))\n",
    ")\n",
    "\n",
    "# Calculate the probabilities of items being clicked immediately after another item has been clicked\n",
    "click_to_click_matrix = (\n",
    "    subsequent_clicks_count\n",
    "    .join(aid_clicks_sum, on=\"aid\")\n",
    "    .with_columns(\n",
    "        probability = pl.col(\"count\") / pl.col(\"sum\")\n",
    "    )\n",
    "    .with_columns(pl.col(\"probability\").cast(pl.Float32))\n",
    "    .drop([\"count\", \"sum\"])\n",
    "    .sort([\"aid\", \"next_aid\"])\n",
    ")\n",
    "\n",
    "print(click_to_click_matrix)\n",
    "\n",
    "# Check that probabilities sum to the amount of unique aids\n",
    "print(\"Unique aids:\", click_to_click_matrix.select(\"aid\").n_unique())\n",
    "print(\"Total probability:\", click_to_click_matrix.select(\"probability\").sum().select(pl.first()).item())"
   ],
   "metadata": {
    "collapsed": false,
    "pycharm": {
     "is_executing": true
    }
   }
  },
  {
   "cell_type": "code",
   "execution_count": null,
   "outputs": [],
   "source": [
    "# save to csv\n",
    "click_to_click_matrix.write_csv(\"./click_to_click_matrix.csv\")"
   ],
   "metadata": {
    "collapsed": false,
    "pycharm": {
     "is_executing": true
    }
   }
  },
  {
   "cell_type": "markdown",
   "source": [
    "Next click only. Remove carts and orders from the sub sessions."
   ],
   "metadata": {
    "collapsed": false
   }
  },
  {
   "cell_type": "code",
   "execution_count": null,
   "outputs": [],
   "source": [
    "sub_sessions = get_sub_sessions(only_clicks=True)\n",
    "\n",
    "# Count how many same click to click events there are\n",
    "subsequent_clicks_count = (\n",
    "    sub_sessions\n",
    "    .group_by([\"aid\", \"next_aid\"])\n",
    "    .agg(pl.len().alias(\"count\"))\n",
    ")\n",
    "\n",
    "# Sum all the clicks for each aid\n",
    "aid_clicks_sum = (\n",
    "    subsequent_clicks_count\n",
    "    .group_by(\"aid\")\n",
    "    .agg(pl.sum(\"count\").alias(\"sum\"))\n",
    ")\n",
    "\n",
    "# Calculate the probabilities of items being clicked immediately after another item has been clicked\n",
    "click_to_click_matrix = (\n",
    "    subsequent_clicks_count\n",
    "    .join(aid_clicks_sum, on=\"aid\")\n",
    "    .with_columns(\n",
    "        probability = pl.col(\"count\") / pl.col(\"sum\")\n",
    "    )\n",
    "    .with_columns(pl.col(\"probability\").cast(pl.Float32))\n",
    "    .drop([\"count\", \"sum\"])\n",
    "    .sort([\"aid\", \"next_aid\"])\n",
    ")\n",
    "\n",
    "print(click_to_click_matrix)\n",
    "\n",
    "# Check that probabilities sum to the amount of unique aids\n",
    "print(\"Unique aids:\", click_to_click_matrix.select(\"aid\").n_unique())\n",
    "print(\"Total probability:\", click_to_click_matrix.select(\"probability\").sum().select(pl.first()).item())"
   ],
   "metadata": {
    "collapsed": false,
    "pycharm": {
     "is_executing": true
    }
   }
  },
  {
   "cell_type": "code",
   "execution_count": null,
   "outputs": [],
   "source": [
    "# save to csv\n",
    "click_to_click_matrix.write_csv(\"./click_to_click_matrix_only_clicks.csv\")"
   ],
   "metadata": {
    "collapsed": false,
    "pycharm": {
     "is_executing": true
    }
   }
  },
  {
   "cell_type": "markdown",
   "source": [
    "### Click to cart matrix\n",
    "Click to cart matrix is defined as the probabilities of other aids being added to cart in the same sub session after an aid is clicked.\n",
    "Click to cart matrix is formed from the sub sessions since the sub session should show clear intent of the user to buy items they click."
   ],
   "metadata": {
    "collapsed": false
   }
  },
  {
   "cell_type": "code",
   "execution_count": null,
   "outputs": [],
   "source": [
    "# Get clicks and carts of sub sessions\n",
    "clicks_of_sub_sessions = get_clicks_of_sub_session(sub_sessions)\n",
    "\n",
    "carts_of_sub_sessions = get_carts_of_sub_session(sub_sessions)\n",
    "\n",
    "carts_after_clicks_in_sub_sessions = (\n",
    "    carts_of_sub_sessions\n",
    "    # Combine clicks and carts of sub sessions\n",
    "    .join(clicks_of_sub_sessions, on=\"sub_session\", how=\"inner\")\n",
    "    # Keep only carts that happened after clicks\n",
    "    .filter(pl.col(\"click_ts\") < pl.col(\"cart_ts\"))\n",
    "    .select([\"sub_session\", \"click_aid\", \"cart_aid\"])\n",
    ")\n",
    "\n",
    "# Count how many same click to cart events there are\n",
    "click_to_cart_count = (\n",
    "    carts_after_clicks_in_sub_sessions\n",
    "    .group_by([\"click_aid\", \"cart_aid\"])\n",
    "    .agg(pl.len().alias(\"count\"))\n",
    "    .sort(\"count\", descending=True)\n",
    ")\n",
    "\n",
    "# Sum all the clicks for each aid\n",
    "aid_clicks_sum = (\n",
    "    click_to_cart_count\n",
    "    .group_by(\"click_aid\")\n",
    "    .agg(pl.sum(\"count\").alias(\"sum\"))\n",
    "    .sort(\"sum\", descending=True)\n",
    ")\n",
    "\n",
    "# Calculate the probabilities of items being added to cart after another item has been clicked\n",
    "click_to_cart_matrix = (\n",
    "    click_to_cart_count\n",
    "    .join(aid_clicks_sum, on=\"click_aid\")\n",
    "    .with_columns(\n",
    "        probability = pl.col(\"count\") / pl.col(\"sum\")\n",
    "    )\n",
    "    .with_columns(pl.col(\"probability\").cast(pl.Float32))\n",
    "    .drop([\"count\", \"sum\"])\n",
    "    .sort([\"click_aid\", \"cart_aid\"])\n",
    ")\n",
    "\n",
    "print(click_to_cart_matrix)\n",
    "\n",
    "# Check that probabilities sum to the amount of unique aids\n",
    "print(\"Unique aids:\", click_to_cart_matrix.select(\"click_aid\").n_unique())\n",
    "print(\"Total probability:\", click_to_cart_matrix.select(\"probability\").sum().select(pl.first()).item())"
   ],
   "metadata": {
    "collapsed": false,
    "pycharm": {
     "is_executing": true
    }
   }
  },
  {
   "cell_type": "code",
   "execution_count": null,
   "outputs": [],
   "source": [
    "# save to csv\n",
    "click_to_cart_matrix.write_csv(\"./click_to_cart_matrix.csv\")"
   ],
   "metadata": {
    "collapsed": false,
    "pycharm": {
     "is_executing": true
    }
   }
  },
  {
   "cell_type": "markdown",
   "source": [
    "### Click to order matrix\n",
    "Click to order matrix is defined as the probabilities of other aids being ordered in the same sub session after an aid is clicked.\n",
    "Click to order matrix is formed from the sub sessions since the sub session should show clear intent of the user to buy items they click."
   ],
   "metadata": {
    "collapsed": false
   }
  },
  {
   "cell_type": "code",
   "execution_count": null,
   "outputs": [],
   "source": [
    "# Get clicks and orders of sub sessions\n",
    "clicks_of_sub_sessions = get_clicks_of_sub_session(sub_sessions)\n",
    "\n",
    "orders_of_sub_sessions = get_orders_of_sub_session(sub_sessions)\n",
    "\n",
    "orders_after_clicks_in_sub_sessions = (\n",
    "    orders_of_sub_sessions\n",
    "    # Combine clicks and orders of sub sessions\n",
    "    .join(clicks_of_sub_sessions, on=\"sub_session\", how=\"inner\")\n",
    "    # Keep only orders that happened after clicks\n",
    "    .filter(pl.col(\"click_ts\") < pl.col(\"order_ts\"))\n",
    "    .select([\"sub_session\", \"click_aid\", \"order_aid\"])\n",
    ")\n",
    "\n",
    "# Count how many same click to order events there are\n",
    "click_to_order_count = (\n",
    "    orders_after_clicks_in_sub_sessions\n",
    "    .group_by([\"click_aid\", \"order_aid\"])\n",
    "    .agg(pl.len().alias(\"count\"))\n",
    "    .sort(\"count\", descending=True)\n",
    ")\n",
    "\n",
    "# Sum all the clicks for each aid\n",
    "aid_clicks_sum = (\n",
    "    click_to_order_count\n",
    "    .group_by(\"click_aid\")\n",
    "    .agg(pl.sum(\"count\").alias(\"sum\"))\n",
    "    .sort(\"sum\", descending=True)\n",
    ")\n",
    "\n",
    "# Calculate the probabilities of items being ordered after another item has been clicked\n",
    "click_to_order_matrix = (\n",
    "    click_to_order_count\n",
    "    .join(aid_clicks_sum, on=\"click_aid\")\n",
    "    .with_columns(\n",
    "        probability = pl.col(\"count\") / pl.col(\"sum\")\n",
    "    )\n",
    "    .with_columns(pl.col(\"probability\").cast(pl.Float32))\n",
    "    .drop([\"count\", \"sum\"])\n",
    "    .sort([\"click_aid\", \"order_aid\"])\n",
    ")\n",
    "\n",
    "print(click_to_order_matrix)\n",
    "\n",
    "# Check that probabilities sum to the amount of unique aids\n",
    "print(\"Unique aids:\", click_to_order_matrix.select(\"click_aid\").n_unique())\n",
    "print(\"Total probability:\", click_to_order_matrix.select(\"probability\").sum().select(pl.first()).item())"
   ],
   "metadata": {
    "collapsed": false,
    "pycharm": {
     "is_executing": true
    }
   }
  },
  {
   "cell_type": "code",
   "execution_count": null,
   "outputs": [],
   "source": [
    "# save to csv\n",
    "click_to_order_matrix.write_csv(\"./click_to_order_matrix.csv\")"
   ],
   "metadata": {
    "collapsed": false,
    "pycharm": {
     "is_executing": true
    }
   }
  },
  {
   "cell_type": "markdown",
   "source": [
    "### Cart to click matrix\n",
    "Cart to click matrix is defined as the probabilities of other aids being clicked immediately after an aid is added to cart."
   ],
   "metadata": {
    "collapsed": false
   }
  },
  {
   "cell_type": "code",
   "execution_count": null,
   "outputs": [],
   "source": [
    "# Get carts and clicks of sub sessions\n",
    "carts_of_sub_sessions = get_carts_of_sub_session(sub_sessions)\n",
    "\n",
    "clicks_of_sub_sessions = get_clicks_of_sub_session(sub_sessions)\n",
    "\n",
    "clicks_after_carts_in_sub_sessions = (\n",
    "    clicks_of_sub_sessions\n",
    "    # Combine carts and clicks of sub sessions\n",
    "    .join(carts_of_sub_sessions, on=\"sub_session\", how=\"inner\")\n",
    "    # Keep only clicks that happened after carts\n",
    "    .filter(pl.col(\"cart_ts\") < pl.col(\"click_ts\"))\n",
    "    .select([\"sub_session\", \"cart_aid\", \"click_aid\"])\n",
    ")\n",
    "\n",
    "# Count how many same cart to click events there are\n",
    "cart_to_click_count = (\n",
    "    clicks_after_carts_in_sub_sessions\n",
    "    .group_by([\"cart_aid\", \"click_aid\"])\n",
    "    .agg(pl.len().alias(\"count\"))\n",
    "    .sort(\"count\", descending=True)\n",
    ")\n",
    "\n",
    "# Sum all the carts for each aid\n",
    "aid_carts_sum = (\n",
    "    cart_to_click_count\n",
    "    .group_by(\"cart_aid\")\n",
    "    .agg(pl.sum(\"count\").alias(\"sum\"))\n",
    "    .sort(\"sum\", descending=True)\n",
    ")\n",
    "\n",
    "# Calculate the probabilities of items being clicked immediately after another item has been added to cart\n",
    "cart_to_click_matrix = (\n",
    "    cart_to_click_count\n",
    "    .join(aid_carts_sum, on=\"cart_aid\")\n",
    "    .with_columns(\n",
    "        probability = pl.col(\"count\") / pl.col(\"sum\")\n",
    "    )\n",
    "    .with_columns(pl.col(\"probability\").cast(pl.Float32))\n",
    "    .drop([\"count\", \"sum\"])\n",
    "    .sort([\"cart_aid\", \"click_aid\"])\n",
    ")\n",
    "\n",
    "print(cart_to_click_matrix)\n",
    "\n",
    "# Check that probabilities sum to the amount of unique aids\n",
    "print(\"Unique aids:\", cart_to_click_matrix.select(\"cart_aid\").n_unique())\n",
    "print(\"Total probability:\", cart_to_click_matrix.select(\"probability\").sum().select(pl.first()).item())"
   ],
   "metadata": {
    "collapsed": false,
    "pycharm": {
     "is_executing": true
    }
   }
  },
  {
   "cell_type": "code",
   "execution_count": null,
   "outputs": [],
   "source": [
    "# save to csv\n",
    "cart_to_click_matrix.write_csv(\"./cart_to_click_matrix.csv\")"
   ],
   "metadata": {
    "collapsed": false,
    "pycharm": {
     "is_executing": true
    }
   }
  },
  {
   "cell_type": "markdown",
   "source": [
    "### Cart to cart matrix\n",
    "Cart to cart matrix is defined as the probabilities of other aids being added to cart later in the same sub session where an aid is added to cart."
   ],
   "metadata": {
    "collapsed": false
   }
  },
  {
   "cell_type": "code",
   "execution_count": null,
   "outputs": [],
   "source": [
    "# Get carts of sub sessions\n",
    "carts_of_sub_sessions = get_carts_of_sub_session(sub_sessions)\n",
    "\n",
    "next_carts_of_sub_sessions = (\n",
    "    carts_of_sub_sessions\n",
    "    .rename({\"cart_ts\": \"next_cart_ts\", \"cart_aid\": \"next_cart_aid\"})\n",
    ")\n",
    "\n",
    "# Find subsequent carts in the same sub session\n",
    "subsequent_carts = (\n",
    "    carts_of_sub_sessions\n",
    "    .join(next_carts_of_sub_sessions, on=\"sub_session\", how=\"inner\")\n",
    "    .filter(pl.col(\"cart_ts\") < pl.col(\"next_cart_ts\"))\n",
    "    .select([\"sub_session\", \"cart_aid\", \"next_cart_aid\"])\n",
    ")\n",
    "\n",
    "# Count how many same cart to cart events there are\n",
    "subsequent_carts_count = (\n",
    "    subsequent_carts\n",
    "    .group_by([\"cart_aid\", \"next_cart_aid\"])\n",
    "    .agg(pl.len().alias(\"count\"))\n",
    "    .sort(\"count\", descending=True)\n",
    ")\n",
    "\n",
    "# Sum all the carts for each aid\n",
    "aid_carts_sum = (\n",
    "    subsequent_carts_count\n",
    "    .group_by(\"cart_aid\")\n",
    "    .agg(pl.sum(\"count\").alias(\"sum\"))\n",
    "    .sort(\"sum\", descending=True)\n",
    ")\n",
    "\n",
    "# Calculate the probabilities of items being added to cart after another item has been added to cart\n",
    "cart_to_cart_matrix = (\n",
    "    subsequent_carts_count\n",
    "    .join(aid_carts_sum, on=\"cart_aid\")\n",
    "    .with_columns(\n",
    "        probability = pl.col(\"count\") / pl.col(\"sum\")\n",
    "    )\n",
    "    .with_columns(pl.col(\"probability\").cast(pl.Float32))\n",
    "    .drop([\"count\", \"sum\"])\n",
    "    .sort([\"cart_aid\", \"next_cart_aid\"])\n",
    ")\n",
    "\n",
    "print(cart_to_cart_matrix)\n",
    "\n",
    "# Check that probabilities sum to the amount of unique aids\n",
    "print(\"Unique aids:\", cart_to_cart_matrix.select(\"aid\").n_unique())\n",
    "print(\"Total probability:\", cart_to_cart_matrix.select(\"probability\").sum().select(pl.first()).item())"
   ],
   "metadata": {
    "collapsed": false,
    "pycharm": {
     "is_executing": true
    }
   }
  },
  {
   "cell_type": "code",
   "execution_count": null,
   "outputs": [],
   "source": [
    "# save to csv\n",
    "cart_to_cart_matrix.write_csv(\"./cart_to_cart_matrix.csv\")"
   ],
   "metadata": {
    "collapsed": false,
    "pycharm": {
     "is_executing": true
    }
   }
  },
  {
   "cell_type": "markdown",
   "source": [
    "### Cart to order matrix\n",
    "Cart to order matrix is defined as the probabilities of other aids being ordered later in the same sub session where an aid is added to cart."
   ],
   "metadata": {
    "collapsed": false
   }
  },
  {
   "cell_type": "code",
   "execution_count": null,
   "outputs": [],
   "source": [
    "# Get carts and orders of sub sessions\n",
    "carts_of_sub_sessions = get_carts_of_sub_session(sub_sessions)\n",
    "\n",
    "orders_of_sub_sessions = get_orders_of_sub_session(sub_sessions)\n",
    "\n",
    "orders_after_carts_in_sub_sessions = (\n",
    "    orders_of_sub_sessions\n",
    "    # Combine carts and orders of sub sessions\n",
    "    .join(carts_of_sub_sessions, on=\"sub_session\", how=\"inner\")\n",
    "    # Keep only orders that happened after carts\n",
    "    .filter(pl.col(\"cart_ts\") < pl.col(\"order_ts\"))\n",
    "    .select([\"sub_session\", \"cart_aid\", \"order_aid\"])\n",
    ")\n",
    "\n",
    "# Count how many same cart to order events there are\n",
    "cart_to_order_count = (\n",
    "    orders_after_carts_in_sub_sessions\n",
    "    .group_by([\"cart_aid\", \"order_aid\"])\n",
    "    .agg(pl.len().alias(\"count\"))\n",
    "    .sort(\"count\", descending=True)\n",
    ")\n",
    "\n",
    "# Sum all the carts for each aid\n",
    "aid_carts_sum = (\n",
    "    cart_to_order_count\n",
    "    .group_by(\"cart_aid\")\n",
    "    .agg(pl.sum(\"count\").alias(\"sum\"))\n",
    "    .sort(\"sum\", descending=True)\n",
    ")\n",
    "\n",
    "# Calculate the probabilities of items being ordered after another item has been added to cart\n",
    "cart_to_order_matrix = (\n",
    "    cart_to_order_count\n",
    "    .join(aid_carts_sum, on=\"cart_aid\")\n",
    "    .with_columns(\n",
    "        probability = pl.col(\"count\") / pl.col(\"sum\")\n",
    "    )\n",
    "    .with_columns(pl.col(\"probability\").cast(pl.Float32))\n",
    "    .drop([\"count\", \"sum\"])\n",
    "    .sort([\"cart_aid\", \"order_aid\"])\n",
    ")\n",
    "\n",
    "print(cart_to_order_matrix)\n",
    "\n",
    "# Check that probabilities sum to the amount of unique aids\n",
    "print(\"Unique aids:\", cart_to_order_matrix.select(\"cart_aid\").n_unique())\n",
    "print(\"Total probability:\", cart_to_order_matrix.select(\"probability\").sum().select(pl.first()).item())"
   ],
   "metadata": {
    "collapsed": false,
    "pycharm": {
     "is_executing": true
    }
   }
  },
  {
   "cell_type": "code",
   "execution_count": null,
   "outputs": [],
   "source": [
    "# save to csv\n",
    "cart_to_order_matrix.write_csv(\"./cart_to_order_matrix.csv\")"
   ],
   "metadata": {
    "collapsed": false,
    "pycharm": {
     "is_executing": true
    }
   }
  },
  {
   "cell_type": "markdown",
   "source": [
    "### Order to click matrix\n",
    "Order to click matrix is defined as the probabilities of other aids being clicked immediately after an aid is ordered."
   ],
   "metadata": {
    "collapsed": false
   }
  },
  {
   "cell_type": "code",
   "execution_count": null,
   "outputs": [],
   "source": [
    "# Get orders and clicks of sub sessions\n",
    "orders_of_sub_sessions = get_orders_of_sub_session(sub_sessions)\n",
    "\n",
    "clicks_of_sub_sessions = get_clicks_of_sub_session(sub_sessions)\n",
    "\n",
    "clicks_after_orders_in_sub_sessions = (\n",
    "    clicks_of_sub_sessions\n",
    "    # Combine orders and clicks of sub sessions\n",
    "    .join(orders_of_sub_sessions, on=\"sub_session\", how=\"inner\")\n",
    "    # Keep only clicks that happened after orders\n",
    "    .filter(pl.col(\"order_ts\") < pl.col(\"click_ts\"))\n",
    "    .select([\"sub_session\", \"order_aid\", \"click_aid\"])\n",
    ")\n",
    "\n",
    "# Count how many same order to click events there are\n",
    "order_to_click_count = (\n",
    "    clicks_after_orders_in_sub_sessions\n",
    "    .group_by([\"order_aid\", \"click_aid\"])\n",
    "    .agg(pl.len().alias(\"count\"))\n",
    "    .sort(\"count\", descending=True)\n",
    ")\n",
    "\n",
    "# Sum all the orders for each aid\n",
    "aid_orders_sum = (\n",
    "    order_to_click_count\n",
    "    .group_by(\"order_aid\")\n",
    "    .agg(pl.sum(\"count\").alias(\"sum\"))\n",
    "    .sort(\"sum\", descending=True)\n",
    ")\n",
    "\n",
    "# Calculate the probabilities of items being clicked immediately after another item has been ordered\n",
    "order_to_click_matrix = (\n",
    "    order_to_click_count\n",
    "    .join(aid_orders_sum, on=\"order_aid\")\n",
    "    .with_columns(\n",
    "        probability = pl.col(\"count\") / pl.col(\"sum\")\n",
    "    )\n",
    "    .with_columns(pl.col(\"probability\").cast(pl.Float32))\n",
    "    .drop([\"count\", \"sum\"])\n",
    "    .sort([\"order_aid\", \"click_aid\"])\n",
    ")\n",
    "\n",
    "print(order_to_click_matrix)\n",
    "\n",
    "# Check that probabilities sum to the amount of unique aids\n",
    "print(\"Unique aids:\", order_to_click_matrix.select(\"order_aid\").n_unique())\n",
    "print(\"Total probability:\", order_to_click_matrix.select(\"probability\").sum().select(pl.first()).item())"
   ],
   "metadata": {
    "collapsed": false,
    "pycharm": {
     "is_executing": true
    }
   }
  },
  {
   "cell_type": "code",
   "execution_count": null,
   "outputs": [],
   "source": [
    "# save to csv\n",
    "order_to_click_matrix.write_csv(\"./order_to_click_matrix.csv\")"
   ],
   "metadata": {
    "collapsed": false,
    "pycharm": {
     "is_executing": true
    }
   }
  },
  {
   "cell_type": "markdown",
   "source": [
    "### Order to cart matrix\n",
    "Order to cart matrix is defined as the probabilities of other aids being added to cart later in the same sub session where an aid is ordered."
   ],
   "metadata": {
    "collapsed": false
   }
  },
  {
   "cell_type": "code",
   "execution_count": null,
   "outputs": [],
   "source": [
    "# Get orders and carts of sub sessions\n",
    "orders_of_sub_sessions = get_orders_of_sub_session(sub_sessions)\n",
    "\n",
    "carts_of_sub_sessions = get_carts_of_sub_session(sub_sessions)\n",
    "\n",
    "carts_after_orders_in_sub_sessions = (\n",
    "    carts_of_sub_sessions\n",
    "    # Combine orders and carts of sub sessions\n",
    "    .join(orders_of_sub_sessions, on=\"sub_session\", how=\"inner\")\n",
    "    # Keep only carts that happened after orders\n",
    "    .filter(pl.col(\"order_ts\") < pl.col(\"cart_ts\"))\n",
    "    .select([\"sub_session\", \"order_aid\", \"cart_aid\"])\n",
    ")\n",
    "\n",
    "# Count how many same order to cart events there are\n",
    "order_to_cart_count = (\n",
    "    carts_after_orders_in_sub_sessions\n",
    "    .group_by([\"order_aid\", \"cart_aid\"])\n",
    "    .agg(pl.len().alias(\"count\"))\n",
    "    .sort(\"count\", descending=True)\n",
    ")\n",
    "\n",
    "# Sum all the orders for each aid\n",
    "aid_orders_sum = (\n",
    "    order_to_cart_count\n",
    "    .group_by(\"order_aid\")\n",
    "    .agg(pl.sum(\"count\").alias(\"sum\"))\n",
    "    .sort(\"sum\", descending=True)\n",
    ")\n",
    "\n",
    "# Calculate the probabilities of items being added to cart after another item has been ordered\n",
    "order_to_cart_matrix = (\n",
    "    order_to_cart_count\n",
    "    .join(aid_orders_sum, on=\"order_aid\")\n",
    "    .with_columns(\n",
    "        probability = pl.col(\"count\") / pl.col(\"sum\")\n",
    "    )\n",
    "    .with_columns(pl.col(\"probability\").cast(pl.Float32))\n",
    "    .drop([\"count\", \"sum\"])\n",
    "    .sort([\"order_aid\", \"cart_aid\"])\n",
    ")\n",
    "\n",
    "print(order_to_cart_matrix)\n",
    "\n",
    "# Check that probabilities sum to the amount of unique aids\n",
    "print(\"Unique aids:\", order_to_cart_matrix.select(\"order_aid\").n_unique())\n",
    "print(\"Total probability:\", order_to_cart_matrix.select(\"probability\").sum().select(pl.first()).item())"
   ],
   "metadata": {
    "collapsed": false,
    "pycharm": {
     "is_executing": true
    }
   }
  },
  {
   "cell_type": "code",
   "execution_count": null,
   "outputs": [],
   "source": [
    "# save to csv\n",
    "order_to_cart_matrix.write_csv(\"./order_to_cart_matrix.csv\")"
   ],
   "metadata": {
    "collapsed": false,
    "pycharm": {
     "is_executing": true
    }
   }
  },
  {
   "cell_type": "markdown",
   "source": [
    "### Order to order matrix\n",
    "Order to order matrix is defined as the probabilities of other aids being ordered later in the same sub session where an aid is ordered."
   ],
   "metadata": {
    "collapsed": false
   }
  },
  {
   "cell_type": "code",
   "execution_count": null,
   "outputs": [],
   "source": [
    "# Get orders of sub sessions\n",
    "orders_of_sub_sessions = get_orders_of_sub_session(sub_sessions)\n",
    "\n",
    "next_orders_of_sub_sessions = (\n",
    "    orders_of_sub_sessions\n",
    "    .rename({\"order_ts\": \"next_order_ts\", \"order_aid\": \"next_order_aid\"})\n",
    ")\n",
    "\n",
    "# Find subsequent orders in the same sub session\n",
    "subsequent_orders = (\n",
    "    orders_of_sub_sessions\n",
    "    .join(next_orders_of_sub_sessions, on=\"sub_session\", how=\"inner\")\n",
    "    .filter(pl.col(\"order_ts\") < pl.col(\"next_order_ts\"))\n",
    "    .select([\"sub_session\", \"order_aid\", \"next_order_aid\"])\n",
    ")\n",
    "\n",
    "# Count how many same order to order events there are\n",
    "subsequent_orders_count = (\n",
    "    subsequent_orders\n",
    "    .group_by([\"order_aid\", \"next_order_aid\"])\n",
    "    .agg(pl.len().alias(\"count\"))\n",
    "    .sort(\"count\", descending=True)\n",
    ")\n",
    "\n",
    "# Sum all the orders for each aid\n",
    "aid_orders_sum = (\n",
    "    subsequent_orders_count\n",
    "    .group_by(\"order_aid\")\n",
    "    .agg(pl.sum(\"count\").alias(\"sum\"))\n",
    "    .sort(\"sum\", descending=True)\n",
    ")\n",
    "\n",
    "# Calculate the probabilities of items being ordered after another item has been ordered\n",
    "order_to_order_matrix = (\n",
    "    subsequent_orders_count\n",
    "    .join(aid_orders_sum, on=\"order_aid\")\n",
    "    .with_columns(\n",
    "        probability = pl.col(\"count\") / pl.col(\"sum\")\n",
    "    )\n",
    "    .with_columns(pl.col(\"probability\").cast(pl.Float32))\n",
    "    .drop([\"count\", \"sum\"])\n",
    "    .sort([\"order_aid\", \"next_order_aid\"])\n",
    ")\n",
    "\n",
    "print(order_to_order_matrix)\n",
    "\n",
    "# Check that probabilities sum to the amount of unique aids\n",
    "print(\"Unique aids:\", order_to_order_matrix.select(\"order_aid\").n_unique())\n",
    "print(\"Total probability:\", order_to_order_matrix.select(\"probability\").sum().select(pl.first()).item())"
   ],
   "metadata": {
    "collapsed": false,
    "pycharm": {
     "is_executing": true
    }
   }
  },
  {
   "cell_type": "code",
   "execution_count": null,
   "outputs": [],
   "source": [
    "# save to csv\n",
    "order_to_order_matrix.write_csv(\"./order_to_order_matrix.csv\")"
   ],
   "metadata": {
    "collapsed": false,
    "pycharm": {
     "is_executing": true
    }
   }
  },
  {
   "cell_type": "markdown",
   "source": [
    "### Order incompatibility matrix\n",
    "Order incompatibility matrix is defined as links between items which are often ordered with same items but are never ordered together."
   ],
   "metadata": {
    "collapsed": false
   }
  },
  {
   "cell_type": "code",
   "execution_count": 21,
   "outputs": [
    {
     "name": "stdout",
     "output_type": "stream",
     "text": [
      "shape: (145_610, 2)\n",
      "┌───────────┬───────┐\n",
      "│ order_aid ┆ count │\n",
      "│ ---       ┆ ---   │\n",
      "│ u32       ┆ u32   │\n",
      "╞═══════════╪═══════╡\n",
      "│ 3         ┆ 13    │\n",
      "│ 21        ┆ 15    │\n",
      "│ 32        ┆ 4     │\n",
      "│ 39        ┆ 12    │\n",
      "│ 50        ┆ 6     │\n",
      "│ …         ┆ …     │\n",
      "│ 1855571   ┆ 4     │\n",
      "│ 1855572   ┆ 14    │\n",
      "│ 1855576   ┆ 6     │\n",
      "│ 1855582   ┆ 5     │\n",
      "│ 1855594   ┆ 40    │\n",
      "└───────────┴───────┘\n",
      "shape: (1_897_899, 2)\n",
      "┌─────────────┬───────────┐\n",
      "│ sub_session ┆ order_aid │\n",
      "│ ---         ┆ ---       │\n",
      "│ u32         ┆ u32       │\n",
      "╞═════════════╪═══════════╡\n",
      "│ 3831086     ┆ 506170    │\n",
      "│ 3831086     ┆ 866814    │\n",
      "│ 3831086     ┆ 1364631   │\n",
      "│ 3831086     ┆ 1409907   │\n",
      "│ 3831086     ┆ 1502524   │\n",
      "│ …           ┆ …         │\n",
      "│ 37571301    ┆ 1716062   │\n",
      "│ 16332033    ┆ 801774    │\n",
      "│ 16332033    ┆ 946991    │\n",
      "│ 16332033    ┆ 1012438   │\n",
      "│ 16332033    ┆ 1598282   │\n",
      "└─────────────┴───────────┘\n",
      "shape: (118_652, 3)\n",
      "┌───────────┬─────────────────┬───────┐\n",
      "│ order_aid ┆ order_aid_right ┆ count │\n",
      "│ ---       ┆ ---             ┆ ---   │\n",
      "│ u32       ┆ u32             ┆ u32   │\n",
      "╞═══════════╪═════════════════╪═══════╡\n",
      "│ 1181318   ┆ 1046987         ┆ 10    │\n",
      "│ 1325613   ┆ 143354          ┆ 13    │\n",
      "│ 266638    ┆ 231487          ┆ 4     │\n",
      "│ 1695994   ┆ 127710          ┆ 4     │\n",
      "│ 1230322   ┆ 1087814         ┆ 6     │\n",
      "│ …         ┆ …               ┆ …     │\n",
      "│ 1788135   ┆ 1647179         ┆ 8     │\n",
      "│ 319618    ┆ 1498161         ┆ 19    │\n",
      "│ 1714681   ┆ 533068          ┆ 10    │\n",
      "│ 1672256   ┆ 465744          ┆ 8     │\n",
      "│ 1788886   ┆ 1618083         ┆ 4     │\n",
      "└───────────┴─────────────────┴───────┘\n",
      "shape: (20_357, 2)\n",
      "┌───────────┬──────────────────────────────┐\n",
      "│ order_aid ┆ bought_together_with         │\n",
      "│ ---       ┆ ---                          │\n",
      "│ u32       ┆ list[u32]                    │\n",
      "╞═══════════╪══════════════════════════════╡\n",
      "│ 1781251   ┆ [448721, 210035]             │\n",
      "│ 1843128   ┆ [1458715]                    │\n",
      "│ 208050    ┆ [1228333, 1635374, 146647]   │\n",
      "│ 1514114   ┆ [148384, 1194189, … 527209]  │\n",
      "│ 284980    ┆ [906839]                     │\n",
      "│ …         ┆ …                            │\n",
      "│ 557089    ┆ [1114391]                    │\n",
      "│ 865101    ┆ [1658497, 925759, 1711180]   │\n",
      "│ 114146    ┆ [1171807]                    │\n",
      "│ 1502690   ┆ [307821, 376287, … 1804000]  │\n",
      "│ 1054903   ┆ [274503, 1014127, … 1251202] │\n",
      "└───────────┴──────────────────────────────┘\n",
      "Start\n",
      "row 1000\n",
      "row 2000\n",
      "row 3000\n",
      "row 4000\n",
      "row 5000\n",
      "row 6000\n",
      "row 7000\n",
      "row 8000\n",
      "row 9000\n",
      "row 10000\n",
      "row 11000\n",
      "row 12000\n",
      "row 13000\n",
      "row 14000\n",
      "row 15000\n",
      "row 16000\n",
      "row 17000\n",
      "row 18000\n",
      "row 19000\n",
      "row 20000\n",
      "Done\n",
      "\n",
      "shape: (1_831_532, 2)\n",
      "┌─────────┬──────────────────┐\n",
      "│ aid     ┆ incompatible_aid │\n",
      "│ ---     ┆ ---              │\n",
      "│ u32     ┆ u32              │\n",
      "╞═════════╪══════════════════╡\n",
      "│ 297     ┆ 601827           │\n",
      "│ 297     ┆ 688816           │\n",
      "│ 297     ┆ 699087           │\n",
      "│ 297     ┆ 1536319          │\n",
      "│ 344     ┆ 158161           │\n",
      "│ …       ┆ …                │\n",
      "│ 1855508 ┆ 1675581          │\n",
      "│ 1855508 ┆ 1680695          │\n",
      "│ 1855508 ┆ 1691066          │\n",
      "│ 1855508 ┆ 1704678          │\n",
      "│ 1855508 ┆ 1776450          │\n",
      "└─────────┴──────────────────┘\n"
     ]
    }
   ],
   "source": [
    "sub_sessions = get_sub_sessions()\n",
    "\n",
    "orders_of_sub_sessions_df = get_orders_of_sub_session(sub_sessions)\n",
    "\n",
    "# how many times item has to be ordered with another item so that their relation can be considered strong\n",
    "ordered_together_threshold = 4\n",
    "\n",
    "allowed_aids_df = (\n",
    "    orders_of_sub_sessions_df\n",
    "    .group_by(\"order_aid\")\n",
    "    .agg(pl.len().alias(\"count\"))\n",
    "    .filter(pl.col(\"count\") >= ordered_together_threshold)\n",
    "    .sort(\"order_aid\")\n",
    ")\n",
    "\n",
    "print(allowed_aids_df)\n",
    "\n",
    "multi_order_sub_sessions_df = (\n",
    "    orders_of_sub_sessions_df\n",
    "    # filter aids with too few orders\n",
    "    .join(allowed_aids_df.select(\"order_aid\"), on=\"order_aid\", how=\"inner\")\n",
    "    # group orders and get unique aids for each order\n",
    "    .group_by(\"sub_session\")\n",
    "    # Remove items ordered multiple times in single session\n",
    "    .agg(pl.col(\"order_aid\").unique().sort())\n",
    "    # filter out orders with only one item left\n",
    "    .filter(pl.col(\"order_aid\").list.len() > 1)\n",
    "    .explode(\"order_aid\")\n",
    ")\n",
    "\n",
    "print(multi_order_sub_sessions_df)\n",
    "\n",
    "bought_together_count = (\n",
    "    multi_order_sub_sessions_df\n",
    "    .join(multi_order_sub_sessions_df, on=\"sub_session\", how=\"inner\")\n",
    "    .drop(\"sub_session\")\n",
    "    .group_by([\"order_aid\", \"order_aid_right\"])\n",
    "    .agg(pl.len().alias(\"count\"))\n",
    "    # How many times ordered together\n",
    "    .filter((pl.col(\"count\") >= ordered_together_threshold) & (pl.col(\"order_aid\") != pl.col(\"order_aid_right\")))\n",
    ")\n",
    "\n",
    "print(bought_together_count)\n",
    "\n",
    "aids_bought_together_df = (\n",
    "    bought_together_count\n",
    "    .group_by(\"order_aid\")\n",
    "    .agg(pl.col(\"order_aid_right\").alias(\"bought_together_with\"))\n",
    ")\n",
    "\n",
    "print(aids_bought_together_df)\n",
    "\n",
    "incompatible_pairs = []\n",
    "\n",
    "print(\"Start\")\n",
    "for index, order_aid in enumerate(aids_bought_together_df.select(\"order_aid\").to_numpy().reshape(-1)):\n",
    "    if (index+1) % 1000 == 0:\n",
    "        print(\"row\", index+1)\n",
    "\n",
    "    aids_bought_together = aids_bought_together_df.row(by_predicate=(pl.col(\"order_aid\") == order_aid))[1]\n",
    "    for aid in aids_bought_together:\n",
    "        incompatible_aids = aids_bought_together_df.row(by_predicate=(pl.col(\"order_aid\") == aid))[1]\n",
    "        new_incompatible_pairs = [(order_aid, aid) for aid in incompatible_aids]\n",
    "        incompatible_pairs.extend(new_incompatible_pairs)\n",
    "\n",
    "print(\"Done\")\n",
    "print()\n",
    "\n",
    "incompatible_df = (\n",
    "    pl.DataFrame(\n",
    "        data=incompatible_pairs,\n",
    "        orient='row',\n",
    "        schema={\"aid\": pl.UInt32, \"incompatible_aid\": pl.UInt32}\n",
    "    )\n",
    "    .filter(pl.col(\"aid\") != pl.col(\"incompatible_aid\"))\n",
    "    .unique()\n",
    "    .sort([\"aid\", \"incompatible_aid\"])\n",
    ")\n",
    "print(incompatible_df)"
   ],
   "metadata": {
    "collapsed": false
   }
  },
  {
   "cell_type": "code",
   "execution_count": 22,
   "outputs": [],
   "source": [
    "# Write to csv\n",
    "incompatible_df.write_csv(\"./incompatible_matrix.csv\")"
   ],
   "metadata": {
    "collapsed": false
   }
  },
  {
   "cell_type": "code",
   "execution_count": 26,
   "outputs": [
    {
     "name": "stdout",
     "output_type": "stream",
     "text": [
      "Incompatible products found for 16606 unique products\n"
     ]
    }
   ],
   "source": [
    "unique_incompatible_count = (\n",
    "    incompatible_df\n",
    "    .select(\"aid\")\n",
    "    .n_unique()\n",
    ")\n",
    "\n",
    "print(f\"Incompatible products found for {unique_incompatible_count} unique products\")"
   ],
   "metadata": {
    "collapsed": false
   }
  }
 ],
 "metadata": {
  "kernelspec": {
   "display_name": "Python 3",
   "language": "python",
   "name": "python3"
  },
  "language_info": {
   "codemirror_mode": {
    "name": "ipython",
    "version": 2
   },
   "file_extension": ".py",
   "mimetype": "text/x-python",
   "name": "python",
   "nbconvert_exporter": "python",
   "pygments_lexer": "ipython2",
   "version": "2.7.6"
  }
 },
 "nbformat": 4,
 "nbformat_minor": 0
}
