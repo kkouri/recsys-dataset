{
 "cells": [
  {
   "cell_type": "markdown",
   "source": [
    "# Item relation matrices"
   ],
   "metadata": {
    "collapsed": false
   }
  },
  {
   "cell_type": "markdown",
   "source": [
    "### Get the data"
   ],
   "metadata": {
    "collapsed": false
   },
   "execution_count": 2
  },
  {
   "cell_type": "code",
   "execution_count": 1,
   "outputs": [
    {
     "name": "stdout",
     "output_type": "stream",
     "text": [
      "shape: (12_899_779, 2)\n",
      "┌──────────┬─────────────────────────────────┐\n",
      "│ session  ┆ events                          │\n",
      "│ ---      ┆ ---                             │\n",
      "│ u32      ┆ list[struct[3]]                 │\n",
      "╞══════════╪═════════════════════════════════╡\n",
      "│ 0        ┆ [{1517085,1659304800025,\"click… │\n",
      "│ 1        ┆ [{424964,1659304800025,\"carts\"… │\n",
      "│ 2        ┆ [{763743,1659304800038,\"clicks… │\n",
      "│ 3        ┆ [{1425967,1659304800095,\"carts… │\n",
      "│ 4        ┆ [{613619,1659304800119,\"clicks… │\n",
      "│ …        ┆ …                               │\n",
      "│ 12899774 ┆ [{33035,1661723968869,\"clicks\"… │\n",
      "│ 12899775 ┆ [{1743151,1661723970935,\"click… │\n",
      "│ 12899776 ┆ [{548599,1661723972537,\"clicks… │\n",
      "│ 12899777 ┆ [{384045,1661723976974,\"clicks… │\n",
      "│ 12899778 ┆ [{561560,1661723983611,\"clicks… │\n",
      "└──────────┴─────────────────────────────────┘\n"
     ]
    }
   ],
   "source": [
    "import polars as pl\n",
    "\n",
    "# define the schema of the dataframe\n",
    "event_schema = pl.Struct({\"aid\": pl.UInt32, \"ts\": pl.UInt64, \"type\": str})\n",
    "df_schema = {\"session\": pl.UInt32, \"events\": pl.List(event_schema)}\n",
    "\n",
    "df = pl.read_ndjson('../data/train.jsonl', schema=df_schema, low_memory=True)\n",
    "\n",
    "print(df)"
   ],
   "metadata": {
    "collapsed": false
   }
  },
  {
   "cell_type": "code",
   "execution_count": 2,
   "outputs": [
    {
     "name": "stdout",
     "output_type": "stream",
     "text": [
      "shape: (216_716_096, 4)\n",
      "┌──────────┬─────────┬───────────────┬────────┐\n",
      "│ session  ┆ aid     ┆ ts            ┆ type   │\n",
      "│ ---      ┆ ---     ┆ ---           ┆ ---    │\n",
      "│ u32      ┆ u32     ┆ u64           ┆ str    │\n",
      "╞══════════╪═════════╪═══════════════╪════════╡\n",
      "│ 0        ┆ 1517085 ┆ 1659304800025 ┆ clicks │\n",
      "│ 0        ┆ 1563459 ┆ 1659304904511 ┆ clicks │\n",
      "│ 0        ┆ 1309446 ┆ 1659367439426 ┆ clicks │\n",
      "│ 0        ┆ 16246   ┆ 1659367719997 ┆ clicks │\n",
      "│ 0        ┆ 1781822 ┆ 1659367871344 ┆ clicks │\n",
      "│ …        ┆ …       ┆ …             ┆ …      │\n",
      "│ 12899776 ┆ 1737908 ┆ 1661723987073 ┆ clicks │\n",
      "│ 12899777 ┆ 384045  ┆ 1661723976974 ┆ clicks │\n",
      "│ 12899777 ┆ 384045  ┆ 1661723986800 ┆ clicks │\n",
      "│ 12899778 ┆ 561560  ┆ 1661723983611 ┆ clicks │\n",
      "│ 12899778 ┆ 32070   ┆ 1661723994936 ┆ clicks │\n",
      "└──────────┴─────────┴───────────────┴────────┘\n"
     ]
    }
   ],
   "source": [
    "# Sessions\n",
    "exploded_df = (\n",
    "    df\n",
    "    .explode(\"events\")\n",
    "    .unnest(\"events\")\n",
    ")\n",
    "\n",
    "print(exploded_df)"
   ],
   "metadata": {
    "collapsed": false
   }
  },
  {
   "cell_type": "code",
   "execution_count": 3,
   "outputs": [
    {
     "name": "stdout",
     "output_type": "stream",
     "text": [
      "shape: (216_716_096, 10)\n",
      "┌──────────┬─────────┬────────────┬────────┬───┬────────────┬───────────┬─────────────┬────────────┐\n",
      "│ session  ┆ aid     ┆ ts         ┆ type   ┆ … ┆ next_ts    ┆ next_type ┆ time_betwee ┆ sub_sessio │\n",
      "│ ---      ┆ ---     ┆ ---        ┆ ---    ┆   ┆ ---        ┆ ---       ┆ n_sec       ┆ n          │\n",
      "│ u32      ┆ u32     ┆ u32        ┆ str    ┆   ┆ u32        ┆ str       ┆ ---         ┆ ---        │\n",
      "│          ┆         ┆            ┆        ┆   ┆            ┆           ┆ u32         ┆ u32        │\n",
      "╞══════════╪═════════╪════════════╪════════╪═══╪════════════╪═══════════╪═════════════╪════════════╡\n",
      "│ 0        ┆ 1517085 ┆ 1659304800 ┆ clicks ┆ … ┆ 1659304904 ┆ clicks    ┆ 104         ┆ 0          │\n",
      "│ 0        ┆ 1563459 ┆ 1659304904 ┆ clicks ┆ … ┆ null       ┆ null      ┆ null        ┆ 1          │\n",
      "│ 0        ┆ 1309446 ┆ 1659367439 ┆ clicks ┆ … ┆ 1659367719 ┆ clicks    ┆ 280         ┆ 2          │\n",
      "│ 0        ┆ 16246   ┆ 1659367719 ┆ clicks ┆ … ┆ 1659367871 ┆ clicks    ┆ 152         ┆ 2          │\n",
      "│ 0        ┆ 1781822 ┆ 1659367871 ┆ clicks ┆ … ┆ 1659367885 ┆ clicks    ┆ 14          ┆ 2          │\n",
      "│ …        ┆ …       ┆ …          ┆ …      ┆ … ┆ …          ┆ …         ┆ …           ┆ …          │\n",
      "│ 12899536 ┆ 949370  ┆ 1661723999 ┆ clicks ┆ … ┆ null       ┆ null      ┆ null        ┆ 56357035   │\n",
      "│ 12897214 ┆ 1688015 ┆ 1661723999 ┆ clicks ┆ … ┆ null       ┆ null      ┆ null        ┆ 56357035   │\n",
      "│ 12899768 ┆ 541977  ┆ 1661723999 ┆ clicks ┆ … ┆ null       ┆ null      ┆ null        ┆ 56357035   │\n",
      "│ 12898539 ┆ 1670368 ┆ 1661723999 ┆ clicks ┆ … ┆ null       ┆ null      ┆ null        ┆ 56357035   │\n",
      "│ 12899778 ┆ 32070   ┆ 1661723994 ┆ clicks ┆ … ┆ null       ┆ null      ┆ null        ┆ 56357036   │\n",
      "└──────────┴─────────┴────────────┴────────┴───┴────────────┴───────────┴─────────────┴────────────┘\n",
      "Amount of sub sessions: 56357037\n"
     ]
    }
   ],
   "source": [
    "is_over_30_minutes = (pl.col(\"time_between_sec\") > 30*60) # 30 minutes in seconds\n",
    "is_same_session = (pl.col(\"session\") == pl.col(\"next_session\"))\n",
    "\n",
    "sub_sessions = (\n",
    "    exploded_df\n",
    "    # Convert ts to seconds and cast to UInt32 to save memory\n",
    "    .with_columns((pl.col(\"ts\")//1000).cast(pl.UInt32))\n",
    "    .sort([\"session\", \"ts\"])\n",
    "    .with_columns(\n",
    "        next_session = pl.col(\"session\").shift(-1),\n",
    "        next_aid = pl.col(\"aid\").shift(-1),\n",
    "        next_ts = pl.col(\"ts\").shift(-1),\n",
    "        next_type = pl.col(\"type\").shift(-1),\n",
    "    )\n",
    "    # Calculate time between events for events in the same session\n",
    "    .with_columns(\n",
    "        time_between_sec = pl.when(is_same_session).then((pl.col(\"next_ts\") - pl.col(\"ts\"))).otherwise(None)\n",
    "    )\n",
    "    # Split session into sub sessions by checking if the time between events is more than 30 minutes or if the session changes\n",
    "    .with_columns(\n",
    "        sub_session=(\n",
    "            (\n",
    "                pl.when(is_over_30_minutes)\n",
    "                .then(pl.col(\"time_between_sec\")) # Distinct consecutive new sessions using the time between events\n",
    "                .otherwise(True) # If the time between events is less than 30 minutes, it is the same session\n",
    "            )\n",
    "            |\n",
    "                is_same_session.not_()\n",
    "        )\n",
    "        .rle_id().cast(pl.UInt32)\n",
    "    )\n",
    "    # Remove info about next event where the next event is a new session\n",
    "    .with_columns(\n",
    "        next_session = pl.when(is_over_30_minutes | is_same_session.not_()).then(None).otherwise(pl.col(\"next_session\")),\n",
    "        next_aid = pl.when(is_over_30_minutes | is_same_session.not_()).then(None).otherwise(pl.col(\"next_aid\")),\n",
    "        next_ts = pl.when(is_over_30_minutes | is_same_session.not_()).then(None).otherwise(pl.col(\"next_ts\")),\n",
    "        next_type = pl.when(is_over_30_minutes | is_same_session.not_()).then(None).otherwise(pl.col(\"next_type\")),\n",
    "        time_between_sec = pl.when(is_over_30_minutes | is_same_session.not_()).then(None).otherwise(pl.col(\"time_between_sec\"))\n",
    "    )\n",
    "    .sort([\"sub_session\", \"ts\"])\n",
    ")\n",
    "\n",
    "print(sub_sessions)\n",
    "\n",
    "print(\"Amount of sub sessions:\", sub_sessions.select(\"sub_session\").n_unique())"
   ],
   "metadata": {
    "collapsed": false
   }
  },
  {
   "cell_type": "markdown",
   "source": [
    "### Click to click matrix\n",
    "Click to click matrix is defined as the probability of an aid being clicked immediately after the previous aid.\n",
    "Click to click matrix is formed from the sub sessions since there is no point in counting subsequent clicks that are from a user coming back to site after a long time"
   ],
   "metadata": {
    "collapsed": false
   }
  },
  {
   "cell_type": "code",
   "execution_count": 60,
   "outputs": [
    {
     "name": "stdout",
     "output_type": "stream",
     "text": [
      "shape: (63_195_404, 3)\n",
      "┌─────────┬──────────┬─────────────┐\n",
      "│ aid     ┆ next_aid ┆ probability │\n",
      "│ ---     ┆ ---      ┆ ---         │\n",
      "│ u32     ┆ u32      ┆ f32         │\n",
      "╞═════════╪══════════╪═════════════╡\n",
      "│ 0       ┆ 0        ┆ 0.02381     │\n",
      "│ 0       ┆ 13759    ┆ 0.02381     │\n",
      "│ 0       ┆ 54474    ┆ 0.02381     │\n",
      "│ 0       ┆ 90491    ┆ 0.02381     │\n",
      "│ 0       ┆ 218900   ┆ 0.02381     │\n",
      "│ …       ┆ …        ┆ …           │\n",
      "│ 1855602 ┆ 1598688  ┆ 0.058824    │\n",
      "│ 1855602 ┆ 1621374  ┆ 0.058824    │\n",
      "│ 1855602 ┆ 1693232  ┆ 0.058824    │\n",
      "│ 1855602 ┆ 1783511  ┆ 0.058824    │\n",
      "│ 1855602 ┆ 1855602  ┆ 0.058824    │\n",
      "└─────────┴──────────┴─────────────┘\n",
      "Unique aids: 1852443\n",
      "Total probability: 1852443.125\n"
     ]
    }
   ],
   "source": [
    "# Count how many same click to click events there are\n",
    "subsequent_clicks_count = (\n",
    "    sub_sessions\n",
    "    .filter((pl.col(\"type\") == \"clicks\") & (pl.col(\"next_type\") == \"clicks\"))\n",
    "    .group_by([\"aid\", \"next_aid\"])\n",
    "    .agg(pl.len().alias(\"count\"))\n",
    "    .sort(\"count\", descending=True)\n",
    ")\n",
    "\n",
    "# Sum all the clicks for each aid\n",
    "aid_clicks_sum = (\n",
    "    subsequent_clicks_count\n",
    "    .group_by(\"aid\")\n",
    "    .agg(pl.sum(\"count\").alias(\"sum\"))\n",
    "    .sort(\"sum\", descending=True)\n",
    ")\n",
    "\n",
    "# Calculate the probabilities of items being clicked immediately after another item has been clicked\n",
    "click_to_click_matrix = (\n",
    "    subsequent_clicks_count\n",
    "    .join(aid_clicks_sum, on=\"aid\")\n",
    "    .with_columns(\n",
    "        probability = pl.col(\"count\") / pl.col(\"sum\")\n",
    "    )\n",
    "    .with_columns(pl.col(\"probability\").cast(pl.Float32))\n",
    "    .drop([\"count\", \"sum\"])\n",
    "    .sort([\"aid\", \"next_aid\"])\n",
    ")\n",
    "\n",
    "print(click_to_click_matrix)\n",
    "\n",
    "# Check that probabilities sum to the amount of unique aids\n",
    "print(\"Unique aids:\", click_to_click_matrix.select(\"aid\").n_unique())\n",
    "print(\"Total probability:\", click_to_click_matrix.select(\"probability\").sum().select(pl.first()).item())"
   ],
   "metadata": {
    "collapsed": false
   }
  },
  {
   "cell_type": "code",
   "execution_count": 15,
   "outputs": [],
   "source": [
    "# save to csv\n",
    "click_to_click_matrix.write_csv(\"./click_to_click_matrix.csv\")"
   ],
   "metadata": {
    "collapsed": false
   }
  },
  {
   "cell_type": "markdown",
   "source": [
    "### Click to cart matrix\n",
    "Click to cart matrix is defined as the probability of clicked items being added to cart later in the same sub session.\n",
    "Click to cart matrix is formed from the sub sessions since the sub session should show clear intent of the user to buy items they click."
   ],
   "metadata": {
    "collapsed": false
   }
  },
  {
   "cell_type": "code",
   "execution_count": 96,
   "outputs": [
    {
     "name": "stdout",
     "output_type": "stream",
     "text": [
      "shape: (104_794_185, 3)\n",
      "┌───────────┬──────────┬─────────────┐\n",
      "│ click_aid ┆ cart_aid ┆ probability │\n",
      "│ ---       ┆ ---      ┆ ---         │\n",
      "│ u32       ┆ u32      ┆ f32         │\n",
      "╞═══════════╪══════════╪═════════════╡\n",
      "│ 0         ┆ 29217    ┆ 0.018182    │\n",
      "│ 0         ┆ 31465    ┆ 0.018182    │\n",
      "│ 0         ┆ 45036    ┆ 0.018182    │\n",
      "│ 0         ┆ 78027    ┆ 0.018182    │\n",
      "│ 0         ┆ 150507   ┆ 0.036364    │\n",
      "│ …         ┆ …        ┆ …           │\n",
      "│ 1855602   ┆ 1376245  ┆ 0.083333    │\n",
      "│ 1855602   ┆ 1504078  ┆ 0.083333    │\n",
      "│ 1855602   ┆ 1513725  ┆ 0.041667    │\n",
      "│ 1855602   ┆ 1768521  ┆ 0.041667    │\n",
      "│ 1855602   ┆ 1783511  ┆ 0.083333    │\n",
      "└───────────┴──────────┴─────────────┘\n",
      "Unique aids: 1712957\n",
      "Total probability: 1712956.875\n"
     ]
    }
   ],
   "source": [
    "# Get clicks and carts of sub sessions\n",
    "clicks_of_sub_sessions = (\n",
    "    sub_sessions\n",
    "    .filter(pl.col(\"type\") == \"clicks\")\n",
    "    .select([\"sub_session\", \"ts\", \"aid\"])\n",
    "    .rename({\"ts\": \"click_ts\", \"aid\": \"click_aid\"})\n",
    ")\n",
    "\n",
    "carts_of_sub_sessions = (\n",
    "    sub_sessions\n",
    "    .filter(pl.col(\"type\") == \"carts\")\n",
    "    .select([\"sub_session\", \"ts\", \"aid\"])\n",
    "    .rename({\"ts\": \"cart_ts\", \"aid\": \"cart_aid\"})\n",
    ")\n",
    "\n",
    "carts_after_clicks_in_sub_sessions = (\n",
    "    carts_of_sub_sessions\n",
    "    # Combine clicks and carts of sub sessions\n",
    "    .join(clicks_of_sub_sessions, on=\"sub_session\", how=\"inner\")\n",
    "    # Keep only carts that happened after clicks\n",
    "    .filter(pl.col(\"click_ts\") < pl.col(\"cart_ts\"))\n",
    "    .select([\"sub_session\", \"click_aid\", \"cart_aid\"])\n",
    ")\n",
    "\n",
    "# Count how many same click to cart events there are\n",
    "click_to_cart_count = (\n",
    "    carts_after_clicks_in_sub_sessions\n",
    "    .group_by([\"click_aid\", \"cart_aid\"])\n",
    "    .agg(pl.len().alias(\"count\"))\n",
    "    .sort(\"count\", descending=True)\n",
    ")\n",
    "\n",
    "# Sum all the clicks for each aid\n",
    "aid_clicks_sum = (\n",
    "    click_to_cart_count\n",
    "    .group_by(\"click_aid\")\n",
    "    .agg(pl.sum(\"count\").alias(\"sum\"))\n",
    "    .sort(\"sum\", descending=True)\n",
    ")\n",
    "\n",
    "# Calculate the probabilities of items being added to cart after another item has been clicked\n",
    "click_to_cart_matrix = (\n",
    "    click_to_cart_count\n",
    "    .join(aid_clicks_sum, on=\"click_aid\")\n",
    "    .with_columns(\n",
    "        probability = pl.col(\"count\") / pl.col(\"sum\")\n",
    "    )\n",
    "    .with_columns(pl.col(\"probability\").cast(pl.Float32))\n",
    "    .drop([\"count\", \"sum\"])\n",
    "    .sort([\"click_aid\", \"cart_aid\"])\n",
    ")\n",
    "\n",
    "print(click_to_cart_matrix)\n",
    "\n",
    "# Check that probabilities sum to the amount of unique aids\n",
    "print(\"Unique aids:\", click_to_cart_matrix.select(\"click_aid\").n_unique())\n",
    "print(\"Total probability:\", click_to_cart_matrix.select(\"probability\").sum().select(pl.first()).item())"
   ],
   "metadata": {
    "collapsed": false
   }
  },
  {
   "cell_type": "code",
   "execution_count": 97,
   "outputs": [],
   "source": [
    "# save to csv\n",
    "click_to_cart_matrix.write_csv(\"./click_to_cart_matrix.csv\")"
   ],
   "metadata": {
    "collapsed": false
   }
  }
 ],
 "metadata": {
  "kernelspec": {
   "display_name": "Python 3",
   "language": "python",
   "name": "python3"
  },
  "language_info": {
   "codemirror_mode": {
    "name": "ipython",
    "version": 2
   },
   "file_extension": ".py",
   "mimetype": "text/x-python",
   "name": "python",
   "nbconvert_exporter": "python",
   "pygments_lexer": "ipython2",
   "version": "2.7.6"
  }
 },
 "nbformat": 4,
 "nbformat_minor": 0
}
