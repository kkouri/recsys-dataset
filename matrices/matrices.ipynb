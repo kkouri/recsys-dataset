{
 "cells": [
  {
   "cell_type": "markdown",
   "source": [
    "# Item relation matrices"
   ],
   "metadata": {
    "collapsed": false
   }
  },
  {
   "cell_type": "markdown",
   "source": [
    "### Get the data"
   ],
   "metadata": {
    "collapsed": false
   },
   "execution_count": 2
  },
  {
   "cell_type": "code",
   "execution_count": 1,
   "outputs": [
    {
     "name": "stdout",
     "output_type": "stream",
     "text": [
      "shape: (12_899_779, 2)\n",
      "┌──────────┬─────────────────────────────────┐\n",
      "│ session  ┆ events                          │\n",
      "│ ---      ┆ ---                             │\n",
      "│ u32      ┆ list[struct[3]]                 │\n",
      "╞══════════╪═════════════════════════════════╡\n",
      "│ 0        ┆ [{1517085,1659304800025,\"click… │\n",
      "│ 1        ┆ [{424964,1659304800025,\"carts\"… │\n",
      "│ 2        ┆ [{763743,1659304800038,\"clicks… │\n",
      "│ 3        ┆ [{1425967,1659304800095,\"carts… │\n",
      "│ 4        ┆ [{613619,1659304800119,\"clicks… │\n",
      "│ …        ┆ …                               │\n",
      "│ 12899774 ┆ [{33035,1661723968869,\"clicks\"… │\n",
      "│ 12899775 ┆ [{1743151,1661723970935,\"click… │\n",
      "│ 12899776 ┆ [{548599,1661723972537,\"clicks… │\n",
      "│ 12899777 ┆ [{384045,1661723976974,\"clicks… │\n",
      "│ 12899778 ┆ [{561560,1661723983611,\"clicks… │\n",
      "└──────────┴─────────────────────────────────┘\n"
     ]
    }
   ],
   "source": [
    "import polars as pl\n",
    "\n",
    "# define the schema of the dataframe\n",
    "event_schema = pl.Struct({\"aid\": pl.UInt32, \"ts\": pl.UInt64, \"type\": str})\n",
    "df_schema = {\"session\": pl.UInt32, \"events\": pl.List(event_schema)}\n",
    "\n",
    "df = pl.read_ndjson('../data/train.jsonl', schema=df_schema, low_memory=True)\n",
    "\n",
    "print(df)"
   ],
   "metadata": {
    "collapsed": false
   }
  },
  {
   "cell_type": "code",
   "execution_count": 2,
   "outputs": [
    {
     "name": "stdout",
     "output_type": "stream",
     "text": [
      "shape: (216_716_096, 4)\n",
      "┌──────────┬─────────┬───────────────┬────────┐\n",
      "│ session  ┆ aid     ┆ ts            ┆ type   │\n",
      "│ ---      ┆ ---     ┆ ---           ┆ ---    │\n",
      "│ u32      ┆ u32     ┆ u64           ┆ str    │\n",
      "╞══════════╪═════════╪═══════════════╪════════╡\n",
      "│ 0        ┆ 1517085 ┆ 1659304800025 ┆ clicks │\n",
      "│ 0        ┆ 1563459 ┆ 1659304904511 ┆ clicks │\n",
      "│ 0        ┆ 1309446 ┆ 1659367439426 ┆ clicks │\n",
      "│ 0        ┆ 16246   ┆ 1659367719997 ┆ clicks │\n",
      "│ 0        ┆ 1781822 ┆ 1659367871344 ┆ clicks │\n",
      "│ …        ┆ …       ┆ …             ┆ …      │\n",
      "│ 12899776 ┆ 1737908 ┆ 1661723987073 ┆ clicks │\n",
      "│ 12899777 ┆ 384045  ┆ 1661723976974 ┆ clicks │\n",
      "│ 12899777 ┆ 384045  ┆ 1661723986800 ┆ clicks │\n",
      "│ 12899778 ┆ 561560  ┆ 1661723983611 ┆ clicks │\n",
      "│ 12899778 ┆ 32070   ┆ 1661723994936 ┆ clicks │\n",
      "└──────────┴─────────┴───────────────┴────────┘\n"
     ]
    }
   ],
   "source": [
    "# Sessions\n",
    "exploded_df = (\n",
    "    df\n",
    "    .explode(\"events\")\n",
    "    .unnest(\"events\")\n",
    ")\n",
    "\n",
    "print(exploded_df)"
   ],
   "metadata": {
    "collapsed": false
   }
  },
  {
   "cell_type": "code",
   "execution_count": 3,
   "outputs": [
    {
     "name": "stdout",
     "output_type": "stream",
     "text": [
      "shape: (170_654_920, 9)\n",
      "┌──────────┬─────────┬────────────┬────────┬───┬──────────┬────────────┬───────────┬─────────────┐\n",
      "│ session  ┆ aid     ┆ ts         ┆ type   ┆ … ┆ next_aid ┆ next_ts    ┆ next_type ┆ sub_session │\n",
      "│ ---      ┆ ---     ┆ ---        ┆ ---    ┆   ┆ ---      ┆ ---        ┆ ---       ┆ ---         │\n",
      "│ u32      ┆ u32     ┆ u32        ┆ str    ┆   ┆ u32      ┆ u32        ┆ str       ┆ u32         │\n",
      "╞══════════╪═════════╪════════════╪════════╪═══╪══════════╪════════════╪═══════════╪═════════════╡\n",
      "│ 0        ┆ 1517085 ┆ 1659304800 ┆ clicks ┆ … ┆ 1563459  ┆ 1659304904 ┆ clicks    ┆ 0           │\n",
      "│ 0        ┆ 1309446 ┆ 1659367439 ┆ clicks ┆ … ┆ 16246    ┆ 1659367719 ┆ clicks    ┆ 1           │\n",
      "│ 0        ┆ 16246   ┆ 1659367719 ┆ clicks ┆ … ┆ 1781822  ┆ 1659367871 ┆ clicks    ┆ 1           │\n",
      "│ 0        ┆ 1781822 ┆ 1659367871 ┆ clicks ┆ … ┆ 1152674  ┆ 1659367885 ┆ clicks    ┆ 1           │\n",
      "│ 0        ┆ 1649869 ┆ 1659369893 ┆ carts  ┆ … ┆ 461689   ┆ 1659369898 ┆ carts     ┆ 2           │\n",
      "│ …        ┆ …       ┆ …          ┆ …      ┆ … ┆ …        ┆ …          ┆ …         ┆ …           │\n",
      "│ 12899774 ┆ 33035   ┆ 1661723968 ┆ clicks ┆ … ┆ 1399483  ┆ 1661723976 ┆ clicks    ┆ 46061171    │\n",
      "│ 12899775 ┆ 1743151 ┆ 1661723970 ┆ clicks ┆ … ┆ 1760714  ┆ 1661723990 ┆ clicks    ┆ 46061172    │\n",
      "│ 12899776 ┆ 548599  ┆ 1661723972 ┆ clicks ┆ … ┆ 1737908  ┆ 1661723987 ┆ clicks    ┆ 46061173    │\n",
      "│ 12899777 ┆ 384045  ┆ 1661723976 ┆ clicks ┆ … ┆ 384045   ┆ 1661723986 ┆ clicks    ┆ 46061174    │\n",
      "│ 12899778 ┆ 561560  ┆ 1661723983 ┆ clicks ┆ … ┆ 32070    ┆ 1661723994 ┆ clicks    ┆ 46061175    │\n",
      "└──────────┴─────────┴────────────┴────────┴───┴──────────┴────────────┴───────────┴─────────────┘\n",
      "shape: (28_018_710, 2)\n",
      "┌─────────────┬────────────┐\n",
      "│ sub_session ┆ n_sessions │\n",
      "│ ---         ┆ ---        │\n",
      "│ u32         ┆ u32        │\n",
      "╞═════════════╪════════════╡\n",
      "│ 12291656    ┆ 1          │\n",
      "│ 914685      ┆ 1          │\n",
      "│ 39936913    ┆ 1          │\n",
      "│ 35407320    ┆ 1          │\n",
      "│ 44776528    ┆ 1          │\n",
      "│ …           ┆ …          │\n",
      "│ 17997384    ┆ 1          │\n",
      "│ 764588      ┆ 1          │\n",
      "│ 30775448    ┆ 1          │\n",
      "│ 29856970    ┆ 1          │\n",
      "│ 44247860    ┆ 1          │\n",
      "└─────────────┴────────────┘\n",
      "Amount of sub sessions: 28018710\n"
     ]
    }
   ],
   "source": [
    "sub_sessions = (\n",
    "    exploded_df\n",
    "    # Convert ts to seconds and cast to UInt32 to save memory\n",
    "    .with_columns((pl.col(\"ts\")//1000).cast(pl.UInt32))\n",
    "    .sort([\"session\", \"ts\"])\n",
    "    .with_columns(\n",
    "        next_session = pl.col(\"session\").shift(-1),\n",
    "        next_aid = pl.col(\"aid\").shift(-1),\n",
    "        next_ts = pl.col(\"ts\").shift(-1),\n",
    "        next_type = pl.col(\"type\").shift(-1),\n",
    "    )\n",
    "    # Row is a sub session boundary if there is existing session boundary or if time between events is more than 30 minutes\n",
    "    .with_columns(\n",
    "        is_session_boundary = ((pl.col(\"session\") != pl.col(\"next_session\")) | (pl.col(\"next_ts\") - pl.col(\"ts\") > 1800)),\n",
    "    )\n",
    "    .with_columns(\n",
    "        sub_session = pl.col(\"is_session_boundary\").cum_sum().cast(pl.UInt32),\n",
    "    )\n",
    "    # Filter out session boundaries. This also removes sub sessions with only 1 event which are not interesting\n",
    "    .filter(pl.col(\"is_session_boundary\").not_())\n",
    "    .drop(\"is_session_boundary\")\n",
    ")\n",
    "\n",
    "print(sub_sessions)\n",
    "\n",
    "# Check that all the sub sessions are part of only one original session\n",
    "sub_session_parent_count = (\n",
    "    sub_sessions\n",
    "    .group_by(\"sub_session\")\n",
    "    .agg(pl.col(\"session\").n_unique().alias(\"n_sessions\"))\n",
    "    .sort(\"n_sessions\", descending=True)\n",
    ")\n",
    "print(sub_session_parent_count)\n",
    "\n",
    "print(\"Amount of sub sessions:\", sub_sessions.select(\"sub_session\").n_unique())"
   ],
   "metadata": {
    "collapsed": false
   }
  },
  {
   "cell_type": "markdown",
   "source": [
    "### Click to click matrix\n",
    "Click to click matrix is defined as the probabilities of other aids being clicked immediately after the previous aid is clicked.\n",
    "Click to click matrix is formed from the sub sessions since there is no point in counting subsequent clicks that are from a user coming back to site after a long time"
   ],
   "metadata": {
    "collapsed": false
   }
  },
  {
   "cell_type": "code",
   "execution_count": 4,
   "outputs": [
    {
     "name": "stdout",
     "output_type": "stream",
     "text": [
      "shape: (63_195_404, 3)\n",
      "┌─────────┬──────────┬─────────────┐\n",
      "│ aid     ┆ next_aid ┆ probability │\n",
      "│ ---     ┆ ---      ┆ ---         │\n",
      "│ u32     ┆ u32      ┆ f32         │\n",
      "╞═════════╪══════════╪═════════════╡\n",
      "│ 0       ┆ 0        ┆ 0.02381     │\n",
      "│ 0       ┆ 13759    ┆ 0.02381     │\n",
      "│ 0       ┆ 54474    ┆ 0.02381     │\n",
      "│ 0       ┆ 90491    ┆ 0.02381     │\n",
      "│ 0       ┆ 218900   ┆ 0.02381     │\n",
      "│ …       ┆ …        ┆ …           │\n",
      "│ 1855602 ┆ 1598688  ┆ 0.058824    │\n",
      "│ 1855602 ┆ 1621374  ┆ 0.058824    │\n",
      "│ 1855602 ┆ 1693232  ┆ 0.058824    │\n",
      "│ 1855602 ┆ 1783511  ┆ 0.058824    │\n",
      "│ 1855602 ┆ 1855602  ┆ 0.058824    │\n",
      "└─────────┴──────────┴─────────────┘\n",
      "Unique aids: 1852443\n",
      "Total probability: 1852443.125\n"
     ]
    }
   ],
   "source": [
    "# Count how many same click to click events there are\n",
    "subsequent_clicks_count = (\n",
    "    sub_sessions\n",
    "    .filter((pl.col(\"type\") == \"clicks\") & (pl.col(\"next_type\") == \"clicks\"))\n",
    "    .group_by([\"aid\", \"next_aid\"])\n",
    "    .agg(pl.len().alias(\"count\"))\n",
    "    .sort(\"count\", descending=True)\n",
    ")\n",
    "\n",
    "# Sum all the clicks for each aid\n",
    "aid_clicks_sum = (\n",
    "    subsequent_clicks_count\n",
    "    .group_by(\"aid\")\n",
    "    .agg(pl.sum(\"count\").alias(\"sum\"))\n",
    "    .sort(\"sum\", descending=True)\n",
    ")\n",
    "\n",
    "# Calculate the probabilities of items being clicked immediately after another item has been clicked\n",
    "click_to_click_matrix = (\n",
    "    subsequent_clicks_count\n",
    "    .join(aid_clicks_sum, on=\"aid\")\n",
    "    .with_columns(\n",
    "        probability = pl.col(\"count\") / pl.col(\"sum\")\n",
    "    )\n",
    "    .with_columns(pl.col(\"probability\").cast(pl.Float32))\n",
    "    .drop([\"count\", \"sum\"])\n",
    "    .sort([\"aid\", \"next_aid\"])\n",
    ")\n",
    "\n",
    "print(click_to_click_matrix)\n",
    "\n",
    "# Check that probabilities sum to the amount of unique aids\n",
    "print(\"Unique aids:\", click_to_click_matrix.select(\"aid\").n_unique())\n",
    "print(\"Total probability:\", click_to_click_matrix.select(\"probability\").sum().select(pl.first()).item())"
   ],
   "metadata": {
    "collapsed": false
   }
  },
  {
   "cell_type": "code",
   "execution_count": 5,
   "outputs": [],
   "source": [
    "# save to csv\n",
    "click_to_click_matrix.write_csv(\"./click_to_click_matrix.csv\")"
   ],
   "metadata": {
    "collapsed": false
   }
  },
  {
   "cell_type": "markdown",
   "source": [
    "### Click to cart matrix\n",
    "Click to cart matrix is defined as the probabilities of other aids being added to cart in the same sub session after an aid is clicked.\n",
    "Click to cart matrix is formed from the sub sessions since the sub session should show clear intent of the user to buy items they click."
   ],
   "metadata": {
    "collapsed": false
   }
  },
  {
   "cell_type": "code",
   "execution_count": 6,
   "outputs": [
    {
     "name": "stdout",
     "output_type": "stream",
     "text": [
      "shape: (68_511_302, 3)\n",
      "┌───────────┬──────────┬─────────────┐\n",
      "│ click_aid ┆ cart_aid ┆ probability │\n",
      "│ ---       ┆ ---      ┆ ---         │\n",
      "│ u32       ┆ u32      ┆ f32         │\n",
      "╞═══════════╪══════════╪═════════════╡\n",
      "│ 0         ┆ 29217    ┆ 0.020408    │\n",
      "│ 0         ┆ 31465    ┆ 0.020408    │\n",
      "│ 0         ┆ 45036    ┆ 0.020408    │\n",
      "│ 0         ┆ 78027    ┆ 0.020408    │\n",
      "│ 0         ┆ 150507   ┆ 0.040816    │\n",
      "│ …         ┆ …        ┆ …           │\n",
      "│ 1855602   ┆ 1192996  ┆ 0.055556    │\n",
      "│ 1855602   ┆ 1376245  ┆ 0.111111    │\n",
      "│ 1855602   ┆ 1513725  ┆ 0.055556    │\n",
      "│ 1855602   ┆ 1768521  ┆ 0.055556    │\n",
      "│ 1855602   ┆ 1783511  ┆ 0.111111    │\n",
      "└───────────┴──────────┴─────────────┘\n",
      "Unique aids: 1630426\n",
      "Total probability: 1630426.0\n"
     ]
    }
   ],
   "source": [
    "# Get clicks and carts of sub sessions\n",
    "clicks_of_sub_sessions = (\n",
    "    sub_sessions\n",
    "    .filter(pl.col(\"type\") == \"clicks\")\n",
    "    .select([\"sub_session\", \"ts\", \"aid\"])\n",
    "    .rename({\"ts\": \"click_ts\", \"aid\": \"click_aid\"})\n",
    ")\n",
    "\n",
    "carts_of_sub_sessions = (\n",
    "    sub_sessions\n",
    "    .filter(pl.col(\"type\") == \"carts\")\n",
    "    .select([\"sub_session\", \"ts\", \"aid\"])\n",
    "    .rename({\"ts\": \"cart_ts\", \"aid\": \"cart_aid\"})\n",
    ")\n",
    "\n",
    "carts_after_clicks_in_sub_sessions = (\n",
    "    carts_of_sub_sessions\n",
    "    # Combine clicks and carts of sub sessions\n",
    "    .join(clicks_of_sub_sessions, on=\"sub_session\", how=\"inner\")\n",
    "    # Keep only carts that happened after clicks\n",
    "    .filter(pl.col(\"click_ts\") < pl.col(\"cart_ts\"))\n",
    "    .select([\"sub_session\", \"click_aid\", \"cart_aid\"])\n",
    ")\n",
    "\n",
    "# Count how many same click to cart events there are\n",
    "click_to_cart_count = (\n",
    "    carts_after_clicks_in_sub_sessions\n",
    "    .group_by([\"click_aid\", \"cart_aid\"])\n",
    "    .agg(pl.len().alias(\"count\"))\n",
    "    .sort(\"count\", descending=True)\n",
    ")\n",
    "\n",
    "# Sum all the clicks for each aid\n",
    "aid_clicks_sum = (\n",
    "    click_to_cart_count\n",
    "    .group_by(\"click_aid\")\n",
    "    .agg(pl.sum(\"count\").alias(\"sum\"))\n",
    "    .sort(\"sum\", descending=True)\n",
    ")\n",
    "\n",
    "# Calculate the probabilities of items being added to cart after another item has been clicked\n",
    "click_to_cart_matrix = (\n",
    "    click_to_cart_count\n",
    "    .join(aid_clicks_sum, on=\"click_aid\")\n",
    "    .with_columns(\n",
    "        probability = pl.col(\"count\") / pl.col(\"sum\")\n",
    "    )\n",
    "    .with_columns(pl.col(\"probability\").cast(pl.Float32))\n",
    "    .drop([\"count\", \"sum\"])\n",
    "    .sort([\"click_aid\", \"cart_aid\"])\n",
    ")\n",
    "\n",
    "print(click_to_cart_matrix)\n",
    "\n",
    "# Check that probabilities sum to the amount of unique aids\n",
    "print(\"Unique aids:\", click_to_cart_matrix.select(\"click_aid\").n_unique())\n",
    "print(\"Total probability:\", click_to_cart_matrix.select(\"probability\").sum().select(pl.first()).item())"
   ],
   "metadata": {
    "collapsed": false
   }
  },
  {
   "cell_type": "code",
   "execution_count": 7,
   "outputs": [],
   "source": [
    "# save to csv\n",
    "click_to_cart_matrix.write_csv(\"./click_to_cart_matrix.csv\")"
   ],
   "metadata": {
    "collapsed": false
   }
  },
  {
   "cell_type": "markdown",
   "source": [
    "### Click to order matrix\n",
    "Click to order matrix is defined as the probabilities of other aids being ordered in the same sub session after an aid is clicked.\n",
    "Click to order matrix is formed from the sub sessions since the sub session should show clear intent of the user to buy items they click."
   ],
   "metadata": {
    "collapsed": false
   }
  },
  {
   "cell_type": "code",
   "execution_count": 8,
   "outputs": [
    {
     "name": "stdout",
     "output_type": "stream",
     "text": [
      "shape: (28_372_718, 3)\n",
      "┌───────────┬───────────┬─────────────┐\n",
      "│ click_aid ┆ order_aid ┆ probability │\n",
      "│ ---       ┆ ---       ┆ ---         │\n",
      "│ u32       ┆ u32       ┆ f32         │\n",
      "╞═══════════╪═══════════╪═════════════╡\n",
      "│ 0         ┆ 53946     ┆ 0.026316    │\n",
      "│ 0         ┆ 78027     ┆ 0.026316    │\n",
      "│ 0         ┆ 197519    ┆ 0.026316    │\n",
      "│ 0         ┆ 312330    ┆ 0.052632    │\n",
      "│ 0         ┆ 359350    ┆ 0.026316    │\n",
      "│ …         ┆ …         ┆ …           │\n",
      "│ 1855602   ┆ 512179    ┆ 0.285714    │\n",
      "│ 1855602   ┆ 796654    ┆ 0.142857    │\n",
      "│ 1855602   ┆ 1513725   ┆ 0.142857    │\n",
      "│ 1855602   ┆ 1768521   ┆ 0.142857    │\n",
      "│ 1855602   ┆ 1783511   ┆ 0.285714    │\n",
      "└───────────┴───────────┴─────────────┘\n",
      "Unique aids: 1113411\n",
      "Total probability: 1113411.0\n"
     ]
    }
   ],
   "source": [
    "# Get clicks and orders of sub sessions\n",
    "clicks_of_sub_sessions = (\n",
    "    sub_sessions\n",
    "    .filter(pl.col(\"type\") == \"clicks\")\n",
    "    .select([\"sub_session\", \"ts\", \"aid\"])\n",
    "    .rename({\"ts\": \"click_ts\", \"aid\": \"click_aid\"})\n",
    ")\n",
    "\n",
    "orders_of_sub_sessions = (\n",
    "    sub_sessions\n",
    "    .filter(pl.col(\"type\") == \"orders\")\n",
    "    .select([\"sub_session\", \"ts\", \"aid\"])\n",
    "    .rename({\"ts\": \"order_ts\", \"aid\": \"order_aid\"})\n",
    ")\n",
    "\n",
    "orders_after_clicks_in_sub_sessions = (\n",
    "    orders_of_sub_sessions\n",
    "    # Combine clicks and orders of sub sessions\n",
    "    .join(clicks_of_sub_sessions, on=\"sub_session\", how=\"inner\")\n",
    "    # Keep only orders that happened after clicks\n",
    "    .filter(pl.col(\"click_ts\") < pl.col(\"order_ts\"))\n",
    "    .select([\"sub_session\", \"click_aid\", \"order_aid\"])\n",
    ")\n",
    "\n",
    "# Count how many same click to order events there are\n",
    "click_to_order_count = (\n",
    "    orders_after_clicks_in_sub_sessions\n",
    "    .group_by([\"click_aid\", \"order_aid\"])\n",
    "    .agg(pl.len().alias(\"count\"))\n",
    "    .sort(\"count\", descending=True)\n",
    ")\n",
    "\n",
    "# Sum all the clicks for each aid\n",
    "aid_clicks_sum = (\n",
    "    click_to_order_count\n",
    "    .group_by(\"click_aid\")\n",
    "    .agg(pl.sum(\"count\").alias(\"sum\"))\n",
    "    .sort(\"sum\", descending=True)\n",
    ")\n",
    "\n",
    "# Calculate the probabilities of items being ordered after another item has been clicked\n",
    "click_to_order_matrix = (\n",
    "    click_to_order_count\n",
    "    .join(aid_clicks_sum, on=\"click_aid\")\n",
    "    .with_columns(\n",
    "        probability = pl.col(\"count\") / pl.col(\"sum\")\n",
    "    )\n",
    "    .with_columns(pl.col(\"probability\").cast(pl.Float32))\n",
    "    .drop([\"count\", \"sum\"])\n",
    "    .sort([\"click_aid\", \"order_aid\"])\n",
    ")\n",
    "\n",
    "print(click_to_order_matrix)\n",
    "\n",
    "# Check that probabilities sum to the amount of unique aids\n",
    "print(\"Unique aids:\", click_to_order_matrix.select(\"click_aid\").n_unique())\n",
    "print(\"Total probability:\", click_to_order_matrix.select(\"probability\").sum().select(pl.first()).item())"
   ],
   "metadata": {
    "collapsed": false
   }
  },
  {
   "cell_type": "code",
   "execution_count": 9,
   "outputs": [],
   "source": [
    "# save to csv\n",
    "click_to_order_matrix.write_csv(\"./click_to_order_matrix.csv\")"
   ],
   "metadata": {
    "collapsed": false
   }
  },
  {
   "cell_type": "markdown",
   "source": [
    "### Cart to click matrix\n",
    "Cart to click matrix is defined as the probabilities of other aids being clicked immediately after an aid is added to cart."
   ],
   "metadata": {
    "collapsed": false
   }
  },
  {
   "cell_type": "code",
   "execution_count": 10,
   "outputs": [
    {
     "name": "stdout",
     "output_type": "stream",
     "text": [
      "shape: (67_045_900, 3)\n",
      "┌──────────┬───────────┬─────────────┐\n",
      "│ cart_aid ┆ click_aid ┆ probability │\n",
      "│ ---      ┆ ---       ┆ ---         │\n",
      "│ u32      ┆ u32       ┆ f32         │\n",
      "╞══════════╪═══════════╪═════════════╡\n",
      "│ 1        ┆ 835715    ┆ 1.0         │\n",
      "│ 3        ┆ 3         ┆ 0.318777    │\n",
      "│ 3        ┆ 16778     ┆ 0.004367    │\n",
      "│ 3        ┆ 24318     ┆ 0.002183    │\n",
      "│ 3        ┆ 46596     ┆ 0.002183    │\n",
      "│ …        ┆ …         ┆ …           │\n",
      "│ 1855601  ┆ 1151932   ┆ 0.076923    │\n",
      "│ 1855601  ┆ 1428175   ┆ 0.076923    │\n",
      "│ 1855601  ┆ 1636201   ┆ 0.076923    │\n",
      "│ 1855601  ┆ 1712873   ┆ 0.076923    │\n",
      "│ 1855601  ┆ 1855601   ┆ 0.076923    │\n",
      "└──────────┴───────────┴─────────────┘\n",
      "Unique aids: 1101844\n",
      "Total probability: 1101844.0\n"
     ]
    }
   ],
   "source": [
    "# Get carts and clicks of sub sessions\n",
    "carts_of_sub_sessions = (\n",
    "    sub_sessions\n",
    "    .filter(pl.col(\"type\") == \"carts\")\n",
    "    .select([\"sub_session\", \"ts\", \"aid\"])\n",
    "    .rename({\"ts\": \"cart_ts\", \"aid\": \"cart_aid\"})\n",
    ")\n",
    "\n",
    "clicks_of_sub_sessions = (\n",
    "    sub_sessions\n",
    "    .filter(pl.col(\"type\") == \"clicks\")\n",
    "    .select([\"sub_session\", \"ts\", \"aid\"])\n",
    "    .rename({\"ts\": \"click_ts\", \"aid\": \"click_aid\"})\n",
    ")\n",
    "\n",
    "clicks_after_carts_in_sub_sessions = (\n",
    "    clicks_of_sub_sessions\n",
    "    # Combine carts and clicks of sub sessions\n",
    "    .join(carts_of_sub_sessions, on=\"sub_session\", how=\"inner\")\n",
    "    # Keep only clicks that happened after carts\n",
    "    .filter(pl.col(\"cart_ts\") < pl.col(\"click_ts\"))\n",
    "    .select([\"sub_session\", \"cart_aid\", \"click_aid\"])\n",
    ")\n",
    "\n",
    "# Count how many same cart to click events there are\n",
    "cart_to_click_count = (\n",
    "    clicks_after_carts_in_sub_sessions\n",
    "    .group_by([\"cart_aid\", \"click_aid\"])\n",
    "    .agg(pl.len().alias(\"count\"))\n",
    "    .sort(\"count\", descending=True)\n",
    ")\n",
    "\n",
    "# Sum all the carts for each aid\n",
    "aid_carts_sum = (\n",
    "    cart_to_click_count\n",
    "    .group_by(\"cart_aid\")\n",
    "    .agg(pl.sum(\"count\").alias(\"sum\"))\n",
    "    .sort(\"sum\", descending=True)\n",
    ")\n",
    "\n",
    "# Calculate the probabilities of items being clicked immediately after another item has been added to cart\n",
    "cart_to_click_matrix = (\n",
    "    cart_to_click_count\n",
    "    .join(aid_carts_sum, on=\"cart_aid\")\n",
    "    .with_columns(\n",
    "        probability = pl.col(\"count\") / pl.col(\"sum\")\n",
    "    )\n",
    "    .with_columns(pl.col(\"probability\").cast(pl.Float32))\n",
    "    .drop([\"count\", \"sum\"])\n",
    "    .sort([\"cart_aid\", \"click_aid\"])\n",
    ")\n",
    "\n",
    "print(cart_to_click_matrix)\n",
    "\n",
    "# Check that probabilities sum to the amount of unique aids\n",
    "print(\"Unique aids:\", cart_to_click_matrix.select(\"cart_aid\").n_unique())\n",
    "print(\"Total probability:\", cart_to_click_matrix.select(\"probability\").sum().select(pl.first()).item())"
   ],
   "metadata": {
    "collapsed": false
   }
  },
  {
   "cell_type": "code",
   "execution_count": 11,
   "outputs": [],
   "source": [
    "# save to csv\n",
    "cart_to_click_matrix.write_csv(\"./cart_to_click_matrix.csv\")"
   ],
   "metadata": {
    "collapsed": false
   }
  },
  {
   "cell_type": "markdown",
   "source": [
    "### Cart to cart matrix\n",
    "Cart to cart matrix is defined as the probabilities of other aids being added to cart later in the same sub session where an aid is added to cart."
   ],
   "metadata": {
    "collapsed": false
   }
  },
  {
   "cell_type": "code",
   "execution_count": 12,
   "outputs": [
    {
     "name": "stdout",
     "output_type": "stream",
     "text": [
      "shape: (21_537_440, 3)\n",
      "┌─────────┬──────────┬─────────────┐\n",
      "│ aid     ┆ next_aid ┆ probability │\n",
      "│ ---     ┆ ---      ┆ ---         │\n",
      "│ u32     ┆ u32      ┆ f32         │\n",
      "╞═════════╪══════════╪═════════════╡\n",
      "│ 1       ┆ 1832177  ┆ 1.0         │\n",
      "│ 3       ┆ 3        ┆ 0.357143    │\n",
      "│ 3       ┆ 16778    ┆ 0.007937    │\n",
      "│ 3       ┆ 67776    ┆ 0.007937    │\n",
      "│ 3       ┆ 109499   ┆ 0.007937    │\n",
      "│ …       ┆ …        ┆ …           │\n",
      "│ 1855601 ┆ 1326991  ┆ 0.076923    │\n",
      "│ 1855601 ┆ 1566830  ┆ 0.076923    │\n",
      "│ 1855601 ┆ 1700846  ┆ 0.076923    │\n",
      "│ 1855601 ┆ 1712873  ┆ 0.076923    │\n",
      "│ 1855601 ┆ 1786336  ┆ 0.076923    │\n",
      "└─────────┴──────────┴─────────────┘\n",
      "Unique aids: 947173\n",
      "Total probability: 947173.0625\n"
     ]
    }
   ],
   "source": [
    "# Get carts of sub sessions\n",
    "carts_of_sub_sessions = (\n",
    "    sub_sessions\n",
    "    .filter(pl.col(\"type\") == \"carts\")\n",
    "    .select([\"sub_session\", \"ts\", \"aid\"])\n",
    ")\n",
    "\n",
    "next_carts_of_sub_sessions = (\n",
    "    carts_of_sub_sessions\n",
    "    .rename({\"ts\": \"next_ts\", \"aid\": \"next_aid\"})\n",
    ")\n",
    "\n",
    "# Find subsequent carts in the same sub session\n",
    "subsequent_carts = (\n",
    "    carts_of_sub_sessions\n",
    "    .join(next_carts_of_sub_sessions, on=\"sub_session\", how=\"inner\")\n",
    "    .filter(pl.col(\"ts\") < pl.col(\"next_ts\"))\n",
    "    .select([\"sub_session\", \"aid\", \"next_aid\"])\n",
    ")\n",
    "\n",
    "# Count how many same cart to cart events there are\n",
    "subsequent_carts_count = (\n",
    "    subsequent_carts\n",
    "    .group_by([\"aid\", \"next_aid\"])\n",
    "    .agg(pl.len().alias(\"count\"))\n",
    "    .sort(\"count\", descending=True)\n",
    ")\n",
    "\n",
    "# Sum all the carts for each aid\n",
    "aid_carts_sum = (\n",
    "    subsequent_carts_count\n",
    "    .group_by(\"aid\")\n",
    "    .agg(pl.sum(\"count\").alias(\"sum\"))\n",
    "    .sort(\"sum\", descending=True)\n",
    ")\n",
    "\n",
    "# Calculate the probabilities of items being added to cart after another item has been added to cart\n",
    "cart_to_cart_matrix = (\n",
    "    subsequent_carts_count\n",
    "    .join(aid_carts_sum, on=\"aid\")\n",
    "    .with_columns(\n",
    "        probability = pl.col(\"count\") / pl.col(\"sum\")\n",
    "    )\n",
    "    .with_columns(pl.col(\"probability\").cast(pl.Float32))\n",
    "    .drop([\"count\", \"sum\"])\n",
    "    .sort([\"aid\", \"next_aid\"])\n",
    ")\n",
    "\n",
    "print(cart_to_cart_matrix)\n",
    "\n",
    "# Check that probabilities sum to the amount of unique aids\n",
    "print(\"Unique aids:\", cart_to_cart_matrix.select(\"aid\").n_unique())\n",
    "print(\"Total probability:\", cart_to_cart_matrix.select(\"probability\").sum().select(pl.first()).item())"
   ],
   "metadata": {
    "collapsed": false
   }
  },
  {
   "cell_type": "code",
   "execution_count": 13,
   "outputs": [],
   "source": [
    "# save to csv\n",
    "cart_to_cart_matrix.write_csv(\"./cart_to_cart_matrix.csv\")"
   ],
   "metadata": {
    "collapsed": false
   }
  },
  {
   "cell_type": "markdown",
   "source": [
    "### Cart to order matrix\n",
    "Cart to order matrix is defined as the probabilities of other aids being ordered later in the same sub session where an aid is added to cart."
   ],
   "metadata": {
    "collapsed": false
   }
  },
  {
   "cell_type": "code",
   "execution_count": 14,
   "outputs": [
    {
     "name": "stdout",
     "output_type": "stream",
     "text": [
      "shape: (10_252_477, 3)\n",
      "┌──────────┬───────────┬─────────────┐\n",
      "│ cart_aid ┆ order_aid ┆ probability │\n",
      "│ ---      ┆ ---       ┆ ---         │\n",
      "│ u32      ┆ u32       ┆ f32         │\n",
      "╞══════════╪═══════════╪═════════════╡\n",
      "│ 3        ┆ 3         ┆ 0.333333    │\n",
      "│ 3        ┆ 22107     ┆ 0.027778    │\n",
      "│ 3        ┆ 67776     ┆ 0.027778    │\n",
      "│ 3        ┆ 138431    ┆ 0.027778    │\n",
      "│ 3        ┆ 164205    ┆ 0.055556    │\n",
      "│ …        ┆ …         ┆ …           │\n",
      "│ 1855601  ┆ 1428175   ┆ 0.090909    │\n",
      "│ 1855601  ┆ 1486834   ┆ 0.090909    │\n",
      "│ 1855601  ┆ 1566830   ┆ 0.090909    │\n",
      "│ 1855601  ┆ 1712873   ┆ 0.090909    │\n",
      "│ 1855601  ┆ 1786336   ┆ 0.090909    │\n",
      "└──────────┴───────────┴─────────────┘\n",
      "Unique aids: 624940\n",
      "Total probability: 624940.0\n"
     ]
    }
   ],
   "source": [
    "# Get carts and orders of sub sessions\n",
    "carts_of_sub_sessions = (\n",
    "    sub_sessions\n",
    "    .filter(pl.col(\"type\") == \"carts\")\n",
    "    .select([\"sub_session\", \"ts\", \"aid\"])\n",
    "    .rename({\"ts\": \"cart_ts\", \"aid\": \"cart_aid\"})\n",
    ")\n",
    "\n",
    "orders_of_sub_sessions = (\n",
    "    sub_sessions\n",
    "    .filter(pl.col(\"type\") == \"orders\")\n",
    "    .select([\"sub_session\", \"ts\", \"aid\"])\n",
    "    .rename({\"ts\": \"order_ts\", \"aid\": \"order_aid\"})\n",
    ")\n",
    "\n",
    "orders_after_carts_in_sub_sessions = (\n",
    "    orders_of_sub_sessions\n",
    "    # Combine carts and orders of sub sessions\n",
    "    .join(carts_of_sub_sessions, on=\"sub_session\", how=\"inner\")\n",
    "    # Keep only orders that happened after carts\n",
    "    .filter(pl.col(\"cart_ts\") < pl.col(\"order_ts\"))\n",
    "    .select([\"sub_session\", \"cart_aid\", \"order_aid\"])\n",
    ")\n",
    "\n",
    "# Count how many same cart to order events there are\n",
    "cart_to_order_count = (\n",
    "    orders_after_carts_in_sub_sessions\n",
    "    .group_by([\"cart_aid\", \"order_aid\"])\n",
    "    .agg(pl.len().alias(\"count\"))\n",
    "    .sort(\"count\", descending=True)\n",
    ")\n",
    "\n",
    "# Sum all the carts for each aid\n",
    "aid_carts_sum = (\n",
    "    cart_to_order_count\n",
    "    .group_by(\"cart_aid\")\n",
    "    .agg(pl.sum(\"count\").alias(\"sum\"))\n",
    "    .sort(\"sum\", descending=True)\n",
    ")\n",
    "\n",
    "# Calculate the probabilities of items being ordered after another item has been added to cart\n",
    "cart_to_order_matrix = (\n",
    "    cart_to_order_count\n",
    "    .join(aid_carts_sum, on=\"cart_aid\")\n",
    "    .with_columns(\n",
    "        probability = pl.col(\"count\") / pl.col(\"sum\")\n",
    "    )\n",
    "    .with_columns(pl.col(\"probability\").cast(pl.Float32))\n",
    "    .drop([\"count\", \"sum\"])\n",
    "    .sort([\"cart_aid\", \"order_aid\"])\n",
    ")\n",
    "\n",
    "print(cart_to_order_matrix)\n",
    "\n",
    "# Check that probabilities sum to the amount of unique aids\n",
    "print(\"Unique aids:\", cart_to_order_matrix.select(\"cart_aid\").n_unique())\n",
    "print(\"Total probability:\", cart_to_order_matrix.select(\"probability\").sum().select(pl.first()).item())"
   ],
   "metadata": {
    "collapsed": false
   }
  },
  {
   "cell_type": "code",
   "execution_count": 15,
   "outputs": [],
   "source": [
    "# save to csv\n",
    "cart_to_order_matrix.write_csv(\"./cart_to_order_matrix.csv\")"
   ],
   "metadata": {
    "collapsed": false
   }
  },
  {
   "cell_type": "markdown",
   "source": [
    "### Order to click matrix\n",
    "Order to click matrix is defined as the probabilities of other aids being clicked immediately after an aid is ordered."
   ],
   "metadata": {
    "collapsed": false
   }
  },
  {
   "cell_type": "code",
   "execution_count": 16,
   "outputs": [
    {
     "name": "stdout",
     "output_type": "stream",
     "text": [
      "shape: (3_001_626, 3)\n",
      "┌───────────┬───────────┬─────────────┐\n",
      "│ order_aid ┆ click_aid ┆ probability │\n",
      "│ ---       ┆ ---       ┆ ---         │\n",
      "│ u32       ┆ u32       ┆ f32         │\n",
      "╞═══════════╪═══════════╪═════════════╡\n",
      "│ 3         ┆ 3         ┆ 0.152174    │\n",
      "│ 3         ┆ 67776     ┆ 0.021739    │\n",
      "│ 3         ┆ 139351    ┆ 0.043478    │\n",
      "│ 3         ┆ 332381    ┆ 0.021739    │\n",
      "│ 3         ┆ 383680    ┆ 0.021739    │\n",
      "│ …         ┆ …         ┆ …           │\n",
      "│ 1855594   ┆ 1678106   ┆ 0.014286    │\n",
      "│ 1855594   ┆ 1688187   ┆ 0.014286    │\n",
      "│ 1855594   ┆ 1775911   ┆ 0.014286    │\n",
      "│ 1855594   ┆ 1828181   ┆ 0.014286    │\n",
      "│ 1855594   ┆ 1855594   ┆ 0.185714    │\n",
      "└───────────┴───────────┴─────────────┘\n",
      "Unique aids: 243925\n",
      "Total probability: 243925.0\n"
     ]
    }
   ],
   "source": [
    "# Get orders and clicks of sub sessions\n",
    "orders_of_sub_sessions = (\n",
    "    sub_sessions\n",
    "    .filter(pl.col(\"type\") == \"orders\")\n",
    "    .select([\"sub_session\", \"ts\", \"aid\"])\n",
    "    .rename({\"ts\": \"order_ts\", \"aid\": \"order_aid\"})\n",
    ")\n",
    "\n",
    "clicks_of_sub_sessions = (\n",
    "    sub_sessions\n",
    "    .filter(pl.col(\"type\") == \"clicks\")\n",
    "    .select([\"sub_session\", \"ts\", \"aid\"])\n",
    "    .rename({\"ts\": \"click_ts\", \"aid\": \"click_aid\"})\n",
    ")\n",
    "\n",
    "clicks_after_orders_in_sub_sessions = (\n",
    "    clicks_of_sub_sessions\n",
    "    # Combine orders and clicks of sub sessions\n",
    "    .join(orders_of_sub_sessions, on=\"sub_session\", how=\"inner\")\n",
    "    # Keep only clicks that happened after orders\n",
    "    .filter(pl.col(\"order_ts\") < pl.col(\"click_ts\"))\n",
    "    .select([\"sub_session\", \"order_aid\", \"click_aid\"])\n",
    ")\n",
    "\n",
    "# Count how many same order to click events there are\n",
    "order_to_click_count = (\n",
    "    clicks_after_orders_in_sub_sessions\n",
    "    .group_by([\"order_aid\", \"click_aid\"])\n",
    "    .agg(pl.len().alias(\"count\"))\n",
    "    .sort(\"count\", descending=True)\n",
    ")\n",
    "\n",
    "# Sum all the orders for each aid\n",
    "aid_orders_sum = (\n",
    "    order_to_click_count\n",
    "    .group_by(\"order_aid\")\n",
    "    .agg(pl.sum(\"count\").alias(\"sum\"))\n",
    "    .sort(\"sum\", descending=True)\n",
    ")\n",
    "\n",
    "# Calculate the probabilities of items being clicked immediately after another item has been ordered\n",
    "order_to_click_matrix = (\n",
    "    order_to_click_count\n",
    "    .join(aid_orders_sum, on=\"order_aid\")\n",
    "    .with_columns(\n",
    "        probability = pl.col(\"count\") / pl.col(\"sum\")\n",
    "    )\n",
    "    .with_columns(pl.col(\"probability\").cast(pl.Float32))\n",
    "    .drop([\"count\", \"sum\"])\n",
    "    .sort([\"order_aid\", \"click_aid\"])\n",
    ")\n",
    "\n",
    "print(order_to_click_matrix)\n",
    "\n",
    "# Check that probabilities sum to the amount of unique aids\n",
    "print(\"Unique aids:\", order_to_click_matrix.select(\"order_aid\").n_unique())\n",
    "print(\"Total probability:\", order_to_click_matrix.select(\"probability\").sum().select(pl.first()).item())"
   ],
   "metadata": {
    "collapsed": false
   }
  },
  {
   "cell_type": "code",
   "execution_count": 17,
   "outputs": [],
   "source": [
    "# save to csv\n",
    "order_to_click_matrix.write_csv(\"./order_to_click_matrix.csv\")"
   ],
   "metadata": {
    "collapsed": false
   }
  },
  {
   "cell_type": "markdown",
   "source": [
    "### Order to cart matrix\n",
    "Order to cart matrix is defined as the probabilities of other aids being added to cart later in the same sub session where an aid is ordered."
   ],
   "metadata": {
    "collapsed": false
   }
  },
  {
   "cell_type": "code",
   "execution_count": 18,
   "outputs": [
    {
     "name": "stdout",
     "output_type": "stream",
     "text": [
      "shape: (814_744, 3)\n",
      "┌───────────┬──────────┬─────────────┐\n",
      "│ order_aid ┆ cart_aid ┆ probability │\n",
      "│ ---       ┆ ---      ┆ ---         │\n",
      "│ u32       ┆ u32      ┆ f32         │\n",
      "╞═══════════╪══════════╪═════════════╡\n",
      "│ 3         ┆ 3        ┆ 0.5         │\n",
      "│ 3         ┆ 139351   ┆ 0.125       │\n",
      "│ 3         ┆ 905951   ┆ 0.125       │\n",
      "│ 3         ┆ 1347221  ┆ 0.125       │\n",
      "│ 3         ┆ 1821347  ┆ 0.125       │\n",
      "│ …         ┆ …        ┆ …           │\n",
      "│ 1855594   ┆ 1320670  ┆ 0.125       │\n",
      "│ 1855594   ┆ 1334761  ┆ 0.125       │\n",
      "│ 1855594   ┆ 1469175  ┆ 0.125       │\n",
      "│ 1855594   ┆ 1556873  ┆ 0.125       │\n",
      "│ 1855594   ┆ 1855594  ┆ 0.375       │\n",
      "└───────────┴──────────┴─────────────┘\n",
      "Unique aids: 147717\n",
      "Total probability: 147717.0\n"
     ]
    }
   ],
   "source": [
    "# Get orders and carts of sub sessions\n",
    "orders_of_sub_sessions = (\n",
    "    sub_sessions\n",
    "    .filter(pl.col(\"type\") == \"orders\")\n",
    "    .select([\"sub_session\", \"ts\", \"aid\"])\n",
    "    .rename({\"ts\": \"order_ts\", \"aid\": \"order_aid\"})\n",
    ")\n",
    "\n",
    "carts_of_sub_sessions = (\n",
    "    sub_sessions\n",
    "    .filter(pl.col(\"type\") == \"carts\")\n",
    "    .select([\"sub_session\", \"ts\", \"aid\"])\n",
    "    .rename({\"ts\": \"cart_ts\", \"aid\": \"cart_aid\"})\n",
    ")\n",
    "\n",
    "carts_after_orders_in_sub_sessions = (\n",
    "    carts_of_sub_sessions\n",
    "    # Combine orders and carts of sub sessions\n",
    "    .join(orders_of_sub_sessions, on=\"sub_session\", how=\"inner\")\n",
    "    # Keep only carts that happened after orders\n",
    "    .filter(pl.col(\"order_ts\") < pl.col(\"cart_ts\"))\n",
    "    .select([\"sub_session\", \"order_aid\", \"cart_aid\"])\n",
    ")\n",
    "\n",
    "# Count how many same order to cart events there are\n",
    "order_to_cart_count = (\n",
    "    carts_after_orders_in_sub_sessions\n",
    "    .group_by([\"order_aid\", \"cart_aid\"])\n",
    "    .agg(pl.len().alias(\"count\"))\n",
    "    .sort(\"count\", descending=True)\n",
    ")\n",
    "\n",
    "# Sum all the orders for each aid\n",
    "aid_orders_sum = (\n",
    "    order_to_cart_count\n",
    "    .group_by(\"order_aid\")\n",
    "    .agg(pl.sum(\"count\").alias(\"sum\"))\n",
    "    .sort(\"sum\", descending=True)\n",
    ")\n",
    "\n",
    "# Calculate the probabilities of items being added to cart after another item has been ordered\n",
    "order_to_cart_matrix = (\n",
    "    order_to_cart_count\n",
    "    .join(aid_orders_sum, on=\"order_aid\")\n",
    "    .with_columns(\n",
    "        probability = pl.col(\"count\") / pl.col(\"sum\")\n",
    "    )\n",
    "    .with_columns(pl.col(\"probability\").cast(pl.Float32))\n",
    "    .drop([\"count\", \"sum\"])\n",
    "    .sort([\"order_aid\", \"cart_aid\"])\n",
    ")\n",
    "\n",
    "print(order_to_cart_matrix)\n",
    "\n",
    "# Check that probabilities sum to the amount of unique aids\n",
    "print(\"Unique aids:\", order_to_cart_matrix.select(\"order_aid\").n_unique())\n",
    "print(\"Total probability:\", order_to_cart_matrix.select(\"probability\").sum().select(pl.first()).item())"
   ],
   "metadata": {
    "collapsed": false
   }
  },
  {
   "cell_type": "code",
   "execution_count": 19,
   "outputs": [],
   "source": [
    "# save to csv\n",
    "order_to_cart_matrix.write_csv(\"./order_to_cart_matrix.csv\")"
   ],
   "metadata": {
    "collapsed": false
   }
  },
  {
   "cell_type": "markdown",
   "source": [
    "### Order to order matrix\n",
    "Order to order matrix is defined as the probabilities of other aids being ordered later in the same sub session where an aid is ordered."
   ],
   "metadata": {
    "collapsed": false
   }
  },
  {
   "cell_type": "code",
   "execution_count": 20,
   "outputs": [
    {
     "name": "stdout",
     "output_type": "stream",
     "text": [
      "shape: (361_060, 3)\n",
      "┌───────────┬────────────────┬─────────────┐\n",
      "│ order_aid ┆ next_order_aid ┆ probability │\n",
      "│ ---       ┆ ---            ┆ ---         │\n",
      "│ u32       ┆ u32            ┆ f32         │\n",
      "╞═══════════╪════════════════╪═════════════╡\n",
      "│ 103       ┆ 774304         ┆ 1.0         │\n",
      "│ 123       ┆ 421154         ┆ 0.5         │\n",
      "│ 123       ┆ 523206         ┆ 0.5         │\n",
      "│ 133       ┆ 133            ┆ 0.333333    │\n",
      "│ 133       ┆ 732604         ┆ 0.333333    │\n",
      "│ …         ┆ …              ┆ …           │\n",
      "│ 1855547   ┆ 1853703        ┆ 0.083333    │\n",
      "│ 1855547   ┆ 1855547        ┆ 0.083333    │\n",
      "│ 1855571   ┆ 1126993        ┆ 1.0         │\n",
      "│ 1855594   ┆ 156547         ┆ 0.5         │\n",
      "│ 1855594   ┆ 1410784        ┆ 0.5         │\n",
      "└───────────┴────────────────┴─────────────┘\n",
      "Unique aids: 83514\n",
      "Total probability: 83514.0078125\n"
     ]
    }
   ],
   "source": [
    "# Get orders of sub sessions\n",
    "orders_of_sub_sessions = (\n",
    "    sub_sessions\n",
    "    .filter(pl.col(\"type\") == \"orders\")\n",
    "    .select([\"sub_session\", \"ts\", \"aid\"])\n",
    "    .rename({\"ts\": \"order_ts\", \"aid\": \"order_aid\"})\n",
    ")\n",
    "\n",
    "next_orders_of_sub_sessions = (\n",
    "    orders_of_sub_sessions\n",
    "    .rename({\"order_ts\": \"next_order_ts\", \"order_aid\": \"next_order_aid\"})\n",
    ")\n",
    "\n",
    "# Find subsequent orders in the same sub session\n",
    "subsequent_orders = (\n",
    "    orders_of_sub_sessions\n",
    "    .join(next_orders_of_sub_sessions, on=\"sub_session\", how=\"inner\")\n",
    "    .filter(pl.col(\"order_ts\") < pl.col(\"next_order_ts\"))\n",
    "    .select([\"sub_session\", \"order_aid\", \"next_order_aid\"])\n",
    ")\n",
    "\n",
    "# Count how many same order to order events there are\n",
    "subsequent_orders_count = (\n",
    "    subsequent_orders\n",
    "    .group_by([\"order_aid\", \"next_order_aid\"])\n",
    "    .agg(pl.len().alias(\"count\"))\n",
    "    .sort(\"count\", descending=True)\n",
    ")\n",
    "\n",
    "# Sum all the orders for each aid\n",
    "aid_orders_sum = (\n",
    "    subsequent_orders_count\n",
    "    .group_by(\"order_aid\")\n",
    "    .agg(pl.sum(\"count\").alias(\"sum\"))\n",
    "    .sort(\"sum\", descending=True)\n",
    ")\n",
    "\n",
    "# Calculate the probabilities of items being ordered after another item has been ordered\n",
    "order_to_order_matrix = (\n",
    "    subsequent_orders_count\n",
    "    .join(aid_orders_sum, on=\"order_aid\")\n",
    "    .with_columns(\n",
    "        probability = pl.col(\"count\") / pl.col(\"sum\")\n",
    "    )\n",
    "    .with_columns(pl.col(\"probability\").cast(pl.Float32))\n",
    "    .drop([\"count\", \"sum\"])\n",
    "    .sort([\"order_aid\", \"next_order_aid\"])\n",
    ")\n",
    "\n",
    "print(order_to_order_matrix)\n",
    "\n",
    "# Check that probabilities sum to the amount of unique aids\n",
    "print(\"Unique aids:\", order_to_order_matrix.select(\"order_aid\").n_unique())\n",
    "print(\"Total probability:\", order_to_order_matrix.select(\"probability\").sum().select(pl.first()).item())"
   ],
   "metadata": {
    "collapsed": false
   }
  },
  {
   "cell_type": "code",
   "execution_count": 21,
   "outputs": [],
   "source": [
    "# save to csv\n",
    "order_to_order_matrix.write_csv(\"./order_to_order_matrix.csv\")"
   ],
   "metadata": {
    "collapsed": false
   }
  }
 ],
 "metadata": {
  "kernelspec": {
   "display_name": "Python 3",
   "language": "python",
   "name": "python3"
  },
  "language_info": {
   "codemirror_mode": {
    "name": "ipython",
    "version": 2
   },
   "file_extension": ".py",
   "mimetype": "text/x-python",
   "name": "python",
   "nbconvert_exporter": "python",
   "pygments_lexer": "ipython2",
   "version": "2.7.6"
  }
 },
 "nbformat": 4,
 "nbformat_minor": 0
}
