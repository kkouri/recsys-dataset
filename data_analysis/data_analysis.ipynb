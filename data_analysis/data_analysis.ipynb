{
 "cells": [
  {
   "cell_type": "markdown",
   "source": [
    "# Exploratory Data Analysis"
   ],
   "metadata": {
    "collapsed": false
   }
  },
  {
   "cell_type": "code",
   "execution_count": 18,
   "outputs": [
    {
     "name": "stdout",
     "output_type": "stream",
     "text": [
      "shape: (108_357_960, 4)\n",
      "┌──────────┬─────────┬────────────┬────────┐\n",
      "│ session  ┆ aid     ┆ ts         ┆ type   │\n",
      "│ ---      ┆ ---     ┆ ---        ┆ ---    │\n",
      "│ u32      ┆ u32     ┆ u32        ┆ str    │\n",
      "╞══════════╪═════════╪════════════╪════════╡\n",
      "│ 0        ┆ 723931  ┆ 1660544235 ┆ clicks │\n",
      "│ 0        ┆ 1436439 ┆ 1660544269 ┆ clicks │\n",
      "│ 0        ┆ 1693461 ┆ 1660544287 ┆ clicks │\n",
      "│ 0        ┆ 1206554 ┆ 1660544299 ┆ clicks │\n",
      "│ 0        ┆ 1110741 ┆ 1660546139 ┆ clicks │\n",
      "│ …        ┆ …       ┆ …          ┆ …      │\n",
      "│ 12899776 ┆ 1737908 ┆ 1661723987 ┆ clicks │\n",
      "│ 12899777 ┆ 384045  ┆ 1661723976 ┆ clicks │\n",
      "│ 12899777 ┆ 384045  ┆ 1661723986 ┆ clicks │\n",
      "│ 12899778 ┆ 561560  ┆ 1661723983 ┆ clicks │\n",
      "│ 12899778 ┆ 32070   ┆ 1661723994 ┆ clicks │\n",
      "└──────────┴─────────┴────────────┴────────┘\n"
     ]
    }
   ],
   "source": [
    "import polars as pl\n",
    "\n",
    "# define the schema of the dataframe\n",
    "event_schema = pl.Struct({\"aid\": pl.UInt32, \"ts\": pl.Int64, \"type\": str})\n",
    "df_schema = {\"session\": pl.UInt32, \"events\": pl.List(event_schema)}\n",
    "df = pl.read_ndjson('../data/train.jsonl', schema=df_schema, low_memory=True)\n",
    "\n",
    "# print(df.head())\n",
    "\n",
    "exploded_df = (\n",
    "    df\n",
    "    .explode(\"events\")\n",
    "    .unnest(\"events\")\n",
    "    # Convert ts to seconds and cast to UInt32 to save memory\n",
    "    .with_columns((pl.col(\"ts\")//1000).cast(pl.UInt32))\n",
    "    # Take last half of train set to save memory\n",
    "    .filter(pl.col(\"ts\") > pl.median(\"ts\"))\n",
    ")\n",
    "\n",
    "print(exploded_df)"
   ],
   "metadata": {
    "collapsed": false
   }
  },
  {
   "cell_type": "code",
   "execution_count": 11,
   "outputs": [
    {
     "name": "stdout",
     "output_type": "stream",
     "text": [
      "shape: (99_080_120, 4)\n",
      "┌──────────┬─────────┬────────────┬────────┐\n",
      "│ session  ┆ aid     ┆ ts         ┆ type   │\n",
      "│ ---      ┆ ---     ┆ ---        ┆ ---    │\n",
      "│ u32      ┆ u32     ┆ u32        ┆ str    │\n",
      "╞══════════╪═════════╪════════════╪════════╡\n",
      "│ 1        ┆ 723931  ┆ 1660544235 ┆ clicks │\n",
      "│ 1        ┆ 1436439 ┆ 1660544269 ┆ clicks │\n",
      "│ 1        ┆ 1693461 ┆ 1660544287 ┆ clicks │\n",
      "│ 1        ┆ 1206554 ┆ 1660544299 ┆ clicks │\n",
      "│ 2        ┆ 1110741 ┆ 1660546139 ┆ clicks │\n",
      "│ …        ┆ …       ┆ …          ┆ …      │\n",
      "│ 13925402 ┆ 1737908 ┆ 1661723987 ┆ clicks │\n",
      "│ 13925403 ┆ 384045  ┆ 1661723976 ┆ clicks │\n",
      "│ 13925403 ┆ 384045  ┆ 1661723986 ┆ clicks │\n",
      "│ 13925404 ┆ 561560  ┆ 1661723983 ┆ clicks │\n",
      "│ 13925404 ┆ 32070   ┆ 1661723994 ┆ clicks │\n",
      "└──────────┴─────────┴────────────┴────────┘\n",
      "train sessions 13925404\n"
     ]
    }
   ],
   "source": [
    "import polars as pl\n",
    "\n",
    "df_schema = {\n",
    "    \"session\": pl.UInt32,\n",
    "    \"aid\": pl.UInt32,\n",
    "    \"ts\": pl.UInt32,\n",
    "    \"type\": pl.Utf8\n",
    "}\n",
    "train_sessions = pl.read_csv(\"../data/generated/train_events_last_half.csv\", schema=df_schema, low_memory=True)\n",
    "\n",
    "print(train_sessions)\n",
    "\n",
    "\n",
    "print(\"train sessions\", train_sessions.select(\"session\").n_unique())"
   ],
   "metadata": {
    "collapsed": false
   }
  },
  {
   "cell_type": "code",
   "execution_count": 5,
   "outputs": [
    {
     "name": "stdout",
     "output_type": "stream",
     "text": [
      "shape: (99_080_120, 4)\n",
      "┌──────────┬─────────┬────────────┬────────┐\n",
      "│ session  ┆ aid     ┆ ts         ┆ type   │\n",
      "│ ---      ┆ ---     ┆ ---        ┆ ---    │\n",
      "│ u32      ┆ u32     ┆ u32        ┆ str    │\n",
      "╞══════════╪═════════╪════════════╪════════╡\n",
      "│ 1        ┆ 723931  ┆ 1660544235 ┆ clicks │\n",
      "│ 1        ┆ 1436439 ┆ 1660544269 ┆ clicks │\n",
      "│ 1        ┆ 1693461 ┆ 1660544287 ┆ clicks │\n",
      "│ 1        ┆ 1206554 ┆ 1660544299 ┆ clicks │\n",
      "│ 2        ┆ 1110741 ┆ 1660546139 ┆ clicks │\n",
      "│ …        ┆ …       ┆ …          ┆ …      │\n",
      "│ 13925402 ┆ 1737908 ┆ 1661723987 ┆ clicks │\n",
      "│ 13925403 ┆ 384045  ┆ 1661723976 ┆ clicks │\n",
      "│ 13925403 ┆ 384045  ┆ 1661723986 ┆ clicks │\n",
      "│ 13925404 ┆ 561560  ┆ 1661723983 ┆ clicks │\n",
      "│ 13925404 ┆ 32070   ┆ 1661723994 ┆ clicks │\n",
      "└──────────┴─────────┴────────────┴────────┘\n"
     ]
    }
   ],
   "source": [
    "from src.data_generation.create_sessions import create_sessions\n",
    "\n",
    "# create sessions\n",
    "train_sessions = create_sessions(train_sessions)\n",
    "print(train_sessions)"
   ],
   "metadata": {
    "collapsed": false
   }
  },
  {
   "cell_type": "code",
   "execution_count": 10,
   "outputs": [
    {
     "name": "stdout",
     "output_type": "stream",
     "text": [
      "shape: (2_932_339, 4)\n",
      "┌─────────┬─────────┬────────────┬────────┐\n",
      "│ session ┆ aid     ┆ ts         ┆ type   │\n",
      "│ ---     ┆ ---     ┆ ---        ┆ ---    │\n",
      "│ u32     ┆ u32     ┆ u32        ┆ str    │\n",
      "╞═════════╪═════════╪════════════╪════════╡\n",
      "│ 211584  ┆ 1005472 ┆ 1661975174 ┆ clicks │\n",
      "│ 211584  ┆ 587762  ┆ 1661975180 ┆ carts  │\n",
      "│ 211584  ┆ 1673641 ┆ 1661975189 ┆ clicks │\n",
      "│ 211584  ┆ 1673641 ┆ 1661975199 ┆ carts  │\n",
      "│ 211584  ┆ 1557927 ┆ 1661975214 ┆ clicks │\n",
      "│ …       ┆ …       ┆ …          ┆ …      │\n",
      "│ 405286  ┆ 329897  ┆ 1661955178 ┆ clicks │\n",
      "│ 292030  ┆ 1423146 ┆ 1661883004 ┆ clicks │\n",
      "│ 292030  ┆ 1412570 ┆ 1661883030 ┆ clicks │\n",
      "│ 243274  ┆ 159789  ┆ 1661864988 ┆ clicks │\n",
      "│ 243274  ┆ 1745713 ┆ 1661865020 ┆ clicks │\n",
      "└─────────┴─────────┴────────────┴────────┘\n",
      "test sessions 514739\n"
     ]
    }
   ],
   "source": [
    "event_schema = pl.Struct({\"aid\": pl.UInt32, \"ts\": pl.UInt32, \"type\": str})\n",
    "df_schema = {\"session\": pl.UInt32, \"events\": pl.List(event_schema)}\n",
    "test_sessions = (\n",
    "    pl.read_ndjson('../data/generated/test_sessions_first_half.jsonl', schema=df_schema, low_memory=True)\n",
    "    .explode(\"events\")\n",
    "    .unnest(\"events\")\n",
    ")\n",
    "\n",
    "print(test_sessions)\n",
    "\n",
    "print(\"test sessions\", test_sessions.select(\"session\").n_unique())"
   ],
   "metadata": {
    "collapsed": false
   }
  },
  {
   "cell_type": "code",
   "execution_count": 9,
   "outputs": [
    {
     "name": "stdout",
     "output_type": "stream",
     "text": [
      "Train aids: 1770307\n",
      "Test aids: 508146\n",
      "Common aids: 505657\n",
      "Test aids not found in train: 2489, 0.49%\n"
     ]
    }
   ],
   "source": [
    "train_aids = pl.Series(train_sessions.select(\"aid\").unique()).to_list()\n",
    "test_aids = pl.Series(test_sessions.select(\"aid\").unique()).to_list()\n",
    "\n",
    "print(f\"Train aids: {len(train_aids)}\")\n",
    "print(f\"Test aids: {len(test_aids)}\")\n",
    "\n",
    "common_aids = set(train_aids).intersection(test_aids)\n",
    "print(f\"Common aids: {len(common_aids)}\")\n",
    "\n",
    "# Test aids not found in train\n",
    "test_aids_not_in_train = set(test_aids) - set(train_aids)\n",
    "print(f\"Test aids not found in train: {len(test_aids_not_in_train)}, {len(test_aids_not_in_train) / len(test_aids) * 100:.2f}%\")"
   ],
   "metadata": {
    "collapsed": false
   }
  },
  {
   "cell_type": "markdown",
   "source": [
    "### Amount of events per session"
   ],
   "metadata": {
    "collapsed": false
   }
  },
  {
   "cell_type": "code",
   "execution_count": 10,
   "outputs": [
    {
     "name": "stdout",
     "output_type": "stream",
     "text": [
      "shape: (9, 2)\n",
      "┌────────────┬──────────────────────┐\n",
      "│ statistic  ┆ session_events_count │\n",
      "│ ---        ┆ ---                  │\n",
      "│ str        ┆ f64                  │\n",
      "╞════════════╪══════════════════════╡\n",
      "│ count      ┆ 1.3925404e7          │\n",
      "│ null_count ┆ 0.0                  │\n",
      "│ mean       ┆ 7.115063             │\n",
      "│ std        ┆ 9.332812             │\n",
      "│ min        ┆ 2.0                  │\n",
      "│ 25%        ┆ 2.0                  │\n",
      "│ 50%        ┆ 4.0                  │\n",
      "│ 75%        ┆ 8.0                  │\n",
      "│ max        ┆ 486.0                │\n",
      "└────────────┴──────────────────────┘\n"
     ]
    }
   ],
   "source": [
    "# amount of events per session\n",
    "session_events_count = (\n",
    "    train_sessions\n",
    "    .group_by(\"session\")\n",
    "    .agg(pl.len().alias(\"session_events_count\"))\n",
    "    .select(\"session_events_count\")\n",
    ")\n",
    "\n",
    "print(session_events_count.describe())"
   ],
   "metadata": {
    "collapsed": false
   }
  },
  {
   "cell_type": "code",
   "execution_count": 77,
   "outputs": [
    {
     "data": {
      "text/plain": "<Figure size 1000x500 with 1 Axes>",
      "image/png": "[encoded data removed]"
     },
     "metadata": {},
     "output_type": "display_data"
    },
    {
     "data": {
      "text/plain": "<Figure size 1000x500 with 1 Axes>",
      "image/png": "[encoded data removed]"
     },
     "metadata": {},
     "output_type": "display_data"
    }
   ],
   "source": [
    "import matplotlib.pyplot as plt\n",
    "\n",
    "events_counts = session_events_count.to_numpy().reshape(-1)\n",
    "\n",
    "plt.figure(figsize=(10, 5))\n",
    "plt.hist(events_counts, bins=500)\n",
    "plt.title(\"Session event count\")\n",
    "plt.xlabel(\"event count\")\n",
    "plt.ylabel(\"Amount of sessions\")\n",
    "plt.show()\n",
    "\n",
    "plt.figure(figsize=(10, 5))\n",
    "plt.hist(events_counts, bins=500)\n",
    "plt.xlim(0, 100)\n",
    "plt.title(\"Session event count. < 100 events\")\n",
    "plt.xlabel(\"event count\")\n",
    "plt.ylabel(\"Amount of sessions\")\n",
    "plt.show()"
   ],
   "metadata": {
    "collapsed": false
   }
  },
  {
   "cell_type": "markdown",
   "source": [
    "Median events per session is 4. Max events per session is 486."
   ],
   "metadata": {
    "collapsed": false
   }
  },
  {
   "cell_type": "code",
   "execution_count": 12,
   "outputs": [
    {
     "name": "stdout",
     "output_type": "stream",
     "text": [
      "Percentage of sessions with less than 100 events: 99.92%\n",
      "Percentage of sessions with less than 50 events: 99.18%\n",
      "Percentage of sessions with less than 20 events: 93.29%\n",
      "Percentage of sessions with less than 10 events: 80.13%\n",
      "Percentage of sessions with less than 5 events: 55.48%\n",
      "Percentage of sessions with 2 events: 27.88%\n"
     ]
    }
   ],
   "source": [
    "# Count how many percent are under 100 events\n",
    "under_100 = session_events_count.filter(pl.col(\"session_events_count\") < 100).height\n",
    "total = session_events_count.height\n",
    "print(f\"Percentage of sessions with less than 100 events: {under_100 / total * 100:.2f}%\")\n",
    "\n",
    "# Count how many percent are under 50 events\n",
    "under_50 = session_events_count.filter(pl.col(\"session_events_count\") < 50).height\n",
    "print(f\"Percentage of sessions with less than 50 events: {under_50 / total * 100:.2f}%\")\n",
    "\n",
    "# Count how many percent are under 20 events\n",
    "under_20 = session_events_count.filter(pl.col(\"session_events_count\") < 20).height\n",
    "print(f\"Percentage of sessions with less than 20 events: {under_20 / total * 100:.2f}%\")\n",
    "\n",
    "# Count how many percent are under 10 events\n",
    "under_10 = session_events_count.filter(pl.col(\"session_events_count\") < 10).height\n",
    "print(f\"Percentage of sessions with less than 10 events: {under_10 / total * 100:.2f}%\")\n",
    "\n",
    "# Count how many percent are under 5 events\n",
    "under_5 = session_events_count.filter(pl.col(\"session_events_count\") < 5).height\n",
    "print(f\"Percentage of sessions with less than 5 events: {under_5 / total * 100:.2f}%\")\n",
    "\n",
    "# Count how many percent are 2 events\n",
    "exactly_2 = session_events_count.filter(pl.col(\"session_events_count\") == 2).height\n",
    "print(f\"Percentage of sessions with 2 events: {exactly_2 / total * 100:.2f}%\")"
   ],
   "metadata": {
    "collapsed": false
   }
  },
  {
   "cell_type": "markdown",
   "source": [
    "### Amount of each event type"
   ],
   "metadata": {
    "collapsed": false
   }
  },
  {
   "cell_type": "code",
   "execution_count": 14,
   "outputs": [
    {
     "name": "stdout",
     "output_type": "stream",
     "text": [
      "shape: (3, 2)\n",
      "┌────────────┬──────────┐\n",
      "│ event_type ┆ count    │\n",
      "│ ---        ┆ ---      │\n",
      "│ str        ┆ u32      │\n",
      "╞════════════╪══════════╡\n",
      "│ clicks     ┆ 88244682 │\n",
      "│ carts      ┆ 8461377  │\n",
      "│ orders     ┆ 2374061  │\n",
      "└────────────┴──────────┘\n"
     ]
    }
   ],
   "source": [
    "# count amount of each event type\n",
    "events_count = (\n",
    "    train_sessions\n",
    "    .select([\"type\"])\n",
    "    .rename({\"type\": \"event_type\"})\n",
    "    .group_by(\"event_type\")\n",
    "    .agg(\n",
    "        pl.count(\"event_type\")\n",
    "        .alias(\"count\")\n",
    "    )\n",
    ")\n",
    "\n",
    "print(events_count)"
   ],
   "metadata": {
    "collapsed": false
   }
  },
  {
   "cell_type": "code",
   "execution_count": 15,
   "outputs": [],
   "source": [
    "def add_labels(x,y):\n",
    "    for i in range(len(x)):\n",
    "        if isinstance(y[i], float):\n",
    "            plt.text(i, y[i], f\"{y[i]:.2f}\", ha = 'center')\n",
    "        else:\n",
    "            plt.text(i, y[i], y[i], ha = 'center')"
   ],
   "metadata": {
    "collapsed": false
   }
  },
  {
   "cell_type": "code",
   "execution_count": 16,
   "outputs": [
    {
     "data": {
      "text/plain": "<Figure size 1000x500 with 1 Axes>",
      "image/png": "[encoded data removed]"
     },
     "metadata": {},
     "output_type": "display_data"
    }
   ],
   "source": [
    "plt.figure(figsize=(10, 5))\n",
    "plt.bar(events_count[\"event_type\"].to_numpy(), events_count[\"count\"].to_numpy())\n",
    "add_labels(events_count[\"event_type\"].to_numpy(), events_count[\"count\"].to_numpy())\n",
    "plt.title(\"Amount of each event type\")\n",
    "plt.xlabel(\"Event type\")\n",
    "plt.ylabel(\"Amount of events\")\n",
    "plt.show()"
   ],
   "metadata": {
    "collapsed": false
   }
  },
  {
   "cell_type": "markdown",
   "source": [
    "### Amount of events per aid"
   ],
   "metadata": {
    "collapsed": false
   }
  },
  {
   "cell_type": "code",
   "execution_count": 17,
   "outputs": [
    {
     "name": "stdout",
     "output_type": "stream",
     "text": [
      "shape: (1_770_307, 2)\n",
      "┌─────────┬──────────────┐\n",
      "│ aid     ┆ events_count │\n",
      "│ ---     ┆ ---          │\n",
      "│ u32     ┆ u32          │\n",
      "╞═════════╪══════════════╡\n",
      "│ 1544393 ┆ 1            │\n",
      "│ 1575994 ┆ 1            │\n",
      "│ 835656  ┆ 1            │\n",
      "│ 445703  ┆ 1            │\n",
      "│ 1011557 ┆ 1            │\n",
      "│ …       ┆ …            │\n",
      "│ 1603001 ┆ 42775        │\n",
      "│ 959208  ┆ 47862        │\n",
      "│ 108125  ┆ 56873        │\n",
      "│ 1460571 ┆ 59040        │\n",
      "│ 485256  ┆ 110786       │\n",
      "└─────────┴──────────────┘\n",
      "shape: (9, 2)\n",
      "┌────────────┬──────────────┐\n",
      "│ statistic  ┆ events_count │\n",
      "│ ---        ┆ ---          │\n",
      "│ str        ┆ f64          │\n",
      "╞════════════╪══════════════╡\n",
      "│ count      ┆ 1.770307e6   │\n",
      "│ null_count ┆ 0.0          │\n",
      "│ mean       ┆ 55.967762    │\n",
      "│ std        ┆ 343.123957   │\n",
      "│ min        ┆ 1.0          │\n",
      "│ 25%        ┆ 5.0          │\n",
      "│ 50%        ┆ 10.0         │\n",
      "│ 75%        ┆ 28.0         │\n",
      "│ max        ┆ 110786.0     │\n",
      "└────────────┴──────────────┘\n"
     ]
    }
   ],
   "source": [
    "# count amount of events per aid\n",
    "events_per_aid = (\n",
    "    train_sessions\n",
    "    .select([\"aid\"])\n",
    "    .group_by(\"aid\")\n",
    "    .agg(\n",
    "        pl.count(\"aid\")\n",
    "        .alias(\"events_count\")\n",
    "    )\n",
    "    .sort(\"events_count\")\n",
    ")\n",
    "\n",
    "print(events_per_aid)\n",
    "print(events_per_aid.select(\"events_count\").describe())\n",
    "\n",
    "event_counts_distribution = (\n",
    "    events_per_aid\n",
    "    .select(\"events_count\")\n",
    "    .group_by(\"events_count\")\n",
    "    .agg(\n",
    "        pl.count(\"events_count\")\n",
    "        .alias(\"aids_count\")\n",
    "    )\n",
    "    .sort(\"events_count\")\n",
    ")"
   ],
   "metadata": {
    "collapsed": false
   }
  },
  {
   "cell_type": "code",
   "execution_count": 18,
   "outputs": [
    {
     "name": "stdout",
     "output_type": "stream",
     "text": [
      "[30.927517091668282, 20.639753443894197, 17.17594744866286, 15.220749847342862, 6.886206742672315, 2.7869742366719445, 1.54120161079406, 0.9676852658889108, 2.0673250458818724, 1.0449599984635434, 0.7416792680591558]\n",
      "100.0\n"
     ]
    },
    {
     "data": {
      "text/plain": "<Figure size 1500x500 with 1 Axes>",
      "image/png": "[encoded data removed]"
     },
     "metadata": {},
     "output_type": "display_data"
    }
   ],
   "source": [
    "def get_percentage_under_n_events(amount_of_events):\n",
    "    percentages = []\n",
    "    labels = []\n",
    "\n",
    "    total = events_per_aid.height\n",
    "    len_events = len(amount_of_events)\n",
    "    for i in range(len_events):\n",
    "        if i == 0:\n",
    "            count = events_per_aid.filter(pl.col(\"events_count\") <= amount_of_events[i]).height\n",
    "            percentages.append(count / total * 100)\n",
    "            labels.append(f\"<= {amount_of_events[i]}\")\n",
    "            continue\n",
    "\n",
    "        n1 = amount_of_events[i-1]\n",
    "        n2 = amount_of_events[i]\n",
    "\n",
    "        count = events_per_aid.filter(pl.col(\"events_count\") > n1, pl.col(\"events_count\") <= n2).height\n",
    "        percentages.append(count / total * 100)\n",
    "        labels.append(f\"{n1} - {n2}\")\n",
    "\n",
    "        if i == len_events-1:\n",
    "            count = events_per_aid.filter(pl.col(\"events_count\") > amount_of_events[i]).height\n",
    "            percentages.append(count / total * 100)\n",
    "            labels.append(f\"> {amount_of_events[i]}\")\n",
    "            continue\n",
    "\n",
    "    return percentages, labels\n",
    "\n",
    "amount_of_events = [5, 10, 20, 50, 100, 150, 200, 250, 500, 1000]\n",
    "percentages, labels = get_percentage_under_n_events(amount_of_events)\n",
    "print(percentages)\n",
    "print(sum(percentages))\n",
    "\n",
    "plt.figure(figsize=(15, 5))\n",
    "plt.bar(labels, percentages)\n",
    "add_labels(labels, percentages)\n",
    "plt.title(\"Distribution of amount of events per aid\")\n",
    "plt.xlabel(\"Amount of events\")\n",
    "plt.ylabel(\"Percentage of aids\")\n",
    "plt.show()"
   ],
   "metadata": {
    "collapsed": false
   }
  },
  {
   "cell_type": "markdown",
   "source": [
    "The distribution of the amount of events per aid is very skewed. many aids have very few events, while a few have a lot of events."
   ],
   "metadata": {
    "collapsed": false
   }
  },
  {
   "cell_type": "markdown",
   "source": [
    "### Amount of orders per aid"
   ],
   "metadata": {
    "collapsed": false
   }
  },
  {
   "cell_type": "code",
   "execution_count": 22,
   "outputs": [
    {
     "name": "stdout",
     "output_type": "stream",
     "text": [
      "shape: (457_719, 2)\n",
      "┌─────────┬──────────────┐\n",
      "│ aid     ┆ orders_count │\n",
      "│ ---     ┆ ---          │\n",
      "│ u32     ┆ u32          │\n",
      "╞═════════╪══════════════╡\n",
      "│ 1122050 ┆ 1            │\n",
      "│ 462998  ┆ 1            │\n",
      "│ 702205  ┆ 1            │\n",
      "│ 1162166 ┆ 1            │\n",
      "│ 1612031 ┆ 1            │\n",
      "│ …       ┆ …            │\n",
      "│ 231487  ┆ 1359         │\n",
      "│ 1445562 ┆ 1501         │\n",
      "│ 876493  ┆ 1581         │\n",
      "│ 1603001 ┆ 1640         │\n",
      "│ 166037  ┆ 1649         │\n",
      "└─────────┴──────────────┘\n",
      "shape: (9, 2)\n",
      "┌────────────┬──────────────┐\n",
      "│ statistic  ┆ orders_count │\n",
      "│ ---        ┆ ---          │\n",
      "│ str        ┆ f64          │\n",
      "╞════════════╪══════════════╡\n",
      "│ count      ┆ 457719.0     │\n",
      "│ null_count ┆ 0.0          │\n",
      "│ mean       ┆ 5.186722     │\n",
      "│ std        ┆ 18.792958    │\n",
      "│ min        ┆ 1.0          │\n",
      "│ 25%        ┆ 1.0          │\n",
      "│ 50%        ┆ 2.0          │\n",
      "│ 75%        ┆ 4.0          │\n",
      "│ max        ┆ 1649.0       │\n",
      "└────────────┴──────────────┘\n",
      "46788\n"
     ]
    }
   ],
   "source": [
    "# count amount of events per aid\n",
    "orders_per_aid = (\n",
    "    train_sessions\n",
    "    .filter(pl.col(\"type\") == \"orders\")\n",
    "    .select([\"aid\"])\n",
    "    .group_by(\"aid\")\n",
    "    .agg(\n",
    "        pl.count(\"aid\")\n",
    "        .alias(\"orders_count\")\n",
    "    )\n",
    "    .sort(\"orders_count\")\n",
    ")\n",
    "\n",
    "print(orders_per_aid)\n",
    "print(orders_per_aid.select(\"orders_count\").describe())\n",
    "\n",
    "print(orders_per_aid.filter(pl.col(\"orders_count\") >= 10).n_unique())"
   ],
   "metadata": {
    "collapsed": false
   }
  },
  {
   "cell_type": "markdown",
   "source": [
    "Median order count is 2 orders. Top 25 % of ordered items have more than 4 orders"
   ],
   "metadata": {
    "collapsed": false
   }
  },
  {
   "cell_type": "markdown",
   "source": [
    "### Amount of sessions and aids"
   ],
   "metadata": {
    "collapsed": false
   }
  },
  {
   "cell_type": "code",
   "execution_count": 23,
   "outputs": [
    {
     "name": "stdout",
     "output_type": "stream",
     "text": [
      "Amount of sessions: 13925404\n",
      "Amount of aids: 1770307\n"
     ]
    }
   ],
   "source": [
    "# Count the amount of sessions\n",
    "sessions_count = train_sessions.select(\"session\").n_unique()\n",
    "\n",
    "print(\"Amount of sessions:\", sessions_count)\n",
    "\n",
    "# Count unique items\n",
    "items_count = (\n",
    "    train_sessions\n",
    "    .select(\"aid\")\n",
    "    .n_unique()\n",
    ")\n",
    "\n",
    "print(\"Amount of aids:\", items_count)"
   ],
   "metadata": {
    "collapsed": false
   }
  },
  {
   "cell_type": "markdown",
   "source": [
    "### Amount of aids with clicks, carts and orders"
   ],
   "metadata": {
    "collapsed": false
   }
  },
  {
   "cell_type": "code",
   "execution_count": 24,
   "outputs": [
    {
     "name": "stdout",
     "output_type": "stream",
     "text": [
      "Unique aids: 1770307\n",
      "Unique aids with clicks: 1768299, 99.89%\n",
      "Unique aids with carts: 943540, 53.30%\n",
      "Unique aids with orders: 457719, 25.86%\n"
     ]
    }
   ],
   "source": [
    "aids_with_clicks = (\n",
    "    train_sessions\n",
    "    .filter(pl.col(\"type\") == \"clicks\")\n",
    "    .select(\"aid\")\n",
    "    .n_unique()\n",
    ")\n",
    "\n",
    "aids_with_carts = (\n",
    "    train_sessions\n",
    "    .filter(pl.col(\"type\") == \"carts\")\n",
    "    .select(\"aid\")\n",
    "    .n_unique()\n",
    ")\n",
    "\n",
    "aids_with_orders = (\n",
    "    train_sessions\n",
    "    .filter(pl.col(\"type\") == \"orders\")\n",
    "    .select(\"aid\")\n",
    "    .n_unique()\n",
    ")\n",
    "\n",
    "print(f\"Unique aids: {items_count}\")\n",
    "print(f\"Unique aids with clicks: {aids_with_clicks}, {aids_with_clicks / items_count * 100:.2f}%\")\n",
    "print(f\"Unique aids with carts: {aids_with_carts}, {aids_with_carts / items_count * 100:.2f}%\")\n",
    "print(f\"Unique aids with orders: {aids_with_orders}, {aids_with_orders / items_count * 100:.2f}%\")"
   ],
   "metadata": {
    "collapsed": false
   }
  },
  {
   "cell_type": "markdown",
   "source": [
    "### Session length in minutes"
   ],
   "metadata": {
    "collapsed": false
   }
  },
  {
   "cell_type": "code",
   "execution_count": 68,
   "outputs": [
    {
     "name": "stdout",
     "output_type": "stream",
     "text": [
      "shape: (13_925_404, 2)\n",
      "┌──────────┬────────────────────────┐\n",
      "│ session  ┆ session_length_minutes │\n",
      "│ ---      ┆ ---                    │\n",
      "│ u32      ┆ f32                    │\n",
      "╞══════════╪════════════════════════╡\n",
      "│ 4358950  ┆ 0.016667               │\n",
      "│ 4713137  ┆ 0.016667               │\n",
      "│ 1834864  ┆ 0.016667               │\n",
      "│ 3833065  ┆ 0.016667               │\n",
      "│ 3768724  ┆ 0.016667               │\n",
      "│ …        ┆ …                      │\n",
      "│ 6565268  ┆ 506.566681             │\n",
      "│ 13403057 ┆ 507.116669             │\n",
      "│ 5191881  ┆ 513.56665              │\n",
      "│ 13622339 ┆ 572.099976             │\n",
      "│ 10237351 ┆ 704.783325             │\n",
      "└──────────┴────────────────────────┘\n",
      "shape: (9, 2)\n",
      "┌────────────┬────────────────────────┐\n",
      "│ statistic  ┆ session_length_minutes │\n",
      "│ ---        ┆ ---                    │\n",
      "│ str        ┆ f64                    │\n",
      "╞════════════╪════════════════════════╡\n",
      "│ count      ┆ 1.3925404e7            │\n",
      "│ null_count ┆ 0.0                    │\n",
      "│ mean       ┆ 9.652189               │\n",
      "│ std        ┆ 14.621815              │\n",
      "│ min        ┆ 0.016667               │\n",
      "│ 25%        ┆ 1.3                    │\n",
      "│ 50%        ┆ 4.066667               │\n",
      "│ 75%        ┆ 11.95                  │\n",
      "│ max        ┆ 704.783325             │\n",
      "└────────────┴────────────────────────┘\n",
      "Percentage of sessions of under 4 hour: 100.00%\n",
      "Percentage of sessions of under 2 hour: 99.86%\n",
      "Percentage of sessions of under 1 hour: 98.49%\n",
      "Percentage of sessions of under 30 min: 92.47%\n"
     ]
    }
   ],
   "source": [
    "# session length is counted as the last_ts - first_ts\n",
    "session_length_minutes = (\n",
    "    train_sessions\n",
    "    .with_columns(\n",
    "        session_start=pl.min(\"ts\").over(\"session\"),\n",
    "        session_end=pl.max(\"ts\").over(\"session\"),\n",
    "    )\n",
    "    .with_columns(session_length_minutes=((pl.col(\"session_end\") - pl.col(\"session_start\")) / 60).cast(pl.Float32))\n",
    "    .select([\"session\", \"session_length_minutes\"])\n",
    "    .unique()\n",
    "    .sort(\"session_length_minutes\")\n",
    ")\n",
    "\n",
    "print(session_length_minutes)\n",
    "\n",
    "print(session_length_minutes.select(\"session_length_minutes\").describe())\n",
    "\n",
    "sessions_under_2_hours_percentage = session_length_minutes.filter(pl.col(\"session_length_minutes\") < 2*60).height / session_length_minutes.height * 100\n",
    "print(f\"Percentage of sessions of under 2 hour: {sessions_under_2_hours_percentage:.2f}%\")\n",
    "\n",
    "sessions_under_hour_percentage = session_length_minutes.filter(pl.col(\"session_length_minutes\") < 1*60).height / session_length_minutes.height * 100\n",
    "print(f\"Percentage of sessions of under 1 hour: {sessions_under_hour_percentage:.2f}%\")\n",
    "\n",
    "sessions_under_30_min_percentage = session_length_minutes.filter(pl.col(\"session_length_minutes\") < 0.5*60).height / session_length_minutes.height * 100\n",
    "print(f\"Percentage of sessions of under 30 min: {sessions_under_30_min_percentage:.2f}%\")"
   ],
   "metadata": {
    "collapsed": false
   }
  },
  {
   "cell_type": "code",
   "execution_count": 134,
   "outputs": [
    {
     "data": {
      "text/plain": "<Figure size 1000x500 with 1 Axes>",
      "image/png": "[encoded data removed]"
     },
     "metadata": {},
     "output_type": "display_data"
    },
    {
     "data": {
      "text/plain": "<Figure size 1000x500 with 1 Axes>",
      "image/png": "[encoded data removed]"
     },
     "metadata": {},
     "output_type": "display_data"
    }
   ],
   "source": [
    "import matplotlib.pyplot as plt\n",
    "\n",
    "minutes = session_length_minutes.select(\"session_length_minutes\").to_numpy().reshape(-1)\n",
    "\n",
    "plt.figure(figsize=(10, 5))\n",
    "plt.hist(minutes, bins=700)\n",
    "plt.title(\"Session length in minutes\")\n",
    "plt.xlabel(\"minutes\")\n",
    "plt.ylabel(\"Amount of sessions\")\n",
    "plt.show()\n",
    "\n",
    "plt.figure(figsize=(10, 5))\n",
    "plt.hist(minutes, bins=700)\n",
    "plt.xlim(0, 120)\n",
    "plt.title(\"Session length in minutes. < 120 minutes\")\n",
    "plt.xlabel(\"minutes\")\n",
    "plt.ylabel(\"Amount of sessions\")\n",
    "plt.show()"
   ],
   "metadata": {
    "collapsed": false
   }
  },
  {
   "cell_type": "markdown",
   "source": [
    "The session lengths are relatively short. Median session length is 4 minutes. 75% of sessions are under 12 minutes."
   ],
   "metadata": {
    "collapsed": false
   }
  },
  {
   "cell_type": "markdown",
   "source": [
    "### Session statistics"
   ],
   "metadata": {
    "collapsed": false
   }
  },
  {
   "cell_type": "code",
   "execution_count": 84,
   "outputs": [
    {
     "name": "stdout",
     "output_type": "stream",
     "text": [
      "shape: (9, 2)\n",
      "┌────────────┬──────────────────┐\n",
      "│ statistic  ┆ time_between_sec │\n",
      "│ ---        ┆ ---              │\n",
      "│ str        ┆ f64              │\n",
      "╞════════════╪══════════════════╡\n",
      "│ count      ┆ 8.5154716e7      │\n",
      "│ null_count ┆ 0.0              │\n",
      "│ mean       ┆ 94.705712        │\n",
      "│ std        ┆ 188.930584       │\n",
      "│ min        ┆ 0.0              │\n",
      "│ 25%        ┆ 17.0             │\n",
      "│ 50%        ┆ 38.0             │\n",
      "│ 75%        ┆ 87.0             │\n",
      "│ max        ┆ 1799.0           │\n",
      "└────────────┴──────────────────┘\n"
     ]
    }
   ],
   "source": [
    "time_between_events_in_session = (\n",
    "    train_sessions\n",
    "    .sort([\"session\", \"ts\"])\n",
    "    .with_columns(\n",
    "        next_session = pl.col(\"session\").shift(-1),\n",
    "        next_ts = pl.col(\"ts\").shift(-1),\n",
    "    )\n",
    "    .with_columns(\n",
    "        time_between_sec = pl.when(pl.col(\"session\") == pl.col(\"next_session\")).then((pl.col(\"next_ts\") - pl.col(\"ts\"))).otherwise(None)\n",
    "    )\n",
    "    .select(\"time_between_sec\")\n",
    "    .drop_nulls()\n",
    "    .sort(\"time_between_sec\", descending=True)\n",
    ")\n",
    "\n",
    "print(time_between_events_in_session.describe())"
   ],
   "metadata": {
    "collapsed": false
   }
  },
  {
   "cell_type": "markdown",
   "source": [
    "Median time between events is 38 seconds. 75% of events are under 1.5 minutes apart."
   ],
   "metadata": {
    "collapsed": false
   }
  },
  {
   "cell_type": "code",
   "execution_count": 95,
   "outputs": [
    {
     "name": "stdout",
     "output_type": "stream",
     "text": [
      "Percentage of time between events under 15 minutes: 98.49%\n",
      "Percentage of time between events under 10 minutes: 97.26%\n",
      "Percentage of time between events under 5 minutes: 93.66%\n"
     ]
    }
   ],
   "source": [
    "less_than_15_mins = time_between_events_in_session.filter(pl.col(\"time_between_sec\") < 15*60).height\n",
    "total = time_between_events_in_session.height\n",
    "print(f\"Percentage of time between events under 15 minutes: {less_than_15_mins / total * 100:.2f}%\")\n",
    "\n",
    "less_than_10_mins = time_between_events_in_session.filter(pl.col(\"time_between_sec\") < 10*60).height\n",
    "print(f\"Percentage of time between events under 10 minutes: {less_than_10_mins / total * 100:.2f}%\")\n",
    "\n",
    "less_than_5_mins = time_between_events_in_session.filter(pl.col(\"time_between_sec\") < 5*60).height\n",
    "print(f\"Percentage of time between events under 5 minutes: {less_than_5_mins / total * 100:.2f}%\")"
   ],
   "metadata": {
    "collapsed": false
   }
  },
  {
   "cell_type": "markdown",
   "source": [
    "Mean event count is 7.09 where as the median event count is 4. Mean sub session length is 9.55 minutes where as the median sub session length is 4 minutes.\n",
    "Max event count is 486 and max sub session length is 11 hours and 74 minutes."
   ],
   "metadata": {
    "collapsed": false
   }
  },
  {
   "cell_type": "markdown",
   "source": [
    "### Subsequent clicks\n",
    "\n",
    "Let's see how many aids have subsequent clicks to itself."
   ],
   "metadata": {
    "collapsed": false
   }
  },
  {
   "cell_type": "code",
   "execution_count": 96,
   "outputs": [
    {
     "name": "stdout",
     "output_type": "stream",
     "text": [
      "shape: (873_369, 3)\n",
      "┌─────────┬──────────┬───────┐\n",
      "│ aid     ┆ next_aid ┆ count │\n",
      "│ ---     ┆ ---      ┆ ---   │\n",
      "│ u32     ┆ u32      ┆ u32   │\n",
      "╞═════════╪══════════╪═══════╡\n",
      "│ 485256  ┆ 485256   ┆ 32294 │\n",
      "│ 1551213 ┆ 1551213  ┆ 11523 │\n",
      "│ 1460571 ┆ 1460571  ┆ 8574  │\n",
      "│ 1603001 ┆ 1603001  ┆ 7104  │\n",
      "│ 613493  ┆ 613493   ┆ 6957  │\n",
      "│ …       ┆ …        ┆ …     │\n",
      "│ 1070788 ┆ 1070788  ┆ 1     │\n",
      "│ 1160254 ┆ 1160254  ┆ 1     │\n",
      "│ 1222921 ┆ 1222921  ┆ 1     │\n",
      "│ 984295  ┆ 984295   ┆ 1     │\n",
      "│ 139805  ┆ 139805   ┆ 1     │\n",
      "└─────────┴──────────┴───────┘\n",
      "Unique aids: 1770307\n",
      "Clicks on same aid: 873369\n",
      "Percentage of aids having subsequent clicks to itself 49.33 %\n"
     ]
    }
   ],
   "source": [
    "subsequent_clicks_count = (\n",
    "    train_sessions\n",
    "    .sort([\"session\", \"ts\"])\n",
    "    .with_columns(\n",
    "        next_aid = pl.col(\"aid\").shift(-1),\n",
    "        next_type = pl.col(\"type\").shift(-1),\n",
    "        next_session = pl.col(\"session\").shift(-1)\n",
    "    )\n",
    "    .filter((pl.col(\"session\") == pl.col(\"next_session\")) & (pl.col(\"type\") == \"clicks\") & (pl.col(\"next_type\") == \"clicks\") & (pl.col(\"aid\") == pl.col(\"next_aid\")))\n",
    "    .group_by([\"aid\", \"next_aid\"])\n",
    "    .agg(pl.len().alias(\"count\"))\n",
    "    .sort(\"count\", descending=True)\n",
    ")\n",
    "print(subsequent_clicks_count)\n",
    "\n",
    "print(f\"Unique aids: {items_count}\")\n",
    "print(f\"Clicks on same aid: {subsequent_clicks_count.height}\")\n",
    "print(f\"Percentage of aids having subsequent clicks to itself {subsequent_clicks_count.height / items_count * 100:.2f} %\")"
   ],
   "metadata": {
    "collapsed": false
   }
  },
  {
   "cell_type": "markdown",
   "source": [
    "49.33 % of aids have subsequent clicks to itself."
   ],
   "metadata": {
    "collapsed": false
   }
  },
  {
   "cell_type": "markdown",
   "source": [
    "### Carts and orders"
   ],
   "metadata": {
    "collapsed": false
   }
  },
  {
   "cell_type": "code",
   "execution_count": 98,
   "outputs": [
    {
     "name": "stdout",
     "output_type": "stream",
     "text": [
      "carted items: 8461377\n",
      "ordered items: 2374061\n",
      "cart dropout rate: 71.94 %\n"
     ]
    }
   ],
   "source": [
    "carts_of_sessions = (\n",
    "    train_sessions\n",
    "    .filter(pl.col(\"type\") == \"carts\")\n",
    "    .rename({\"aid\": \"cart_aid\", \"ts\": \"cart_ts\"})\n",
    "    .drop(\"type\")\n",
    ")\n",
    "\n",
    "orders_of_sessions = (\n",
    "    train_sessions\n",
    "    .filter(pl.col(\"type\") == \"orders\")\n",
    "    .rename({\"aid\": \"order_aid\", \"ts\": \"order_ts\"})\n",
    "    .drop(\"type\")\n",
    ")\n",
    "\n",
    "n_orders = orders_of_sessions.height\n",
    "n_carts = carts_of_sessions.height\n",
    "cart_drop_out_rate = n_orders / n_carts\n",
    "\n",
    "print(\"carted items:\", n_carts)\n",
    "print(\"ordered items:\", n_orders)\n",
    "print(f\"cart dropout rate: {(1-cart_drop_out_rate) * 100:.2f} %\")"
   ],
   "metadata": {
    "collapsed": false
   }
  },
  {
   "cell_type": "code",
   "execution_count": 99,
   "outputs": [
    {
     "name": "stdout",
     "output_type": "stream",
     "text": [
      "shape: (943_540, 4)\n",
      "┌──────────┬────────────┬─────────────┬────────────┐\n",
      "│ cart_aid ┆ cart_count ┆ order_count ┆ order_rate │\n",
      "│ ---      ┆ ---        ┆ ---         ┆ ---        │\n",
      "│ u32      ┆ u32        ┆ u32         ┆ f64        │\n",
      "╞══════════╪════════════╪═════════════╪════════════╡\n",
      "│ 494232   ┆ 1          ┆ 11          ┆ 1100.0     │\n",
      "│ 738304   ┆ 1          ┆ 6           ┆ 600.0      │\n",
      "│ 264236   ┆ 2          ┆ 9           ┆ 450.0      │\n",
      "│ 209864   ┆ 3          ┆ 12          ┆ 400.0      │\n",
      "│ 893234   ┆ 1          ┆ 4           ┆ 400.0      │\n",
      "│ …        ┆ …          ┆ …           ┆ …          │\n",
      "│ 239740   ┆ 1          ┆ 0           ┆ 0.0        │\n",
      "│ 893025   ┆ 1          ┆ 0           ┆ 0.0        │\n",
      "│ 1596150  ┆ 1          ┆ 0           ┆ 0.0        │\n",
      "│ 962488   ┆ 1          ┆ 0           ┆ 0.0        │\n",
      "│ 1033011  ┆ 1          ┆ 0           ┆ 0.0        │\n",
      "└──────────┴────────────┴─────────────┴────────────┘\n",
      "shape: (9, 4)\n",
      "┌────────────┬────────────┬─────────────┬────────────┐\n",
      "│ statistic  ┆ cart_count ┆ order_count ┆ order_rate │\n",
      "│ ---        ┆ ---        ┆ ---         ┆ ---        │\n",
      "│ str        ┆ f64        ┆ f64         ┆ f64        │\n",
      "╞════════════╪════════════╪═════════════╪════════════╡\n",
      "│ count      ┆ 943540.0   ┆ 943540.0    ┆ 943540.0   │\n",
      "│ null_count ┆ 0.0        ┆ 0.0         ┆ 0.0        │\n",
      "│ mean       ┆ 8.967693   ┆ 2.511178    ┆ 23.658044  │\n",
      "│ std        ┆ 53.37111   ┆ 13.344174   ┆ 32.360766  │\n",
      "│ min        ┆ 1.0        ┆ 0.0         ┆ 0.0        │\n",
      "│ 25%        ┆ 1.0        ┆ 0.0         ┆ 0.0        │\n",
      "│ 50%        ┆ 2.0        ┆ 0.0         ┆ 0.0        │\n",
      "│ 75%        ┆ 6.0        ┆ 2.0         ┆ 40.0       │\n",
      "│ max        ┆ 29574.0    ┆ 1649.0      ┆ 1100.0     │\n",
      "└────────────┴────────────┴─────────────┴────────────┘\n"
     ]
    }
   ],
   "source": [
    "aids_cart_count = (\n",
    "    carts_of_sessions\n",
    "    .group_by(\"cart_aid\")\n",
    "    .agg(pl.len().alias(\"cart_count\"))\n",
    "    .sort(\"cart_count\", descending=True)\n",
    ")\n",
    "\n",
    "aids_order_count = (\n",
    "    orders_of_sessions\n",
    "    .group_by(\"order_aid\")\n",
    "    .agg(pl.len().alias(\"order_count\"))\n",
    "    .sort(\"order_count\", descending=True)\n",
    ")\n",
    "\n",
    "aids_carts_and_orders_count = (\n",
    "    aids_cart_count\n",
    "    .join(aids_order_count, left_on=\"cart_aid\", right_on=\"order_aid\", how=\"left\")\n",
    "    .with_columns(pl.col(\"order_count\").fill_null(strategy=\"zero\"))\n",
    "    .with_columns(order_rate=pl.col(\"order_count\") / pl.col(\"cart_count\") * 100)\n",
    "    .sort(\"order_rate\", descending=True)\n",
    ")\n",
    "\n",
    "print(aids_carts_and_orders_count)\n",
    "print(aids_carts_and_orders_count.select([\"cart_count\", \"order_count\", \"order_rate\"]).describe())"
   ],
   "metadata": {
    "collapsed": false
   }
  },
  {
   "cell_type": "markdown",
   "source": [
    "The data contains aids that have been ordered more times than they have been carted. This is likely due to the fact that the some of the data is missing."
   ],
   "metadata": {
    "collapsed": false
   }
  },
  {
   "cell_type": "markdown",
   "source": [
    "### Clicks before order in sessions\n",
    "\n",
    "Let's see how many clicks usually happen before an order in a session."
   ],
   "metadata": {
    "collapsed": false
   }
  },
  {
   "cell_type": "code",
   "execution_count": 123,
   "outputs": [
    {
     "name": "stdout",
     "output_type": "stream",
     "text": [
      "shape: (9, 2)\n",
      "┌────────────┬────────────┐\n",
      "│ statistic  ┆ count      │\n",
      "│ ---        ┆ ---        │\n",
      "│ str        ┆ f64        │\n",
      "╞════════════╪════════════╡\n",
      "│ count      ┆ 1.144106e6 │\n",
      "│ null_count ┆ 0.0        │\n",
      "│ mean       ┆ 8.529454   │\n",
      "│ std        ┆ 11.510666  │\n",
      "│ min        ┆ 1.0        │\n",
      "│ 25%        ┆ 2.0        │\n",
      "│ 50%        ┆ 4.0        │\n",
      "│ 75%        ┆ 10.0       │\n",
      "│ max        ┆ 350.0      │\n",
      "└────────────┴────────────┘\n"
     ]
    }
   ],
   "source": [
    "sessions_with_orders = (\n",
    "    train_sessions\n",
    "    .filter(pl.col(\"type\") == \"orders\")\n",
    "    .select(\"session\")\n",
    "    .unique()\n",
    ")\n",
    "\n",
    "clicks_before_orders = (\n",
    "    train_sessions\n",
    "    .join(sessions_with_orders, on=\"session\", how=\"inner\")\n",
    "    .sort([\"session\", \"ts\"])\n",
    "    .filter(pl.col(\"type\") != \"carts\")\n",
    "    # group consecutive clicks and consecutive orders into their own groups\n",
    "    .with_columns(group=pl.struct((pl.col(\"type\") == \"orders\"), pl.col(\"session\")).rle_id().cast(pl.UInt32))\n",
    "    .group_by([\"session\", \"type\", \"group\"])\n",
    "    .agg(pl.len().alias(\"count\"))\n",
    "    .sort([\"session\", \"group\"])\n",
    "    .with_columns(\n",
    "        next_session=pl.col(\"session\").shift(-1),\n",
    "        next_type=pl.col(\"type\").shift(-1),\n",
    "        next_group=pl.col(\"group\").shift(-1),\n",
    "        # next_count=pl.col(\"count\").shift(-1)\n",
    "    )\n",
    "    .filter((pl.col(\"session\") == pl.col(\"next_session\")) & (pl.col(\"type\") == \"clicks\") & (pl.col(\"next_type\") == \"orders\"))\n",
    "    .select(\"count\")\n",
    "    .sort(\"count\")\n",
    ")\n",
    "\n",
    "print(clicks_before_orders.describe())"
   ],
   "metadata": {
    "collapsed": false
   }
  },
  {
   "cell_type": "markdown",
   "source": [
    "Median click count before order is 4 clicks. Top 75% of orders have 10 or less clicks before them."
   ],
   "metadata": {
    "collapsed": false
   }
  },
  {
   "cell_type": "code",
   "execution_count": 132,
   "outputs": [
    {
     "data": {
      "text/plain": "<Figure size 1000x500 with 1 Axes>",
      "image/png": "[encoded data removed]"
     },
     "metadata": {},
     "output_type": "display_data"
    },
    {
     "data": {
      "text/plain": "<Figure size 1000x500 with 1 Axes>",
      "image/png": "[encoded data removed]"
     },
     "metadata": {},
     "output_type": "display_data"
    }
   ],
   "source": [
    "import matplotlib.pyplot as plt\n",
    "\n",
    "clicks = clicks_before_orders.to_numpy().reshape(-1)\n",
    "\n",
    "plt.figure(figsize=(10, 5))\n",
    "plt.hist(clicks, bins=350)\n",
    "plt.title(\"Amount of clicks before order\")\n",
    "plt.xlabel(\"clicks\")\n",
    "plt.ylabel(\"count\")\n",
    "plt.show()\n",
    "\n",
    "plt.figure(figsize=(10, 5))\n",
    "plt.hist(clicks, bins=350)\n",
    "plt.xlim(0, 50)\n",
    "plt.title(\"Amount of clicks before order\")\n",
    "plt.xlabel(\"clicks\")\n",
    "plt.ylabel(\"count\")\n",
    "plt.show()"
   ],
   "metadata": {
    "collapsed": false
   }
  }
 ],
 "metadata": {
  "kernelspec": {
   "display_name": "Python 3",
   "language": "python",
   "name": "python3"
  },
  "language_info": {
   "codemirror_mode": {
    "name": "ipython",
    "version": 2
   },
   "file_extension": ".py",
   "mimetype": "text/x-python",
   "name": "python",
   "nbconvert_exporter": "python",
   "pygments_lexer": "ipython2",
   "version": "2.7.6"
  }
 },
 "nbformat": 4,
 "nbformat_minor": 0
}
