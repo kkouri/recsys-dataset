{
 "cells": [
  {
   "cell_type": "markdown",
   "source": [
    "# Exploratory Data Analysis"
   ],
   "metadata": {
    "collapsed": false
   }
  },
  {
   "cell_type": "code",
   "execution_count": 1,
   "outputs": [
    {
     "name": "stdout",
     "output_type": "stream",
     "text": [
      "shape: (5, 2)\n",
      "┌─────────┬─────────────────────────────────┐\n",
      "│ session ┆ events                          │\n",
      "│ ---     ┆ ---                             │\n",
      "│ i32     ┆ list[struct[3]]                 │\n",
      "╞═════════╪═════════════════════════════════╡\n",
      "│ 0       ┆ [{1517085,1659304800025,\"click… │\n",
      "│ 1       ┆ [{424964,1659304800025,\"carts\"… │\n",
      "│ 2       ┆ [{763743,1659304800038,\"clicks… │\n",
      "│ 3       ┆ [{1425967,1659304800095,\"carts… │\n",
      "│ 4       ┆ [{613619,1659304800119,\"clicks… │\n",
      "└─────────┴─────────────────────────────────┘\n",
      "shape: (216_716_096, 4)\n",
      "┌──────────┬─────────┬───────────────┬────────┐\n",
      "│ session  ┆ aid     ┆ ts            ┆ type   │\n",
      "│ ---      ┆ ---     ┆ ---           ┆ ---    │\n",
      "│ i32      ┆ i32     ┆ i64           ┆ str    │\n",
      "╞══════════╪═════════╪═══════════════╪════════╡\n",
      "│ 0        ┆ 1517085 ┆ 1659304800025 ┆ clicks │\n",
      "│ 0        ┆ 1563459 ┆ 1659304904511 ┆ clicks │\n",
      "│ 0        ┆ 1309446 ┆ 1659367439426 ┆ clicks │\n",
      "│ 0        ┆ 16246   ┆ 1659367719997 ┆ clicks │\n",
      "│ 0        ┆ 1781822 ┆ 1659367871344 ┆ clicks │\n",
      "│ …        ┆ …       ┆ …             ┆ …      │\n",
      "│ 12899776 ┆ 1737908 ┆ 1661723987073 ┆ clicks │\n",
      "│ 12899777 ┆ 384045  ┆ 1661723976974 ┆ clicks │\n",
      "│ 12899777 ┆ 384045  ┆ 1661723986800 ┆ clicks │\n",
      "│ 12899778 ┆ 561560  ┆ 1661723983611 ┆ clicks │\n",
      "│ 12899778 ┆ 32070   ┆ 1661723994936 ┆ clicks │\n",
      "└──────────┴─────────┴───────────────┴────────┘\n"
     ]
    }
   ],
   "source": [
    "import polars as pl\n",
    "\n",
    "# define the schema of the dataframe\n",
    "event_schema = pl.Struct({\"aid\": pl.Int32, \"ts\": pl.Int64, \"type\": str})\n",
    "df_schema = {\"session\": pl.Int32, \"events\": pl.List(event_schema)}\n",
    "\n",
    "df = pl.read_ndjson('../data/train.jsonl', schema=df_schema, low_memory=True)\n",
    "\n",
    "print(df.head())\n",
    "\n",
    "exploded_df = (\n",
    "    df\n",
    "    .explode(\"events\")\n",
    "    .unnest(\"events\")\n",
    ")\n",
    "\n",
    "print(exploded_df)"
   ],
   "metadata": {
    "collapsed": false
   }
  },
  {
   "cell_type": "markdown",
   "source": [
    "### Amount of events per session"
   ],
   "metadata": {
    "collapsed": false
   }
  },
  {
   "cell_type": "code",
   "execution_count": 2,
   "outputs": [
    {
     "name": "stdout",
     "output_type": "stream",
     "text": [
      "shape: (12_899_779, 1)\n",
      "┌──────────────────────┐\n",
      "│ session_events_count │\n",
      "│ ---                  │\n",
      "│ u32                  │\n",
      "╞══════════════════════╡\n",
      "│ 2                    │\n",
      "│ 2                    │\n",
      "│ 2                    │\n",
      "│ 2                    │\n",
      "│ 2                    │\n",
      "│ …                    │\n",
      "│ 498                  │\n",
      "│ 499                  │\n",
      "│ 499                  │\n",
      "│ 500                  │\n",
      "│ 500                  │\n",
      "└──────────────────────┘\n",
      "shape: (9, 2)\n",
      "┌────────────┬──────────────────────┐\n",
      "│ statistic  ┆ session_events_count │\n",
      "│ ---        ┆ ---                  │\n",
      "│ str        ┆ f64                  │\n",
      "╞════════════╪══════════════════════╡\n",
      "│ count      ┆ 1.2899779e7          │\n",
      "│ null_count ┆ 0.0                  │\n",
      "│ mean       ┆ 16.799985            │\n",
      "│ std        ┆ 33.57738             │\n",
      "│ min        ┆ 2.0                  │\n",
      "│ 25%        ┆ 3.0                  │\n",
      "│ 50%        ┆ 6.0                  │\n",
      "│ 75%        ┆ 15.0                 │\n",
      "│ max        ┆ 500.0                │\n",
      "└────────────┴──────────────────────┘\n"
     ]
    }
   ],
   "source": [
    "# amount of events per session\n",
    "session_events_count = (\n",
    "    df\n",
    "    .select(pl.col(\"events\"))\n",
    "    .with_columns(session_events_count = pl.col(\"events\").list.len())\n",
    "    .sort(\"session_events_count\")\n",
    "    .select(\"session_events_count\")\n",
    ")\n",
    "\n",
    "print(session_events_count)\n",
    "print(session_events_count.describe())"
   ],
   "metadata": {
    "collapsed": false
   }
  },
  {
   "cell_type": "code",
   "execution_count": 3,
   "outputs": [
    {
     "name": "stdout",
     "output_type": "stream",
     "text": [
      "Percentage of sessions with less than 100 events: 97.17%\n",
      "Percentage of sessions with less than 10 events: 63.91%\n",
      "Percentage of sessions with less than 5 events: 40.90%\n",
      "Percentage of sessions with 2 events: 19.34%\n"
     ]
    }
   ],
   "source": [
    "# Count how many percent are under 100 events\n",
    "under_100 = session_events_count.filter(pl.col(\"session_events_count\") < 100).height\n",
    "total = session_events_count.height\n",
    "print(f\"Percentage of sessions with less than 100 events: {under_100 / total * 100:.2f}%\")\n",
    "\n",
    "# Count how many percent are under 10 events\n",
    "under_10 = session_events_count.filter(pl.col(\"session_events_count\") < 10).height\n",
    "total = session_events_count.height\n",
    "print(f\"Percentage of sessions with less than 10 events: {under_10 / total * 100:.2f}%\")\n",
    "\n",
    "# Count how many percent are under 5 events\n",
    "under_5 = session_events_count.filter(pl.col(\"session_events_count\") < 5).height\n",
    "total = session_events_count.height\n",
    "print(f\"Percentage of sessions with less than 5 events: {under_5 / total * 100:.2f}%\")\n",
    "\n",
    "# Count how many percent are 2 events\n",
    "exactly_2 = session_events_count.filter(pl.col(\"session_events_count\") == 2).height\n",
    "total = session_events_count.height\n",
    "print(f\"Percentage of sessions with 2 events: {exactly_2 / total * 100:.2f}%\")"
   ],
   "metadata": {
    "collapsed": false
   }
  },
  {
   "cell_type": "code",
   "execution_count": 4,
   "outputs": [
    {
     "data": {
      "text/plain": "<Figure size 1000x500 with 1 Axes>",
      "image/png": "[encoded data removed]"
     },
     "metadata": {},
     "output_type": "display_data"
    },
    {
     "data": {
      "text/plain": "<Figure size 1000x500 with 1 Axes>",
      "image/png": "[encoded data removed]"
     },
     "metadata": {},
     "output_type": "display_data"
    }
   ],
   "source": [
    "import matplotlib.pyplot as plt\n",
    "\n",
    "\n",
    "plt.figure(figsize=(10, 5))\n",
    "plt.hist(session_events_count.to_numpy(), bins=500)\n",
    "plt.title(\"Amount of events per session\")\n",
    "plt.xlabel(\"Amount of events\")\n",
    "plt.ylabel(\"Amount of sessions\")\n",
    "plt.show()\n",
    "\n",
    "plt.figure(figsize=(10, 5))\n",
    "plt.hist(session_events_count.to_numpy(), bins=500)\n",
    "plt.xlim(0, 100)\n",
    "plt.title(\"Amount of events per session. < 100 events\")\n",
    "plt.xlabel(\"Amount of events\")\n",
    "plt.ylabel(\"Amount of sessions\")\n",
    "plt.show()"
   ],
   "metadata": {
    "collapsed": false
   }
  },
  {
   "cell_type": "markdown",
   "source": [
    "### Amount of each event type"
   ],
   "metadata": {
    "collapsed": false
   }
  },
  {
   "cell_type": "code",
   "execution_count": null,
   "outputs": [],
   "source": [
    "# count amount of each event type\n",
    "events_count = (\n",
    "    df\n",
    "    .select(pl.col(\"events\"))\n",
    "    .explode(\"events\")\n",
    "    .unnest(\"events\")\n",
    "    .select([\"type\"])\n",
    "    .rename({\"type\": \"event_type\"})\n",
    "    .group_by(\"event_type\")\n",
    "    .agg(\n",
    "        pl.count(\"event_type\")\n",
    "        .alias(\"count\")\n",
    "    )\n",
    ")\n",
    "\n",
    "print(events_count)"
   ],
   "metadata": {
    "collapsed": false,
    "pycharm": {
     "is_executing": true
    }
   }
  },
  {
   "cell_type": "code",
   "execution_count": 6,
   "outputs": [],
   "source": [
    "def add_labels(x,y):\n",
    "    for i in range(len(x)):\n",
    "        if isinstance(y[i], float):\n",
    "            plt.text(i, y[i], f\"{y[i]:.2f}\", ha = 'center')\n",
    "        else:\n",
    "            plt.text(i, y[i], y[i], ha = 'center')"
   ],
   "metadata": {
    "collapsed": false
   }
  },
  {
   "cell_type": "code",
   "execution_count": 7,
   "outputs": [
    {
     "data": {
      "text/plain": "<Figure size 1000x500 with 1 Axes>",
      "image/png": "[encoded data removed]"
     },
     "metadata": {},
     "output_type": "display_data"
    }
   ],
   "source": [
    "plt.figure(figsize=(10, 5))\n",
    "plt.bar(events_count[\"event_type\"].to_numpy(), events_count[\"count\"].to_numpy())\n",
    "add_labels(events_count[\"event_type\"].to_numpy(), events_count[\"count\"].to_numpy())\n",
    "plt.title(\"Amount of each event type\")\n",
    "plt.xlabel(\"Event type\")\n",
    "plt.ylabel(\"Amount of events\")\n",
    "plt.show()"
   ],
   "metadata": {
    "collapsed": false
   }
  },
  {
   "cell_type": "markdown",
   "source": [
    "### Amount of events per aid"
   ],
   "metadata": {
    "collapsed": false
   }
  },
  {
   "cell_type": "code",
   "execution_count": 8,
   "outputs": [
    {
     "name": "stdout",
     "output_type": "stream",
     "text": [
      "shape: (1_855_603, 2)\n",
      "┌─────────┬──────────────┐\n",
      "│ aid     ┆ events_count │\n",
      "│ ---     ┆ ---          │\n",
      "│ i32     ┆ u32          │\n",
      "╞═════════╪══════════════╡\n",
      "│ 679262  ┆ 3            │\n",
      "│ 1166769 ┆ 3            │\n",
      "│ 1726329 ┆ 3            │\n",
      "│ 1164783 ┆ 3            │\n",
      "│ 494968  ┆ 3            │\n",
      "│ …       ┆ …            │\n",
      "│ 1733943 ┆ 105091       │\n",
      "│ 29735   ┆ 113279       │\n",
      "│ 108125  ┆ 118524       │\n",
      "│ 485256  ┆ 126836       │\n",
      "│ 1460571 ┆ 129004       │\n",
      "└─────────┴──────────────┘\n",
      "shape: (9, 2)\n",
      "┌────────────┬──────────────┐\n",
      "│ statistic  ┆ events_count │\n",
      "│ ---        ┆ ---          │\n",
      "│ str        ┆ f64          │\n",
      "╞════════════╪══════════════╡\n",
      "│ count      ┆ 1.855603e6   │\n",
      "│ null_count ┆ 0.0          │\n",
      "│ mean       ┆ 116.790119   │\n",
      "│ std        ┆ 728.854992   │\n",
      "│ min        ┆ 3.0          │\n",
      "│ 25%        ┆ 9.0          │\n",
      "│ 50%        ┆ 20.0         │\n",
      "│ 75%        ┆ 56.0         │\n",
      "│ max        ┆ 129004.0     │\n",
      "└────────────┴──────────────┘\n"
     ]
    }
   ],
   "source": [
    "# count amount of events per aid\n",
    "events_per_aid = (\n",
    "    df\n",
    "    .select(pl.col(\"events\"))\n",
    "    .explode(\"events\")\n",
    "    .unnest(\"events\")\n",
    "    .select([\"aid\"])\n",
    "    .group_by(\"aid\")\n",
    "    .agg(\n",
    "        pl.count(\"aid\")\n",
    "        .alias(\"events_count\")\n",
    "    )\n",
    "    .sort(\"events_count\")\n",
    ")\n",
    "\n",
    "print(events_per_aid)\n",
    "print(events_per_aid.select(\"events_count\").describe())\n",
    "\n",
    "event_counts_distribution = (\n",
    "    events_per_aid\n",
    "    .select(\"events_count\")\n",
    "    .group_by(\"events_count\")\n",
    "    .agg(\n",
    "        pl.count(\"events_count\")\n",
    "        .alias(\"aids_count\")\n",
    "    )\n",
    "    .sort(\"events_count\")\n",
    ")"
   ],
   "metadata": {
    "collapsed": false
   }
  },
  {
   "cell_type": "code",
   "execution_count": 9,
   "outputs": [
    {
     "name": "stdout",
     "output_type": "stream",
     "text": [
      "[5.6513165801089995, 23.11065459583758, 22.358284611525203, 22.023730291447038, 10.688978191994732, 4.4035281253587115, 2.4837748160570983, 1.624323737351147, 3.6806903200738517, 2.1064311708916184, 1.8682875593540211]\n",
      "100.0\n"
     ]
    },
    {
     "data": {
      "text/plain": "<Figure size 1500x500 with 1 Axes>",
      "image/png": "[encoded data removed]"
     },
     "metadata": {},
     "output_type": "display_data"
    }
   ],
   "source": [
    "def get_percentage_under_n_events(amount_of_events):\n",
    "    percentages = []\n",
    "    labels = []\n",
    "\n",
    "    total = events_per_aid.height\n",
    "    len_events = len(amount_of_events)\n",
    "    for i in range(len_events):\n",
    "        if i == 0:\n",
    "            count = events_per_aid.filter(pl.col(\"events_count\") <= amount_of_events[i]).height\n",
    "            percentages.append(count / total * 100)\n",
    "            labels.append(f\"<= {amount_of_events[i]}\")\n",
    "            continue\n",
    "\n",
    "        n1 = amount_of_events[i-1]\n",
    "        n2 = amount_of_events[i]\n",
    "\n",
    "        count = events_per_aid.filter(pl.col(\"events_count\") > n1, pl.col(\"events_count\") <= n2).height\n",
    "        percentages.append(count / total * 100)\n",
    "        labels.append(f\"{n1} - {n2}\")\n",
    "\n",
    "        if i == len_events-1:\n",
    "            count = events_per_aid.filter(pl.col(\"events_count\") > amount_of_events[i]).height\n",
    "            percentages.append(count / total * 100)\n",
    "            labels.append(f\"> {amount_of_events[i]}\")\n",
    "            continue\n",
    "\n",
    "    return percentages, labels\n",
    "\n",
    "amount_of_events = [5, 10, 20, 50, 100, 150, 200, 250, 500, 1000]\n",
    "percentages, labels = get_percentage_under_n_events(amount_of_events)\n",
    "print(percentages)\n",
    "print(sum(percentages))\n",
    "\n",
    "plt.figure(figsize=(15, 5))\n",
    "plt.bar(labels, percentages)\n",
    "add_labels(labels, percentages)\n",
    "plt.title(\"Distribution of amount of events per aid\")\n",
    "plt.xlabel(\"Amount of events\")\n",
    "plt.ylabel(\"Percentage of aids\")\n",
    "plt.show()"
   ],
   "metadata": {
    "collapsed": false
   }
  },
  {
   "cell_type": "markdown",
   "source": [
    "The distribution of the amount of events per aid is very skewed. many aids have very few events, while a few have a lot of events."
   ],
   "metadata": {
    "collapsed": false
   }
  },
  {
   "cell_type": "markdown",
   "source": [
    "### Amount of orders per aid"
   ],
   "metadata": {
    "collapsed": false
   }
  },
  {
   "cell_type": "code",
   "execution_count": 9,
   "outputs": [
    {
     "name": "stdout",
     "output_type": "stream",
     "text": [
      "shape: (657_940, 2)\n",
      "┌─────────┬──────────────┐\n",
      "│ aid     ┆ orders_count │\n",
      "│ ---     ┆ ---          │\n",
      "│ i32     ┆ u32          │\n",
      "╞═════════╪══════════════╡\n",
      "│ 458925  ┆ 1            │\n",
      "│ 704974  ┆ 1            │\n",
      "│ 876799  ┆ 1            │\n",
      "│ 1347648 ┆ 1            │\n",
      "│ 520781  ┆ 1            │\n",
      "│ …       ┆ …            │\n",
      "│ 1022566 ┆ 2788         │\n",
      "│ 1445562 ┆ 2998         │\n",
      "│ 1733943 ┆ 3042         │\n",
      "│ 166037  ┆ 3824         │\n",
      "│ 231487  ┆ 4485         │\n",
      "└─────────┴──────────────┘\n",
      "shape: (9, 2)\n",
      "┌────────────┬──────────────┐\n",
      "│ statistic  ┆ orders_count │\n",
      "│ ---        ┆ ---          │\n",
      "│ str        ┆ f64          │\n",
      "╞════════════╪══════════════╡\n",
      "│ count      ┆ 657940.0     │\n",
      "│ null_count ┆ 0.0          │\n",
      "│ mean       ┆ 7.749872     │\n",
      "│ std        ┆ 34.841142    │\n",
      "│ min        ┆ 1.0          │\n",
      "│ 25%        ┆ 1.0          │\n",
      "│ 50%        ┆ 2.0          │\n",
      "│ 75%        ┆ 5.0          │\n",
      "│ max        ┆ 4485.0       │\n",
      "└────────────┴──────────────┘\n",
      "207354\n"
     ]
    }
   ],
   "source": [
    "# count amount of events per aid\n",
    "orders_per_aid = (\n",
    "    df\n",
    "    .select(pl.col(\"events\"))\n",
    "    .explode(\"events\")\n",
    "    .unnest(\"events\")\n",
    "    .filter(pl.col(\"type\") == \"orders\")\n",
    "    .select([\"aid\"])\n",
    "    .group_by(\"aid\")\n",
    "    .agg(\n",
    "        pl.count(\"aid\")\n",
    "        .alias(\"orders_count\")\n",
    "    )\n",
    "    .sort(\"orders_count\")\n",
    ")\n",
    "\n",
    "print(orders_per_aid)\n",
    "print(orders_per_aid.select(\"orders_count\").describe())\n",
    "\n",
    "print(orders_per_aid.filter(pl.col(\"orders_count\") >= 4).n_unique())"
   ],
   "metadata": {
    "collapsed": false
   }
  },
  {
   "cell_type": "markdown",
   "source": [
    "Median order count is 2 orders. Top 25 % of ordered items have more than 5 orders"
   ],
   "metadata": {
    "collapsed": false
   }
  },
  {
   "cell_type": "markdown",
   "source": [
    "### Amount of sessions and aids"
   ],
   "metadata": {
    "collapsed": false
   }
  },
  {
   "cell_type": "code",
   "execution_count": 29,
   "outputs": [
    {
     "name": "stdout",
     "output_type": "stream",
     "text": [
      "Amount of sessions: 12899779\n",
      "Amount of aids: 1855603\n"
     ]
    }
   ],
   "source": [
    "# Count the amount of sessions\n",
    "sessions_count = df.height\n",
    "\n",
    "print(\"Amount of sessions:\", sessions_count)\n",
    "\n",
    "# Count unique items\n",
    "items_count = (\n",
    "    df\n",
    "    .select(pl.col(\"events\"))\n",
    "    .explode(\"events\")\n",
    "    .unnest(\"events\")\n",
    "    .select(\"aid\")\n",
    "    .n_unique()\n",
    ")\n",
    "\n",
    "print(\"Amount of aids:\", items_count)"
   ],
   "metadata": {
    "collapsed": false
   }
  },
  {
   "cell_type": "markdown",
   "source": [
    "### Amount of aids with clicks, carts and orders"
   ],
   "metadata": {
    "collapsed": false
   }
  },
  {
   "cell_type": "code",
   "execution_count": 3,
   "outputs": [
    {
     "name": "stdout",
     "output_type": "stream",
     "text": [
      "Unique aids: 1855603\n",
      "Unique aids with clicks: 1855603, 100.00%\n",
      "Unique aids with carts: 1234735, 66.54%\n",
      "Unique aids with orders: 657940, 35.46%\n"
     ]
    }
   ],
   "source": [
    "aids_with_clicks = (\n",
    "    exploded_df\n",
    "    .filter(pl.col(\"type\") == \"clicks\")\n",
    "    .select(\"aid\")\n",
    "    .n_unique()\n",
    ")\n",
    "\n",
    "aids_with_carts = (\n",
    "    exploded_df\n",
    "    .filter(pl.col(\"type\") == \"carts\")\n",
    "    .select(\"aid\")\n",
    "    .n_unique()\n",
    ")\n",
    "\n",
    "aids_with_orders = (\n",
    "    exploded_df\n",
    "    .filter(pl.col(\"type\") == \"orders\")\n",
    "    .select(\"aid\")\n",
    "    .n_unique()\n",
    ")\n",
    "\n",
    "print(f\"Unique aids: {items_count}\")\n",
    "print(f\"Unique aids with clicks: {aids_with_clicks}, {aids_with_clicks / items_count * 100:.2f}%\")\n",
    "print(f\"Unique aids with carts: {aids_with_carts}, {aids_with_carts / items_count * 100:.2f}%\")\n",
    "print(f\"Unique aids with orders: {aids_with_orders}, {aids_with_orders / items_count * 100:.2f}%\")"
   ],
   "metadata": {
    "collapsed": false
   }
  },
  {
   "cell_type": "markdown",
   "source": [
    "### Session length in hours"
   ],
   "metadata": {
    "collapsed": false
   }
  },
  {
   "cell_type": "code",
   "execution_count": 28,
   "outputs": [
    {
     "name": "stdout",
     "output_type": "stream",
     "text": [
      "shape: (12_899_779, 2)\n",
      "┌────────┬──────────────────────┐\n",
      "│ index  ┆ session_length_hours │\n",
      "│ ---    ┆ ---                  │\n",
      "│ u32    ┆ f64                  │\n",
      "╞════════╪══════════════════════╡\n",
      "│ 34854  ┆ 0.0                  │\n",
      "│ 34857  ┆ 0.0                  │\n",
      "│ 50748  ┆ 0.0                  │\n",
      "│ 98119  ┆ 0.0                  │\n",
      "│ 113762 ┆ 0.0                  │\n",
      "│ …      ┆ …                    │\n",
      "│ 803    ┆ 671.98597            │\n",
      "│ 914    ┆ 671.98716            │\n",
      "│ 1527   ┆ 671.99134            │\n",
      "│ 569    ┆ 671.993459           │\n",
      "│ 37     ┆ 671.997421           │\n",
      "└────────┴──────────────────────┘\n",
      "shape: (9, 2)\n",
      "┌────────────┬──────────────────────┐\n",
      "│ statistic  ┆ session_length_hours │\n",
      "│ ---        ┆ ---                  │\n",
      "│ str        ┆ f64                  │\n",
      "╞════════════╪══════════════════════╡\n",
      "│ count      ┆ 1.2899779e7          │\n",
      "│ null_count ┆ 0.0                  │\n",
      "│ mean       ┆ 164.59407            │\n",
      "│ std        ┆ 202.485156           │\n",
      "│ min        ┆ 0.0                  │\n",
      "│ 25%        ┆ 0.1451625            │\n",
      "│ 50%        ┆ 51.560598            │\n",
      "│ 75%        ┆ 309.693424           │\n",
      "│ max        ┆ 671.997421           │\n",
      "└────────────┴──────────────────────┘\n",
      "Percentage of sessions of under 30 min: 32.63%\n",
      "Percentage of sessions of under 1 hour: 35.22%\n",
      "Percentage of sessions of under 24 hours: 45.12%\n"
     ]
    }
   ],
   "source": [
    "# session length is counted as the last_ts - first_ts\n",
    "session_length_hours = (\n",
    "    df\n",
    "    .with_row_index()\n",
    "    .select([\"index\", \"events\"])\n",
    "    .with_columns(first_event = pl.col(\"events\").list[0])\n",
    "    .unnest(\"first_event\")\n",
    "    .rename({\"ts\": \"first_ts\"})\n",
    "    .drop([\"aid\", \"type\"])\n",
    "    .with_columns(last_event = pl.col(\"events\").list[-1])\n",
    "    .unnest(\"last_event\")\n",
    "    .rename({\"ts\": \"last_ts\"})\n",
    "    .drop([\"aid\", \"type\", \"events\"])\n",
    "    .with_columns(session_length_hours = (pl.col(\"last_ts\") - pl.col(\"first_ts\")) / 3_600_000)\n",
    "    .select([\"index\", \"session_length_hours\"])\n",
    "    .sort(\"session_length_hours\")\n",
    ")\n",
    "\n",
    "print(session_length_hours)\n",
    "\n",
    "print(session_length_hours.select(\"session_length_hours\").describe())\n",
    "\n",
    "sessions_under_30_min_percentage = session_length_hours.filter(pl.col(\"session_length_hours\") < 0.5).height / session_length_hours.height * 100\n",
    "print(f\"Percentage of sessions of under 30 min: {sessions_under_30_min_percentage:.2f}%\")\n",
    "\n",
    "sessions_under_hour_percentage = session_length_hours.filter(pl.col(\"session_length_hours\") < 1).height / session_length_hours.height * 100\n",
    "print(f\"Percentage of sessions of under 1 hour: {sessions_under_hour_percentage:.2f}%\")\n",
    "\n",
    "sessions_under_24_hour_percentage = session_length_hours.filter(pl.col(\"session_length_hours\") < 24).height / session_length_hours.height * 100\n",
    "print(f\"Percentage of sessions of under 24 hours: {sessions_under_24_hour_percentage:.2f}%\")"
   ],
   "metadata": {
    "collapsed": false
   }
  },
  {
   "cell_type": "markdown",
   "source": [
    "The session lengths vary alot. Only 1/3 of sessions are short (under 30 minutes) while 55% are over a day long."
   ],
   "metadata": {
    "collapsed": false
   }
  },
  {
   "cell_type": "markdown",
   "source": [
    "### Example of a long session"
   ],
   "metadata": {
    "collapsed": false
   }
  },
  {
   "cell_type": "code",
   "execution_count": 12,
   "outputs": [
    {
     "name": "stdout",
     "output_type": "stream",
     "text": [
      "{'aid': 1639625, 'ts': 1659304800543, 'type': 'clicks'}\n",
      "{'aid': 1639625, 'ts': 1659304809946, 'type': 'clicks'}\n",
      "{'aid': 1001553, 'ts': 1659304813870, 'type': 'clicks'}\n",
      "{'aid': 509070, 'ts': 1659304818202, 'type': 'clicks'}\n",
      "{'aid': 664490, 'ts': 1659304875246, 'type': 'clicks'}\n",
      "{'aid': 959208, 'ts': 1659304889514, 'type': 'clicks'}\n",
      "{'aid': 1470083, 'ts': 1659304899657, 'type': 'carts'}\n",
      "{'aid': 311240, 'ts': 1659304911205, 'type': 'clicks'}\n",
      "{'aid': 133198, 'ts': 1659304919343, 'type': 'clicks'}\n",
      "{'aid': 350915, 'ts': 1659304929661, 'type': 'clicks'}\n",
      "{'aid': 1660020, 'ts': 1659305025161, 'type': 'orders'}\n",
      "{'aid': 934266, 'ts': 1659305025161, 'type': 'orders'}\n",
      "{'aid': 1839606, 'ts': 1659305025161, 'type': 'orders'}\n",
      "{'aid': 1470083, 'ts': 1659305025161, 'type': 'orders'}\n",
      "{'aid': 1639625, 'ts': 1659305025161, 'type': 'orders'}\n",
      "{'aid': 1097946, 'ts': 1659305025161, 'type': 'orders'}\n",
      "{'aid': 565802, 'ts': 1659305025161, 'type': 'orders'}\n",
      "{'aid': 576646, 'ts': 1659305025161, 'type': 'orders'}\n",
      "{'aid': 509070, 'ts': 1659305025161, 'type': 'orders'}\n",
      "{'aid': 1384883, 'ts': 1659305025161, 'type': 'orders'}\n",
      "{'aid': 934228, 'ts': 1659352104010, 'type': 'clicks'}\n",
      "{'aid': 934228, 'ts': 1659352134159, 'type': 'clicks'}\n",
      "{'aid': 931494, 'ts': 1659352148073, 'type': 'clicks'}\n",
      "{'aid': 409620, 'ts': 1659418002493, 'type': 'clicks'}\n",
      "{'aid': 464792, 'ts': 1659577119029, 'type': 'clicks'}\n",
      "{'aid': 973712, 'ts': 1659577151403, 'type': 'clicks'}\n",
      "{'aid': 1499229, 'ts': 1659577161227, 'type': 'clicks'}\n",
      "{'aid': 973712, 'ts': 1659577168616, 'type': 'clicks'}\n",
      "{'aid': 1499229, 'ts': 1659577172113, 'type': 'clicks'}\n",
      "{'aid': 973712, 'ts': 1659577174450, 'type': 'clicks'}\n",
      "{'aid': 464792, 'ts': 1659577176040, 'type': 'clicks'}\n",
      "{'aid': 1808913, 'ts': 1659577345934, 'type': 'clicks'}\n",
      "{'aid': 464792, 'ts': 1659577362062, 'type': 'clicks'}\n",
      "{'aid': 282621, 'ts': 1659577391504, 'type': 'clicks'}\n",
      "{'aid': 282621, 'ts': 1659577428047, 'type': 'clicks'}\n",
      "{'aid': 409620, 'ts': 1659611170856, 'type': 'clicks'}\n",
      "{'aid': 409620, 'ts': 1659611175785, 'type': 'carts'}\n",
      "{'aid': 409620, 'ts': 1659611181077, 'type': 'carts'}\n",
      "{'aid': 1347178, 'ts': 1659611188509, 'type': 'clicks'}\n",
      "{'aid': 131530, 'ts': 1659611204527, 'type': 'clicks'}\n",
      "{'aid': 1438538, 'ts': 1659611220688, 'type': 'clicks'}\n",
      "{'aid': 1438538, 'ts': 1659611226828, 'type': 'carts'}\n",
      "{'aid': 409620, 'ts': 1659611272352, 'type': 'clicks'}\n",
      "{'aid': 1681373, 'ts': 1659611301083, 'type': 'clicks'}\n",
      "{'aid': 19703, 'ts': 1659611315082, 'type': 'clicks'}\n",
      "{'aid': 988899, 'ts': 1659611322777, 'type': 'clicks'}\n",
      "{'aid': 1438538, 'ts': 1659611350234, 'type': 'orders'}\n",
      "{'aid': 409620, 'ts': 1659611350234, 'type': 'orders'}\n",
      "{'aid': 409620, 'ts': 1659611350234, 'type': 'orders'}\n",
      "{'aid': 348965, 'ts': 1659646658352, 'type': 'clicks'}\n",
      "{'aid': 282621, 'ts': 1659646868031, 'type': 'clicks'}\n",
      "{'aid': 282621, 'ts': 1659647102523, 'type': 'carts'}\n",
      "{'aid': 973712, 'ts': 1659647113301, 'type': 'clicks'}\n",
      "{'aid': 282621, 'ts': 1659647153234, 'type': 'orders'}\n",
      "{'aid': 1097946, 'ts': 1659729072437, 'type': 'clicks'}\n",
      "{'aid': 509070, 'ts': 1659729102505, 'type': 'clicks'}\n",
      "{'aid': 576646, 'ts': 1659729128713, 'type': 'clicks'}\n",
      "{'aid': 576646, 'ts': 1659729185096, 'type': 'clicks'}\n",
      "{'aid': 934266, 'ts': 1659729237107, 'type': 'clicks'}\n",
      "{'aid': 576646, 'ts': 1659729258418, 'type': 'clicks'}\n",
      "{'aid': 1097946, 'ts': 1659729281140, 'type': 'clicks'}\n",
      "{'aid': 565802, 'ts': 1659729336463, 'type': 'clicks'}\n",
      "{'aid': 576646, 'ts': 1659729438667, 'type': 'clicks'}\n",
      "{'aid': 342019, 'ts': 1659882406772, 'type': 'clicks'}\n",
      "{'aid': 342019, 'ts': 1659882422623, 'type': 'carts'}\n",
      "{'aid': 1317735, 'ts': 1659963468927, 'type': 'clicks'}\n",
      "{'aid': 1317735, 'ts': 1659963475210, 'type': 'carts'}\n",
      "{'aid': 501852, 'ts': 1659963479426, 'type': 'clicks'}\n",
      "{'aid': 1317735, 'ts': 1659963483204, 'type': 'clicks'}\n",
      "{'aid': 234241, 'ts': 1659963493372, 'type': 'clicks'}\n",
      "{'aid': 234241, 'ts': 1659963495573, 'type': 'carts'}\n",
      "{'aid': 282621, 'ts': 1659965366776, 'type': 'clicks'}\n",
      "{'aid': 1823767, 'ts': 1659965471117, 'type': 'clicks'}\n",
      "{'aid': 335603, 'ts': 1659965485676, 'type': 'clicks'}\n",
      "{'aid': 335603, 'ts': 1659965564505, 'type': 'clicks'}\n",
      "{'aid': 1273184, 'ts': 1659965571359, 'type': 'clicks'}\n",
      "{'aid': 1115681, 'ts': 1660058766401, 'type': 'clicks'}\n",
      "{'aid': 409620, 'ts': 1660403272860, 'type': 'clicks'}\n",
      "{'aid': 1384883, 'ts': 1660403350580, 'type': 'clicks'}\n",
      "{'aid': 714646, 'ts': 1660674406410, 'type': 'clicks'}\n",
      "{'aid': 1115681, 'ts': 1660674416640, 'type': 'clicks'}\n",
      "{'aid': 717799, 'ts': 1660674439575, 'type': 'clicks'}\n",
      "{'aid': 717799, 'ts': 1660674443307, 'type': 'clicks'}\n",
      "{'aid': 1331005, 'ts': 1660674470996, 'type': 'clicks'}\n",
      "{'aid': 972030, 'ts': 1661012538956, 'type': 'clicks'}\n",
      "{'aid': 972030, 'ts': 1661012580770, 'type': 'clicks'}\n",
      "{'aid': 759787, 'ts': 1661012678050, 'type': 'clicks'}\n",
      "{'aid': 1658239, 'ts': 1661021686230, 'type': 'clicks'}\n",
      "{'aid': 1658239, 'ts': 1661021705773, 'type': 'carts'}\n",
      "{'aid': 673407, 'ts': 1661021718520, 'type': 'clicks'}\n",
      "{'aid': 113969, 'ts': 1661021740686, 'type': 'clicks'}\n",
      "{'aid': 8752, 'ts': 1661028927685, 'type': 'clicks'}\n",
      "{'aid': 8752, 'ts': 1661028951139, 'type': 'clicks'}\n",
      "{'aid': 432709, 'ts': 1661028981275, 'type': 'clicks'}\n",
      "{'aid': 8752, 'ts': 1661029038960, 'type': 'clicks'}\n",
      "{'aid': 432709, 'ts': 1661029041575, 'type': 'clicks'}\n",
      "{'aid': 8752, 'ts': 1661029043383, 'type': 'clicks'}\n",
      "{'aid': 8752, 'ts': 1661029057900, 'type': 'clicks'}\n",
      "{'aid': 1547020, 'ts': 1661029071671, 'type': 'clicks'}\n",
      "{'aid': 8752, 'ts': 1661029077180, 'type': 'clicks'}\n",
      "{'aid': 8752, 'ts': 1661029086445, 'type': 'clicks'}\n",
      "{'aid': 1093764, 'ts': 1661029104096, 'type': 'clicks'}\n",
      "{'aid': 246174, 'ts': 1661029160036, 'type': 'clicks'}\n",
      "{'aid': 1093764, 'ts': 1661029258814, 'type': 'clicks'}\n",
      "{'aid': 246174, 'ts': 1661029263785, 'type': 'clicks'}\n",
      "{'aid': 1093764, 'ts': 1661029284435, 'type': 'clicks'}\n",
      "{'aid': 246174, 'ts': 1661029343506, 'type': 'clicks'}\n",
      "{'aid': 1778917, 'ts': 1661029365886, 'type': 'clicks'}\n",
      "{'aid': 246174, 'ts': 1661029379128, 'type': 'clicks'}\n",
      "{'aid': 705131, 'ts': 1661029387608, 'type': 'clicks'}\n",
      "{'aid': 246174, 'ts': 1661029414043, 'type': 'clicks'}\n",
      "{'aid': 1093764, 'ts': 1661029471587, 'type': 'clicks'}\n",
      "{'aid': 1159768, 'ts': 1661029487056, 'type': 'clicks'}\n",
      "{'aid': 364190, 'ts': 1661085550103, 'type': 'clicks'}\n",
      "{'aid': 695079, 'ts': 1661086031556, 'type': 'clicks'}\n",
      "{'aid': 695079, 'ts': 1661086084043, 'type': 'clicks'}\n",
      "{'aid': 695079, 'ts': 1661086107063, 'type': 'clicks'}\n",
      "{'aid': 695079, 'ts': 1661086109809, 'type': 'carts'}\n",
      "{'aid': 282621, 'ts': 1661169859836, 'type': 'clicks'}\n",
      "{'aid': 1018338, 'ts': 1661247101101, 'type': 'clicks'}\n",
      "{'aid': 210222, 'ts': 1661247182668, 'type': 'clicks'}\n",
      "{'aid': 282621, 'ts': 1661284302891, 'type': 'clicks'}\n",
      "{'aid': 1189743, 'ts': 1661364926194, 'type': 'clicks'}\n",
      "{'aid': 662823, 'ts': 1661364999314, 'type': 'clicks'}\n",
      "{'aid': 1189743, 'ts': 1661365040820, 'type': 'carts'}\n",
      "{'aid': 1189743, 'ts': 1661365082159, 'type': 'clicks'}\n",
      "{'aid': 1070336, 'ts': 1661365145774, 'type': 'clicks'}\n",
      "{'aid': 1818100, 'ts': 1661365184931, 'type': 'clicks'}\n",
      "{'aid': 820382, 'ts': 1661365215361, 'type': 'clicks'}\n",
      "{'aid': 1439597, 'ts': 1661365249843, 'type': 'clicks'}\n",
      "{'aid': 712940, 'ts': 1661365308563, 'type': 'clicks'}\n",
      "{'aid': 578887, 'ts': 1661365319560, 'type': 'clicks'}\n",
      "{'aid': 874874, 'ts': 1661365334306, 'type': 'clicks'}\n",
      "{'aid': 1094845, 'ts': 1661365381428, 'type': 'clicks'}\n",
      "{'aid': 1368413, 'ts': 1661365396800, 'type': 'clicks'}\n",
      "{'aid': 1368413, 'ts': 1661365413071, 'type': 'carts'}\n",
      "{'aid': 830181, 'ts': 1661365424929, 'type': 'clicks'}\n",
      "{'aid': 1439597, 'ts': 1661365470086, 'type': 'clicks'}\n",
      "{'aid': 1439597, 'ts': 1661365487132, 'type': 'carts'}\n",
      "{'aid': 881903, 'ts': 1661365522406, 'type': 'clicks'}\n",
      "{'aid': 1818100, 'ts': 1661365546776, 'type': 'clicks'}\n",
      "{'aid': 311678, 'ts': 1661365578939, 'type': 'clicks'}\n",
      "{'aid': 1434837, 'ts': 1661365641191, 'type': 'clicks'}\n",
      "{'aid': 1414236, 'ts': 1661365669607, 'type': 'clicks'}\n",
      "{'aid': 944024, 'ts': 1661365704299, 'type': 'clicks'}\n",
      "{'aid': 1368413, 'ts': 1661365712667, 'type': 'clicks'}\n",
      "{'aid': 1368413, 'ts': 1661365726232, 'type': 'carts'}\n",
      "{'aid': 965745, 'ts': 1661365759285, 'type': 'clicks'}\n",
      "{'aid': 133799, 'ts': 1661365809746, 'type': 'clicks'}\n",
      "{'aid': 1262452, 'ts': 1661365837802, 'type': 'clicks'}\n",
      "{'aid': 1018338, 'ts': 1661365868411, 'type': 'clicks'}\n",
      "{'aid': 1018338, 'ts': 1661365887279, 'type': 'carts'}\n",
      "{'aid': 1499229, 'ts': 1661365891314, 'type': 'clicks'}\n",
      "{'aid': 1018338, 'ts': 1661365895910, 'type': 'clicks'}\n",
      "{'aid': 1018338, 'ts': 1661365924023, 'type': 'clicks'}\n",
      "{'aid': 282621, 'ts': 1661366178629, 'type': 'clicks'}\n",
      "{'aid': 1018338, 'ts': 1661366206844, 'type': 'clicks'}\n",
      "{'aid': 282621, 'ts': 1661366688696, 'type': 'clicks'}\n",
      "{'aid': 1018338, 'ts': 1661366716232, 'type': 'clicks'}\n",
      "{'aid': 1262452, 'ts': 1661366739715, 'type': 'clicks'}\n",
      "{'aid': 1018338, 'ts': 1661366745791, 'type': 'clicks'}\n",
      "{'aid': 1018338, 'ts': 1661366761140, 'type': 'clicks'}\n",
      "{'aid': 282621, 'ts': 1661366769535, 'type': 'clicks'}\n",
      "{'aid': 1018338, 'ts': 1661366791913, 'type': 'clicks'}\n",
      "{'aid': 544304, 'ts': 1661367043042, 'type': 'clicks'}\n",
      "{'aid': 151775, 'ts': 1661367055847, 'type': 'clicks'}\n",
      "{'aid': 544304, 'ts': 1661367140212, 'type': 'clicks'}\n",
      "{'aid': 1256073, 'ts': 1661369975316, 'type': 'clicks'}\n",
      "{'aid': 1256073, 'ts': 1661370065542, 'type': 'clicks'}\n",
      "{'aid': 1018338, 'ts': 1661370255356, 'type': 'orders'}\n",
      "{'aid': 1018338, 'ts': 1661370292295, 'type': 'clicks'}\n",
      "{'aid': 1018338, 'ts': 1661370295333, 'type': 'carts'}\n",
      "{'aid': 1018338, 'ts': 1661370377157, 'type': 'clicks'}\n",
      "{'aid': 1304792, 'ts': 1661371059091, 'type': 'clicks'}\n",
      "{'aid': 1304792, 'ts': 1661371078570, 'type': 'carts'}\n",
      "{'aid': 1304792, 'ts': 1661371103090, 'type': 'clicks'}\n",
      "{'aid': 1310373, 'ts': 1661371202481, 'type': 'clicks'}\n",
      "{'aid': 1310373, 'ts': 1661371242860, 'type': 'carts'}\n",
      "{'aid': 1170776, 'ts': 1661371258917, 'type': 'clicks'}\n",
      "{'aid': 1170776, 'ts': 1661371284444, 'type': 'carts'}\n",
      "{'aid': 1006218, 'ts': 1661371314920, 'type': 'clicks'}\n",
      "{'aid': 1006218, 'ts': 1661371336954, 'type': 'carts'}\n",
      "{'aid': 1006218, 'ts': 1661371378600, 'type': 'clicks'}\n",
      "{'aid': 1018338, 'ts': 1661371585261, 'type': 'clicks'}\n",
      "{'aid': 1634381, 'ts': 1661375610136, 'type': 'clicks'}\n",
      "{'aid': 1108203, 'ts': 1661375656264, 'type': 'clicks'}\n",
      "{'aid': 291551, 'ts': 1661375688496, 'type': 'clicks'}\n",
      "{'aid': 210895, 'ts': 1661375700831, 'type': 'clicks'}\n",
      "{'aid': 1227265, 'ts': 1661375755393, 'type': 'clicks'}\n",
      "{'aid': 874051, 'ts': 1661375768980, 'type': 'clicks'}\n",
      "{'aid': 874051, 'ts': 1661375801231, 'type': 'clicks'}\n",
      "{'aid': 874051, 'ts': 1661375804901, 'type': 'carts'}\n",
      "{'aid': 1546270, 'ts': 1661375827347, 'type': 'clicks'}\n",
      "{'aid': 1546270, 'ts': 1661375844477, 'type': 'clicks'}\n",
      "{'aid': 1546270, 'ts': 1661375849467, 'type': 'carts'}\n",
      "{'aid': 121128, 'ts': 1661375859165, 'type': 'clicks'}\n",
      "{'aid': 151238, 'ts': 1661375882989, 'type': 'clicks'}\n",
      "{'aid': 500546, 'ts': 1661376031399, 'type': 'clicks'}\n",
      "{'aid': 500546, 'ts': 1661376041622, 'type': 'carts'}\n",
      "{'aid': 1546270, 'ts': 1661376098376, 'type': 'clicks'}\n",
      "{'aid': 500546, 'ts': 1661376155575, 'type': 'clicks'}\n",
      "{'aid': 874051, 'ts': 1661376205574, 'type': 'clicks'}\n",
      "{'aid': 500546, 'ts': 1661376261642, 'type': 'clicks'}\n",
      "{'aid': 1059420, 'ts': 1661376395017, 'type': 'clicks'}\n",
      "{'aid': 1305867, 'ts': 1661376413674, 'type': 'clicks'}\n",
      "{'aid': 843632, 'ts': 1661376446570, 'type': 'clicks'}\n",
      "{'aid': 843632, 'ts': 1661376459111, 'type': 'carts'}\n",
      "{'aid': 1305867, 'ts': 1661376471833, 'type': 'clicks'}\n",
      "{'aid': 1018338, 'ts': 1661428522318, 'type': 'clicks'}\n",
      "{'aid': 759787, 'ts': 1661456192743, 'type': 'clicks'}\n",
      "{'aid': 759787, 'ts': 1661456206102, 'type': 'carts'}\n",
      "{'aid': 759787, 'ts': 1661456409538, 'type': 'clicks'}\n",
      "{'aid': 1018338, 'ts': 1661667850420, 'type': 'carts'}\n",
      "{'aid': 342019, 'ts': 1661690023780, 'type': 'clicks'}\n",
      "{'aid': 6851, 'ts': 1661690092409, 'type': 'clicks'}\n",
      "{'aid': 1065670, 'ts': 1661690129050, 'type': 'clicks'}\n",
      "{'aid': 1065670, 'ts': 1661690143608, 'type': 'carts'}\n",
      "{'aid': 1308997, 'ts': 1661690151375, 'type': 'clicks'}\n",
      "{'aid': 664851, 'ts': 1661690172283, 'type': 'clicks'}\n",
      "{'aid': 1751274, 'ts': 1661696797766, 'type': 'clicks'}\n",
      "{'aid': 1676414, 'ts': 1661696864358, 'type': 'clicks'}\n",
      "{'aid': 1751274, 'ts': 1661696867301, 'type': 'clicks'}\n",
      "{'aid': 1751274, 'ts': 1661696905561, 'type': 'carts'}\n",
      "{'aid': 1108585, 'ts': 1661721374158, 'type': 'clicks'}\n",
      "{'aid': 1018338, 'ts': 1661721463809, 'type': 'clicks'}\n",
      "{'aid': 1018338, 'ts': 1661721515332, 'type': 'clicks'}\n",
      "{'aid': 719044, 'ts': 1661721528169, 'type': 'clicks'}\n",
      "{'aid': 1018338, 'ts': 1661721532725, 'type': 'clicks'}\n",
      "{'aid': 719044, 'ts': 1661721546732, 'type': 'clicks'}\n",
      "{'aid': 1018338, 'ts': 1661721549510, 'type': 'clicks'}\n",
      "{'aid': 1262452, 'ts': 1661721561862, 'type': 'clicks'}\n",
      "{'aid': 1018338, 'ts': 1661721588668, 'type': 'clicks'}\n",
      "{'aid': 1262452, 'ts': 1661721590874, 'type': 'clicks'}\n",
      "{'aid': 1018338, 'ts': 1661721600206, 'type': 'clicks'}\n",
      "{'aid': 1499229, 'ts': 1661721605195, 'type': 'clicks'}\n",
      "{'aid': 1018338, 'ts': 1661721607191, 'type': 'clicks'}\n",
      "{'aid': 133799, 'ts': 1661721611336, 'type': 'clicks'}\n",
      "{'aid': 1018338, 'ts': 1661721638345, 'type': 'clicks'}\n",
      "{'aid': 993988, 'ts': 1661721649612, 'type': 'clicks'}\n",
      "{'aid': 1018338, 'ts': 1661721662074, 'type': 'clicks'}\n",
      "{'aid': 993988, 'ts': 1661721677565, 'type': 'clicks'}\n",
      "{'aid': 1262452, 'ts': 1661721681246, 'type': 'clicks'}\n",
      "{'aid': 993988, 'ts': 1661721693163, 'type': 'clicks'}\n",
      "{'aid': 133799, 'ts': 1661721696279, 'type': 'clicks'}\n",
      "{'aid': 993988, 'ts': 1661721702621, 'type': 'clicks'}\n",
      "{'aid': 1018338, 'ts': 1661721757394, 'type': 'clicks'}\n",
      "{'aid': 1389532, 'ts': 1661722560952, 'type': 'clicks'}\n",
      "{'aid': 1018338, 'ts': 1661722577887, 'type': 'clicks'}\n",
      "{'aid': 1018338, 'ts': 1661723059495, 'type': 'clicks'}\n",
      "{'aid': 719044, 'ts': 1661723631980, 'type': 'clicks'}\n",
      "{'aid': 1018338, 'ts': 1661723635420, 'type': 'clicks'}\n",
      "{'aid': 210222, 'ts': 1661723641014, 'type': 'clicks'}\n",
      "{'aid': 1018338, 'ts': 1661723646127, 'type': 'clicks'}\n",
      "{'aid': 1306496, 'ts': 1661723652280, 'type': 'clicks'}\n",
      "{'aid': 1018338, 'ts': 1661723655097, 'type': 'clicks'}\n",
      "{'aid': 1306496, 'ts': 1661723661100, 'type': 'clicks'}\n",
      "{'aid': 1156672, 'ts': 1661723674120, 'type': 'clicks'}\n",
      "{'aid': 1306496, 'ts': 1661723688271, 'type': 'clicks'}\n",
      "{'aid': 1145952, 'ts': 1661723696021, 'type': 'clicks'}\n",
      "{'aid': 1306496, 'ts': 1661723698880, 'type': 'clicks'}\n",
      "{'aid': 719044, 'ts': 1661723701903, 'type': 'clicks'}\n",
      "{'aid': 1306496, 'ts': 1661723724602, 'type': 'clicks'}\n",
      "{'aid': 993988, 'ts': 1661723782731, 'type': 'clicks'}\n",
      "{'aid': 993988, 'ts': 1661723815858, 'type': 'carts'}\n",
      "{'aid': 1608559, 'ts': 1661723836151, 'type': 'clicks'}\n",
      "{'aid': 981716, 'ts': 1661723880565, 'type': 'clicks'}\n",
      "{'aid': 1018338, 'ts': 1661723991257, 'type': 'clicks'}\n"
     ]
    }
   ],
   "source": [
    "# Example of long session with many events and multiple orders\n",
    "events = df.row(37)[1]\n",
    "for event in events:\n",
    "    print(event)"
   ],
   "metadata": {
    "collapsed": false
   }
  },
  {
   "cell_type": "markdown",
   "source": [
    "### Session statistics"
   ],
   "metadata": {
    "collapsed": false
   }
  },
  {
   "cell_type": "code",
   "execution_count": 27,
   "outputs": [
    {
     "name": "stdout",
     "output_type": "stream",
     "text": [
      "shape: (9, 2)\n",
      "┌────────────┬──────────────────┐\n",
      "│ statistic  ┆ time_between_sec │\n",
      "│ ---        ┆ ---              │\n",
      "│ str        ┆ f64              │\n",
      "╞════════════╪══════════════════╡\n",
      "│ count      ┆ 2.03816317e8     │\n",
      "│ null_count ┆ 0.0              │\n",
      "│ mean       ┆ 37502.481534     │\n",
      "│ std        ┆ 161190.750556    │\n",
      "│ min        ┆ 0.0              │\n",
      "│ 25%        ┆ 20.0             │\n",
      "│ 50%        ┆ 50.0             │\n",
      "│ 75%        ┆ 193.0            │\n",
      "│ max        ┆ 2.418406e6       │\n",
      "└────────────┴──────────────────┘\n"
     ]
    }
   ],
   "source": [
    "time_between_events_in_session = (\n",
    "    exploded_df\n",
    "    # Convert ts to seconds and cast to UInt32 to save memory\n",
    "    .with_columns((pl.col(\"ts\")//1000).cast(pl.UInt32))\n",
    "    .sort([\"session\", \"ts\"])\n",
    "    .with_columns(\n",
    "        next_session = pl.col(\"session\").shift(-1),\n",
    "        next_ts = pl.col(\"ts\").shift(-1),\n",
    "    )\n",
    "    .with_columns(\n",
    "        time_between_sec = pl.when(pl.col(\"session\") == pl.col(\"next_session\")).then((pl.col(\"next_ts\") - pl.col(\"ts\"))).otherwise(None)\n",
    "    )\n",
    "    .select(\"time_between_sec\")\n",
    "    .drop_nulls()\n",
    "    .sort(\"time_between_sec\", descending=True)\n",
    ")\n",
    "\n",
    "print(time_between_events_in_session.describe())"
   ],
   "metadata": {
    "collapsed": false
   }
  },
  {
   "cell_type": "markdown",
   "source": [
    "Median time between events is 50 seconds. 75% of events are under 3.22 minutes apart."
   ],
   "metadata": {
    "collapsed": false
   }
  },
  {
   "cell_type": "code",
   "execution_count": 24,
   "outputs": [
    {
     "name": "stdout",
     "output_type": "stream",
     "text": [
      "Percentage of time between events under 30 minutes: 84.79%\n"
     ]
    }
   ],
   "source": [
    "less_than_30_mins = time_between_events_in_session.filter(pl.col(\"time_between_sec\") < 1800).height\n",
    "total = time_between_events_in_session.height\n",
    "print(f\"Percentage of time between events under 30 minutes: {less_than_30_mins / total * 100:.2f}%\")"
   ],
   "metadata": {
    "collapsed": false
   }
  },
  {
   "cell_type": "markdown",
   "source": [
    "84.79% of events are under 30 minutes apart."
   ],
   "metadata": {
    "collapsed": false
   }
  },
  {
   "cell_type": "markdown",
   "source": [
    "### Split sessions into sub sessions"
   ],
   "metadata": {
    "collapsed": false
   }
  },
  {
   "cell_type": "code",
   "execution_count": 4,
   "outputs": [
    {
     "name": "stdout",
     "output_type": "stream",
     "text": [
      "shape: (170_654_920, 9)\n",
      "┌──────────┬─────────┬────────────┬────────┬───┬──────────┬────────────┬───────────┬─────────────┐\n",
      "│ session  ┆ aid     ┆ ts         ┆ type   ┆ … ┆ next_aid ┆ next_ts    ┆ next_type ┆ sub_session │\n",
      "│ ---      ┆ ---     ┆ ---        ┆ ---    ┆   ┆ ---      ┆ ---        ┆ ---       ┆ ---         │\n",
      "│ i32      ┆ i32     ┆ u32        ┆ str    ┆   ┆ i32      ┆ u32        ┆ str       ┆ u32         │\n",
      "╞══════════╪═════════╪════════════╪════════╪═══╪══════════╪════════════╪═══════════╪═════════════╡\n",
      "│ 0        ┆ 1517085 ┆ 1659304800 ┆ clicks ┆ … ┆ 1563459  ┆ 1659304904 ┆ clicks    ┆ 0           │\n",
      "│ 0        ┆ 1309446 ┆ 1659367439 ┆ clicks ┆ … ┆ 16246    ┆ 1659367719 ┆ clicks    ┆ 1           │\n",
      "│ 0        ┆ 16246   ┆ 1659367719 ┆ clicks ┆ … ┆ 1781822  ┆ 1659367871 ┆ clicks    ┆ 1           │\n",
      "│ 0        ┆ 1781822 ┆ 1659367871 ┆ clicks ┆ … ┆ 1152674  ┆ 1659367885 ┆ clicks    ┆ 1           │\n",
      "│ 0        ┆ 1649869 ┆ 1659369893 ┆ carts  ┆ … ┆ 461689   ┆ 1659369898 ┆ carts     ┆ 2           │\n",
      "│ …        ┆ …       ┆ …          ┆ …      ┆ … ┆ …        ┆ …          ┆ …         ┆ …           │\n",
      "│ 12899774 ┆ 33035   ┆ 1661723968 ┆ clicks ┆ … ┆ 1399483  ┆ 1661723976 ┆ clicks    ┆ 46061171    │\n",
      "│ 12899775 ┆ 1743151 ┆ 1661723970 ┆ clicks ┆ … ┆ 1760714  ┆ 1661723990 ┆ clicks    ┆ 46061172    │\n",
      "│ 12899776 ┆ 548599  ┆ 1661723972 ┆ clicks ┆ … ┆ 1737908  ┆ 1661723987 ┆ clicks    ┆ 46061173    │\n",
      "│ 12899777 ┆ 384045  ┆ 1661723976 ┆ clicks ┆ … ┆ 384045   ┆ 1661723986 ┆ clicks    ┆ 46061174    │\n",
      "│ 12899778 ┆ 561560  ┆ 1661723983 ┆ clicks ┆ … ┆ 32070    ┆ 1661723994 ┆ clicks    ┆ 46061175    │\n",
      "└──────────┴─────────┴────────────┴────────┴───┴──────────┴────────────┴───────────┴─────────────┘\n",
      "shape: (28_018_710, 2)\n",
      "┌─────────────┬────────────┐\n",
      "│ sub_session ┆ n_sessions │\n",
      "│ ---         ┆ ---        │\n",
      "│ u32         ┆ u32        │\n",
      "╞═════════════╪════════════╡\n",
      "│ 32394440    ┆ 1          │\n",
      "│ 34051047    ┆ 1          │\n",
      "│ 11628516    ┆ 1          │\n",
      "│ 19324608    ┆ 1          │\n",
      "│ 37121600    ┆ 1          │\n",
      "│ …           ┆ …          │\n",
      "│ 2594053     ┆ 1          │\n",
      "│ 6954417     ┆ 1          │\n",
      "│ 39566208    ┆ 1          │\n",
      "│ 33078644    ┆ 1          │\n",
      "│ 8658205     ┆ 1          │\n",
      "└─────────────┴────────────┘\n",
      "Amount of sub sessions: 28018710\n"
     ]
    }
   ],
   "source": [
    "sub_sessions = (\n",
    "    exploded_df\n",
    "    # Convert ts to seconds and cast to UInt32 to save memory\n",
    "    .with_columns((pl.col(\"ts\")//1000).cast(pl.UInt32))\n",
    "    .sort([\"session\", \"ts\"])\n",
    "    .with_columns(\n",
    "        next_session = pl.col(\"session\").shift(-1),\n",
    "        next_aid = pl.col(\"aid\").shift(-1),\n",
    "        next_ts = pl.col(\"ts\").shift(-1),\n",
    "        next_type = pl.col(\"type\").shift(-1),\n",
    "    )\n",
    "    # Row is a sub session boundary if there is existing session boundary or if time between events is more than 30 minutes\n",
    "    .with_columns(\n",
    "        is_session_boundary = ((pl.col(\"session\") != pl.col(\"next_session\")) | (pl.col(\"next_ts\") - pl.col(\"ts\") > 1800)),\n",
    "    )\n",
    "    .with_columns(\n",
    "        sub_session = pl.col(\"is_session_boundary\").cum_sum().cast(pl.UInt32),\n",
    "    )\n",
    "    # Filter out session boundaries. This also removes sub sessions with only 1 event which are not interesting\n",
    "    .filter(pl.col(\"is_session_boundary\").not_())\n",
    "    .drop(\"is_session_boundary\")\n",
    ")\n",
    "\n",
    "print(sub_sessions)\n",
    "\n",
    "# Check that all the sub sessions are part of only one original session\n",
    "sub_session_parent_count = (\n",
    "    sub_sessions\n",
    "    .group_by(\"sub_session\")\n",
    "    .agg(pl.col(\"session\").n_unique().alias(\"n_sessions\"))\n",
    "    .sort(\"n_sessions\", descending=True)\n",
    ")\n",
    "print(sub_session_parent_count)\n",
    "\n",
    "print(\"Amount of sub sessions:\", sub_sessions.select(\"sub_session\").n_unique())"
   ],
   "metadata": {
    "collapsed": false
   }
  },
  {
   "cell_type": "markdown",
   "source": [
    "### Sub sessions in session\n",
    "\n",
    "Let's see how many sessions are in a session. A session is considered a new session if the time between events is more than 30 minutes."
   ],
   "metadata": {
    "collapsed": false
   }
  },
  {
   "cell_type": "code",
   "execution_count": 5,
   "outputs": [
    {
     "name": "stdout",
     "output_type": "stream",
     "text": [
      "shape: (11_460_620, 2)\n",
      "┌──────────┬─────────────────────┐\n",
      "│ session  ┆ sessions_in_session │\n",
      "│ ---      ┆ ---                 │\n",
      "│ i32      ┆ u32                 │\n",
      "╞══════════╪═════════════════════╡\n",
      "│ 370726   ┆ 166                 │\n",
      "│ 219352   ┆ 113                 │\n",
      "│ 3043807  ┆ 110                 │\n",
      "│ 1906940  ┆ 104                 │\n",
      "│ 85846    ┆ 99                  │\n",
      "│ …        ┆ …                   │\n",
      "│ 3847967  ┆ 1                   │\n",
      "│ 6003174  ┆ 1                   │\n",
      "│ 11847653 ┆ 1                   │\n",
      "│ 890417   ┆ 1                   │\n",
      "│ 3925561  ┆ 1                   │\n",
      "└──────────┴─────────────────────┘\n"
     ]
    }
   ],
   "source": [
    "sessions_in_session = (\n",
    "    sub_sessions\n",
    "    .group_by(\"session\")\n",
    "    .agg(pl.col(\"sub_session\").n_unique().alias(\"sessions_in_session\"))\n",
    "    .sort(\"sessions_in_session\", descending=True)\n",
    ")\n",
    "\n",
    "print(sessions_in_session)"
   ],
   "metadata": {
    "collapsed": false
   }
  },
  {
   "cell_type": "code",
   "execution_count": 6,
   "outputs": [
    {
     "name": "stdout",
     "output_type": "stream",
     "text": [
      "Percentage of sessions with only 1 subsession: 58.87%\n",
      "Percentage of sessions with 1 or 2 subsessions: 76.17%\n",
      "Percentage of sessions with less than 5 subsessions: 88.49%\n"
     ]
    }
   ],
   "source": [
    "# percentage of sessions with only 1 session\n",
    "sessions_with_only_1_session = sessions_in_session.filter(pl.col(\"sessions_in_session\") == 1).height\n",
    "total = sessions_in_session.height\n",
    "print(f\"Percentage of sessions with only 1 subsession: {sessions_with_only_1_session / total * 100:.2f}%\")\n",
    "\n",
    "# percentage of sessions with 1 or 2 sessions\n",
    "sessions_with_1_or_2_sessions = sessions_in_session.filter(pl.col(\"sessions_in_session\") <= 2).height\n",
    "total = sessions_in_session.height\n",
    "print(f\"Percentage of sessions with 1 or 2 subsessions: {sessions_with_1_or_2_sessions / total * 100:.2f}%\")\n",
    "\n",
    "# percentage of sessions with less than 5 sessions\n",
    "sessions_with_less_than_5_sessions = sessions_in_session.filter(pl.col(\"sessions_in_session\") < 5).height\n",
    "total = sessions_in_session.height\n",
    "print(f\"Percentage of sessions with less than 5 subsessions: {sessions_with_less_than_5_sessions / total * 100:.2f}%\")"
   ],
   "metadata": {
    "collapsed": false
   }
  },
  {
   "cell_type": "markdown",
   "source": [
    "58.87% of sessions have only 1 subsession. 76.17% of sessions have 1 or 2 subsessions. 88.49% of sessions have less than 5 subsessions."
   ],
   "metadata": {
    "collapsed": false
   }
  },
  {
   "cell_type": "markdown",
   "source": [
    "### Sub session length\n",
    "Find out how long the sub sessions are\n",
    "Length in minutes is calculated as the difference between the last and first event in the sub session."
   ],
   "metadata": {
    "collapsed": false
   }
  },
  {
   "cell_type": "code",
   "execution_count": 27,
   "outputs": [
    {
     "name": "stdout",
     "output_type": "stream",
     "text": [
      "shape: (28_018_710, 3)\n",
      "┌─────────────┬──────────────┬─────────────────────────┐\n",
      "│ sub_session ┆ events_count ┆ sub_session_length_mins │\n",
      "│ ---         ┆ ---          ┆ ---                     │\n",
      "│ u32         ┆ u32          ┆ f64                     │\n",
      "╞═════════════╪══════════════╪═════════════════════════╡\n",
      "│ 28121310    ┆ 2            ┆ 0.0                     │\n",
      "│ 22236147    ┆ 2            ┆ 0.0                     │\n",
      "│ 30391035    ┆ 2            ┆ 0.0                     │\n",
      "│ 45471720    ┆ 2            ┆ 0.0                     │\n",
      "│ 19569053    ┆ 2            ┆ 0.0                     │\n",
      "│ …           ┆ …            ┆ …                       │\n",
      "│ 42430507    ┆ 484          ┆ 71.3                    │\n",
      "│ 22650439    ┆ 484          ┆ 91.183333               │\n",
      "│ 42522990    ┆ 484          ┆ 102.016667              │\n",
      "│ 41774596    ┆ 485          ┆ 82.683333               │\n",
      "│ 41215172    ┆ 486          ┆ 126.883333              │\n",
      "└─────────────┴──────────────┴─────────────────────────┘\n",
      "shape: (9, 3)\n",
      "┌────────────┬──────────────┬─────────────────────────┐\n",
      "│ statistic  ┆ events_count ┆ sub_session_length_mins │\n",
      "│ ---        ┆ ---          ┆ ---                     │\n",
      "│ str        ┆ f64          ┆ f64                     │\n",
      "╞════════════╪══════════════╪═════════════════════════╡\n",
      "│ count      ┆ 2.801871e7   ┆ 2.801871e7              │\n",
      "│ null_count ┆ 0.0          ┆ 0.0                     │\n",
      "│ mean       ┆ 7.090749     ┆ 9.554421                │\n",
      "│ std        ┆ 9.324949     ┆ 14.518494               │\n",
      "│ min        ┆ 2.0          ┆ 0.0                     │\n",
      "│ 25%        ┆ 2.0          ┆ 1.266667                │\n",
      "│ 50%        ┆ 4.0          ┆ 4.0                     │\n",
      "│ 75%        ┆ 8.0          ┆ 11.816667               │\n",
      "│ max        ┆ 486.0        ┆ 704.783333              │\n",
      "└────────────┴──────────────┴─────────────────────────┘\n"
     ]
    }
   ],
   "source": [
    "# Find out how many events are in the sub sessions and how long the sub sessions are in minutes\n",
    "sub_session_length = (\n",
    "    sub_sessions\n",
    "    .group_by(\"sub_session\")\n",
    "    .agg(\n",
    "        (pl.count(\"type\") + 1).alias(\"events_count\"), # +1 because all rows have 2 events\n",
    "        ((pl.max(\"next_ts\") - pl.min(\"ts\")) / 60).alias(\"sub_session_length_mins\")\n",
    "    )\n",
    "    .sort([\"events_count\", \"sub_session_length_mins\"])\n",
    ")\n",
    "\n",
    "print(sub_session_length)\n",
    "print(sub_session_length.select([\"events_count\", \"sub_session_length_mins\"]).describe())"
   ],
   "metadata": {
    "collapsed": false
   }
  },
  {
   "cell_type": "markdown",
   "source": [
    "Mean event count is 7.09 where as the median event count is 4. Mean sub session length is 9.55 minutes where as the median sub session length is 4 minutes.\n",
    "Max event count is 486 and max sub session length is 11 hours and 74 minutes."
   ],
   "metadata": {
    "collapsed": false
   }
  },
  {
   "cell_type": "markdown",
   "source": [
    "### Sub session clicks, carts, orders"
   ],
   "metadata": {
    "collapsed": false
   }
  },
  {
   "cell_type": "code",
   "execution_count": 32,
   "outputs": [
    {
     "name": "stdout",
     "output_type": "stream",
     "text": [
      "shape: (9, 2)\n",
      "┌────────────┬──────────────┐\n",
      "│ statistic  ┆ clicks_count │\n",
      "│ ---        ┆ ---          │\n",
      "│ str        ┆ f64          │\n",
      "╞════════════╪══════════════╡\n",
      "│ count      ┆ 2.7883177e7  │\n",
      "│ null_count ┆ 0.0          │\n",
      "│ mean       ┆ 5.465321     │\n",
      "│ std        ┆ 8.199734     │\n",
      "│ min        ┆ 1.0          │\n",
      "│ 25%        ┆ 1.0          │\n",
      "│ 50%        ┆ 3.0          │\n",
      "│ 75%        ┆ 6.0          │\n",
      "│ max        ┆ 485.0        │\n",
      "└────────────┴──────────────┘\n",
      "shape: (9, 2)\n",
      "┌────────────┬─────────────┐\n",
      "│ statistic  ┆ carts_count │\n",
      "│ ---        ┆ ---         │\n",
      "│ str        ┆ f64         │\n",
      "╞════════════╪═════════════╡\n",
      "│ count      ┆ 6.184977e6  │\n",
      "│ null_count ┆ 0.0         │\n",
      "│ mean       ┆ 2.419995    │\n",
      "│ std        ┆ 2.766632    │\n",
      "│ min        ┆ 1.0         │\n",
      "│ 25%        ┆ 1.0         │\n",
      "│ 50%        ┆ 1.0         │\n",
      "│ 75%        ┆ 3.0         │\n",
      "│ max        ┆ 387.0       │\n",
      "└────────────┴─────────────┘\n",
      "shape: (9, 2)\n",
      "┌────────────┬──────────────┐\n",
      "│ statistic  ┆ orders_count │\n",
      "│ ---        ┆ ---          │\n",
      "│ str        ┆ f64          │\n",
      "╞════════════╪══════════════╡\n",
      "│ count      ┆ 1.385289e6   │\n",
      "│ null_count ┆ 0.0          │\n",
      "│ mean       ┆ 2.379856     │\n",
      "│ std        ┆ 2.609262     │\n",
      "│ min        ┆ 1.0          │\n",
      "│ 25%        ┆ 1.0          │\n",
      "│ 50%        ┆ 1.0          │\n",
      "│ 75%        ┆ 3.0          │\n",
      "│ max        ┆ 76.0         │\n",
      "└────────────┴──────────────┘\n"
     ]
    }
   ],
   "source": [
    "sub_session_clicks = (\n",
    "    sub_sessions\n",
    "    .filter(pl.col(\"type\") == \"clicks\")\n",
    "    .group_by(\"sub_session\")\n",
    "    .agg(pl.count(\"type\").alias(\"clicks_count\"))\n",
    "    .sort(\"clicks_count\", descending=True)\n",
    ")\n",
    "\n",
    "sub_session_carts = (\n",
    "    sub_sessions\n",
    "    .filter(pl.col(\"type\") == \"carts\")\n",
    "    .group_by(\"sub_session\")\n",
    "    .agg(pl.count(\"type\").alias(\"carts_count\"))\n",
    "    .sort(\"carts_count\", descending=True)\n",
    ")\n",
    "\n",
    "sub_session_orders = (\n",
    "    sub_sessions\n",
    "    .filter(pl.col(\"type\") == \"orders\")\n",
    "    .group_by(\"sub_session\")\n",
    "    .agg(pl.count(\"type\").alias(\"orders_count\"))\n",
    "    .sort(\"orders_count\", descending=True)\n",
    ")\n",
    "\n",
    "print(sub_session_clicks.select(\"clicks_count\").describe())\n",
    "print(sub_session_carts.select(\"carts_count\").describe())\n",
    "print(sub_session_orders.select(\"orders_count\").describe())"
   ],
   "metadata": {
    "collapsed": false
   }
  },
  {
   "cell_type": "markdown",
   "source": [
    "Mean clicks count is 5.47 and median is 3. Mean carts count is 2.42 and median is 1. Mean orders count is 2.38 and median is 1."
   ],
   "metadata": {
    "collapsed": false
   }
  },
  {
   "cell_type": "markdown",
   "source": [
    "### Subsequent clicks\n",
    "\n",
    "Let's see how many aids have subsequent clicks to itself. Collect the info from sub sessions."
   ],
   "metadata": {
    "collapsed": false
   }
  },
  {
   "cell_type": "code",
   "execution_count": 30,
   "outputs": [
    {
     "name": "stdout",
     "output_type": "stream",
     "text": [
      "Unique aids: 1855603\n",
      "Clicks on same aid: 1200419\n",
      "Percentage of aids having subsequent clicks to itself 64.69 %\n"
     ]
    }
   ],
   "source": [
    "subsequent_clicks_count = (\n",
    "    sub_sessions\n",
    "    .filter((pl.col(\"type\") == \"clicks\") & (pl.col(\"next_type\") == \"clicks\"))\n",
    "    .select([\"aid\", \"next_aid\"])\n",
    "    .group_by([\"aid\", \"next_aid\"])\n",
    "    .agg(pl.len().alias(\"count\"))\n",
    "    .sort(\"count\", descending=True)\n",
    ")\n",
    "\n",
    "subsequent_clicks_sum = (\n",
    "    subsequent_clicks_count\n",
    "    .group_by(\"aid\")\n",
    "    .agg(pl.sum(\"count\").alias(\"sum\"))\n",
    "    .sort(\"sum\", descending=True)\n",
    ")\n",
    "\n",
    "clicks_on_same_aid = subsequent_clicks_count.filter(pl.col(\"aid\") == pl.col(\"next_aid\")).select(\"aid\").n_unique()\n",
    "\n",
    "print(f\"Unique aids: {items_count}\")\n",
    "print(f\"Clicks on same aid: {clicks_on_same_aid}\")\n",
    "print(f\"Percentage of aids having subsequent clicks to itself {clicks_on_same_aid / items_count * 100:.2f} %\")"
   ],
   "metadata": {
    "collapsed": false
   }
  },
  {
   "cell_type": "markdown",
   "source": [
    "64.69 % of aids have subsequent clicks to itself."
   ],
   "metadata": {
    "collapsed": false
   }
  }
 ],
 "metadata": {
  "kernelspec": {
   "display_name": "Python 3",
   "language": "python",
   "name": "python3"
  },
  "language_info": {
   "codemirror_mode": {
    "name": "ipython",
    "version": 2
   },
   "file_extension": ".py",
   "mimetype": "text/x-python",
   "name": "python",
   "nbconvert_exporter": "python",
   "pygments_lexer": "ipython2",
   "version": "2.7.6"
  }
 },
 "nbformat": 4,
 "nbformat_minor": 0
}
